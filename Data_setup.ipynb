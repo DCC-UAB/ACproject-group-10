{
 "cells": [
  {
   "cell_type": "code",
   "execution_count": 120,
   "id": "initial_id",
   "metadata": {
    "ExecuteTime": {
     "end_time": "2024-11-22T14:18:23.783789Z",
     "start_time": "2024-11-22T14:18:23.477008Z"
    },
    "collapsed": true
   },
   "outputs": [
    {
     "data": {
      "text/plain": [
       "'\\n# Download latest version\\npath = kagglehub.dataset_download(\"Path to working directory\", \"dataset_name\") # Esto es para descartar el dataset inicial, poner el path en tu ordenador local\\n\\nprint(\"Path to dataset files:\", path)\\n'"
      ]
     },
     "execution_count": 120,
     "metadata": {},
     "output_type": "execute_result"
    }
   ],
   "source": [
    "import kagglehub\n",
    "\n",
    "\"\"\"\n",
    "# Download latest version\n",
    "path = kagglehub.dataset_download(\"Path to working directory\", \"dataset_name\") # Esto es para descartar el dataset inicial, poner el path en tu ordenador local\n",
    "\n",
    "print(\"Path to dataset files:\", path)\n",
    "\"\"\""
   ]
  },
  {
   "cell_type": "code",
   "execution_count": 121,
   "id": "fb2cfe75dc75c5b5",
   "metadata": {
    "ExecuteTime": {
     "end_time": "2024-11-24T15:44:37.977741Z",
     "start_time": "2024-11-24T15:44:37.950223Z"
    }
   },
   "outputs": [
    {
     "data": {
      "text/html": [
       "<div>\n",
       "<style scoped>\n",
       "    .dataframe tbody tr th:only-of-type {\n",
       "        vertical-align: middle;\n",
       "    }\n",
       "\n",
       "    .dataframe tbody tr th {\n",
       "        vertical-align: top;\n",
       "    }\n",
       "\n",
       "    .dataframe thead th {\n",
       "        text-align: right;\n",
       "    }\n",
       "</style>\n",
       "<table border=\"1\" class=\"dataframe\">\n",
       "  <thead>\n",
       "    <tr style=\"text-align: right;\">\n",
       "      <th></th>\n",
       "      <th>Unnamed: 0</th>\n",
       "      <th>reviewerName</th>\n",
       "      <th>overall</th>\n",
       "      <th>reviewText</th>\n",
       "      <th>reviewTime</th>\n",
       "      <th>day_diff</th>\n",
       "      <th>helpful_yes</th>\n",
       "      <th>helpful_no</th>\n",
       "      <th>total_vote</th>\n",
       "      <th>score_pos_neg_diff</th>\n",
       "      <th>score_average_rating</th>\n",
       "      <th>wilson_lower_bound</th>\n",
       "    </tr>\n",
       "  </thead>\n",
       "  <tbody>\n",
       "    <tr>\n",
       "      <th>0</th>\n",
       "      <td>0</td>\n",
       "      <td>NaN</td>\n",
       "      <td>4.0</td>\n",
       "      <td>No issues.</td>\n",
       "      <td>2014-07-23</td>\n",
       "      <td>138</td>\n",
       "      <td>0</td>\n",
       "      <td>0</td>\n",
       "      <td>0</td>\n",
       "      <td>0</td>\n",
       "      <td>0.0</td>\n",
       "      <td>0.0</td>\n",
       "    </tr>\n",
       "    <tr>\n",
       "      <th>1</th>\n",
       "      <td>1</td>\n",
       "      <td>0mie</td>\n",
       "      <td>5.0</td>\n",
       "      <td>Purchased this for my device, it worked as adv...</td>\n",
       "      <td>2013-10-25</td>\n",
       "      <td>409</td>\n",
       "      <td>0</td>\n",
       "      <td>0</td>\n",
       "      <td>0</td>\n",
       "      <td>0</td>\n",
       "      <td>0.0</td>\n",
       "      <td>0.0</td>\n",
       "    </tr>\n",
       "    <tr>\n",
       "      <th>2</th>\n",
       "      <td>2</td>\n",
       "      <td>1K3</td>\n",
       "      <td>4.0</td>\n",
       "      <td>it works as expected. I should have sprung for...</td>\n",
       "      <td>2012-12-23</td>\n",
       "      <td>715</td>\n",
       "      <td>0</td>\n",
       "      <td>0</td>\n",
       "      <td>0</td>\n",
       "      <td>0</td>\n",
       "      <td>0.0</td>\n",
       "      <td>0.0</td>\n",
       "    </tr>\n",
       "    <tr>\n",
       "      <th>3</th>\n",
       "      <td>3</td>\n",
       "      <td>1m2</td>\n",
       "      <td>5.0</td>\n",
       "      <td>This think has worked out great.Had a diff. br...</td>\n",
       "      <td>2013-11-21</td>\n",
       "      <td>382</td>\n",
       "      <td>0</td>\n",
       "      <td>0</td>\n",
       "      <td>0</td>\n",
       "      <td>0</td>\n",
       "      <td>0.0</td>\n",
       "      <td>0.0</td>\n",
       "    </tr>\n",
       "    <tr>\n",
       "      <th>4</th>\n",
       "      <td>4</td>\n",
       "      <td>2&amp;amp;1/2Men</td>\n",
       "      <td>5.0</td>\n",
       "      <td>Bought it with Retail Packaging, arrived legit...</td>\n",
       "      <td>2013-07-13</td>\n",
       "      <td>513</td>\n",
       "      <td>0</td>\n",
       "      <td>0</td>\n",
       "      <td>0</td>\n",
       "      <td>0</td>\n",
       "      <td>0.0</td>\n",
       "      <td>0.0</td>\n",
       "    </tr>\n",
       "  </tbody>\n",
       "</table>\n",
       "</div>"
      ],
      "text/plain": [
       "   Unnamed: 0  reviewerName  overall  \\\n",
       "0           0           NaN      4.0   \n",
       "1           1          0mie      5.0   \n",
       "2           2           1K3      4.0   \n",
       "3           3           1m2      5.0   \n",
       "4           4  2&amp;1/2Men      5.0   \n",
       "\n",
       "                                          reviewText  reviewTime  day_diff  \\\n",
       "0                                         No issues.  2014-07-23       138   \n",
       "1  Purchased this for my device, it worked as adv...  2013-10-25       409   \n",
       "2  it works as expected. I should have sprung for...  2012-12-23       715   \n",
       "3  This think has worked out great.Had a diff. br...  2013-11-21       382   \n",
       "4  Bought it with Retail Packaging, arrived legit...  2013-07-13       513   \n",
       "\n",
       "   helpful_yes  helpful_no  total_vote  score_pos_neg_diff  \\\n",
       "0            0           0           0                   0   \n",
       "1            0           0           0                   0   \n",
       "2            0           0           0                   0   \n",
       "3            0           0           0                   0   \n",
       "4            0           0           0                   0   \n",
       "\n",
       "   score_average_rating  wilson_lower_bound  \n",
       "0                   0.0                 0.0  \n",
       "1                   0.0                 0.0  \n",
       "2                   0.0                 0.0  \n",
       "3                   0.0                 0.0  \n",
       "4                   0.0                 0.0  "
      ]
     },
     "execution_count": 121,
     "metadata": {},
     "output_type": "execute_result"
    }
   ],
   "source": [
    "import pandas as pd\n",
    "df = pd.read_csv('amazon_reviews.csv')\n",
    "df.head() #Aqui podemos ver el dataset usado, varias columnas innecesarias"
   ]
  },
  {
   "cell_type": "code",
   "execution_count": 122,
   "id": "9dc28ed821d5d9e9",
   "metadata": {
    "ExecuteTime": {
     "end_time": "2024-11-24T15:44:38.209350Z",
     "start_time": "2024-11-24T15:44:38.197840Z"
    }
   },
   "outputs": [
    {
     "data": {
      "text/html": [
       "<div>\n",
       "<style scoped>\n",
       "    .dataframe tbody tr th:only-of-type {\n",
       "        vertical-align: middle;\n",
       "    }\n",
       "\n",
       "    .dataframe tbody tr th {\n",
       "        vertical-align: top;\n",
       "    }\n",
       "\n",
       "    .dataframe thead th {\n",
       "        text-align: right;\n",
       "    }\n",
       "</style>\n",
       "<table border=\"1\" class=\"dataframe\">\n",
       "  <thead>\n",
       "    <tr style=\"text-align: right;\">\n",
       "      <th></th>\n",
       "      <th>Unnamed: 0</th>\n",
       "      <th>overall</th>\n",
       "      <th>reviewText</th>\n",
       "    </tr>\n",
       "  </thead>\n",
       "  <tbody>\n",
       "    <tr>\n",
       "      <th>0</th>\n",
       "      <td>0</td>\n",
       "      <td>4.0</td>\n",
       "      <td>No issues.</td>\n",
       "    </tr>\n",
       "    <tr>\n",
       "      <th>1</th>\n",
       "      <td>1</td>\n",
       "      <td>5.0</td>\n",
       "      <td>Purchased this for my device, it worked as adv...</td>\n",
       "    </tr>\n",
       "    <tr>\n",
       "      <th>2</th>\n",
       "      <td>2</td>\n",
       "      <td>4.0</td>\n",
       "      <td>it works as expected. I should have sprung for...</td>\n",
       "    </tr>\n",
       "    <tr>\n",
       "      <th>3</th>\n",
       "      <td>3</td>\n",
       "      <td>5.0</td>\n",
       "      <td>This think has worked out great.Had a diff. br...</td>\n",
       "    </tr>\n",
       "    <tr>\n",
       "      <th>4</th>\n",
       "      <td>4</td>\n",
       "      <td>5.0</td>\n",
       "      <td>Bought it with Retail Packaging, arrived legit...</td>\n",
       "    </tr>\n",
       "  </tbody>\n",
       "</table>\n",
       "</div>"
      ],
      "text/plain": [
       "   Unnamed: 0  overall                                         reviewText\n",
       "0           0      4.0                                         No issues.\n",
       "1           1      5.0  Purchased this for my device, it worked as adv...\n",
       "2           2      4.0  it works as expected. I should have sprung for...\n",
       "3           3      5.0  This think has worked out great.Had a diff. br...\n",
       "4           4      5.0  Bought it with Retail Packaging, arrived legit..."
      ]
     },
     "execution_count": 122,
     "metadata": {},
     "output_type": "execute_result"
    }
   ],
   "source": [
    "#Limpiar el dataset\n",
    "dfSimple = df.drop(columns=['reviewerName', 'reviewTime', 'day_diff', 'helpful_yes', 'helpful_no', 'total_vote', 'score_pos_neg_diff', 'score_average_rating', 'wilson_lower_bound'])\n",
    "dfSimple.head()\n",
    "#De inicio trabajaremos con un dataset masivamente simplificado para poder hacer pruebas, la columna unnamed:0 no se elimina porque es un identificador de la fila y puede ser util mas adelante\n"
   ]
  },
  {
   "cell_type": "code",
   "execution_count": 123,
   "id": "40fbf1f5aa0af698",
   "metadata": {
    "ExecuteTime": {
     "end_time": "2024-11-24T15:44:43.551712Z",
     "start_time": "2024-11-24T15:44:43.541198Z"
    }
   },
   "outputs": [
    {
     "data": {
      "text/html": [
       "<div>\n",
       "<style scoped>\n",
       "    .dataframe tbody tr th:only-of-type {\n",
       "        vertical-align: middle;\n",
       "    }\n",
       "\n",
       "    .dataframe tbody tr th {\n",
       "        vertical-align: top;\n",
       "    }\n",
       "\n",
       "    .dataframe thead th {\n",
       "        text-align: right;\n",
       "    }\n",
       "</style>\n",
       "<table border=\"1\" class=\"dataframe\">\n",
       "  <thead>\n",
       "    <tr style=\"text-align: right;\">\n",
       "      <th></th>\n",
       "      <th>Unnamed: 0</th>\n",
       "      <th>overall</th>\n",
       "      <th>reviewText</th>\n",
       "    </tr>\n",
       "  </thead>\n",
       "  <tbody>\n",
       "    <tr>\n",
       "      <th>0</th>\n",
       "      <td>0</td>\n",
       "      <td>1</td>\n",
       "      <td>No issues.</td>\n",
       "    </tr>\n",
       "    <tr>\n",
       "      <th>1</th>\n",
       "      <td>1</td>\n",
       "      <td>1</td>\n",
       "      <td>Purchased this for my device, it worked as adv...</td>\n",
       "    </tr>\n",
       "    <tr>\n",
       "      <th>2</th>\n",
       "      <td>2</td>\n",
       "      <td>1</td>\n",
       "      <td>it works as expected. I should have sprung for...</td>\n",
       "    </tr>\n",
       "    <tr>\n",
       "      <th>3</th>\n",
       "      <td>3</td>\n",
       "      <td>1</td>\n",
       "      <td>This think has worked out great.Had a diff. br...</td>\n",
       "    </tr>\n",
       "    <tr>\n",
       "      <th>4</th>\n",
       "      <td>4</td>\n",
       "      <td>1</td>\n",
       "      <td>Bought it with Retail Packaging, arrived legit...</td>\n",
       "    </tr>\n",
       "    <tr>\n",
       "      <th>...</th>\n",
       "      <td>...</td>\n",
       "      <td>...</td>\n",
       "      <td>...</td>\n",
       "    </tr>\n",
       "    <tr>\n",
       "      <th>995</th>\n",
       "      <td>995</td>\n",
       "      <td>1</td>\n",
       "      <td>Gave my galaxy S4 plenty of memory and at a go...</td>\n",
       "    </tr>\n",
       "    <tr>\n",
       "      <th>996</th>\n",
       "      <td>996</td>\n",
       "      <td>1</td>\n",
       "      <td>Bought a digital recorder with a memory card s...</td>\n",
       "    </tr>\n",
       "    <tr>\n",
       "      <th>997</th>\n",
       "      <td>997</td>\n",
       "      <td>1</td>\n",
       "      <td>Not much to say, its a memory card but it work...</td>\n",
       "    </tr>\n",
       "    <tr>\n",
       "      <th>998</th>\n",
       "      <td>998</td>\n",
       "      <td>1</td>\n",
       "      <td>32 gig MicroSD card that costs less than a dol...</td>\n",
       "    </tr>\n",
       "    <tr>\n",
       "      <th>999</th>\n",
       "      <td>999</td>\n",
       "      <td>1</td>\n",
       "      <td>I'm a nerd and a hoarder. I waited a year for ...</td>\n",
       "    </tr>\n",
       "  </tbody>\n",
       "</table>\n",
       "<p>1000 rows × 3 columns</p>\n",
       "</div>"
      ],
      "text/plain": [
       "     Unnamed: 0  overall                                         reviewText\n",
       "0             0        1                                         No issues.\n",
       "1             1        1  Purchased this for my device, it worked as adv...\n",
       "2             2        1  it works as expected. I should have sprung for...\n",
       "3             3        1  This think has worked out great.Had a diff. br...\n",
       "4             4        1  Bought it with Retail Packaging, arrived legit...\n",
       "..          ...      ...                                                ...\n",
       "995         995        1  Gave my galaxy S4 plenty of memory and at a go...\n",
       "996         996        1  Bought a digital recorder with a memory card s...\n",
       "997         997        1  Not much to say, its a memory card but it work...\n",
       "998         998        1  32 gig MicroSD card that costs less than a dol...\n",
       "999         999        1  I'm a nerd and a hoarder. I waited a year for ...\n",
       "\n",
       "[1000 rows x 3 columns]"
      ]
     },
     "execution_count": 123,
     "metadata": {},
     "output_type": "execute_result"
    }
   ],
   "source": [
    "#Por ahora, trabajaremos con valores de 0 o 1 en la columna overall para tener un problema simple y poder de inicio identifcar de manera binaria si es positiva o negativa la review. Despues, querremos predecir la nota de la review por el texto con mas exactitud\n",
    "dfSimpleBinary = dfSimple.copy()\n",
    "dfSimpleBinary['overall'] = dfSimpleBinary['overall'].apply(lambda x: 1 if x > 2.5 else 0)\n",
    "dfSimpleBinary['overall'].value_counts()\n",
    "dfSimpleBinary.head(1000)"
   ]
  },
  {
   "cell_type": "code",
   "execution_count": 124,
   "id": "82b1816b6313d1e4",
   "metadata": {
    "ExecuteTime": {
     "end_time": "2024-11-24T15:47:06.745771Z",
     "start_time": "2024-11-24T15:47:06.716733Z"
    }
   },
   "outputs": [],
   "source": [
    "#Guardamos el dataset limpio para no sobreescribirlo accidentalmente, este paso es solo una precaucion. solo falta borrar los nans\n",
    "dfSimpleBinary.dropna(subset=[\"reviewText\"], inplace=True)\n",
    "dfSimpleBinary.to_csv('amazon_reviews_simpleBinary.csv', index=False)"
   ]
  },
  {
   "cell_type": "code",
   "execution_count": 125,
   "id": "4bb11e23",
   "metadata": {},
   "outputs": [
    {
     "name": "stdout",
     "output_type": "stream",
     "text": [
      "Requirement already satisfied: nltk in /Users/lianbaguebatlle/opt/anaconda3/lib/python3.9/site-packages (3.9.1)\n",
      "Requirement already satisfied: joblib in /Users/lianbaguebatlle/opt/anaconda3/lib/python3.9/site-packages (from nltk) (1.3.2)\n",
      "Requirement already satisfied: tqdm in /Users/lianbaguebatlle/opt/anaconda3/lib/python3.9/site-packages (from nltk) (4.64.0)\n",
      "Requirement already satisfied: regex>=2021.8.3 in /Users/lianbaguebatlle/opt/anaconda3/lib/python3.9/site-packages (from nltk) (2024.11.6)\n",
      "Requirement already satisfied: click in /Users/lianbaguebatlle/opt/anaconda3/lib/python3.9/site-packages (from nltk) (8.0.4)\n"
     ]
    }
   ],
   "source": [
    "# Descarregar Natural Language Toolkit (NLTK): Llibreria python per treballar amb text\n",
    "!pip install nltk"
   ]
  },
  {
   "cell_type": "code",
   "execution_count": 126,
   "id": "72896f94fe63f971",
   "metadata": {},
   "outputs": [],
   "source": [
    "import re\n",
    "from nltk.corpus import stopwords\n",
    "from nltk.tokenize import word_tokenize\n",
    "import nltk"
   ]
  },
  {
   "cell_type": "code",
   "execution_count": 127,
   "id": "3344a866",
   "metadata": {},
   "outputs": [
    {
     "name": "stderr",
     "output_type": "stream",
     "text": [
      "[nltk_data] Downloading package stopwords to\n",
      "[nltk_data]     /Users/lianbaguebatlle/nltk_data...\n",
      "[nltk_data]   Package stopwords is already up-to-date!\n",
      "[nltk_data] Downloading package punkt to\n",
      "[nltk_data]     /Users/lianbaguebatlle/nltk_data...\n",
      "[nltk_data]   Package punkt is already up-to-date!\n"
     ]
    },
    {
     "data": {
      "text/plain": [
       "True"
      ]
     },
     "execution_count": 127,
     "metadata": {},
     "output_type": "execute_result"
    }
   ],
   "source": [
    "# NLTK resources\n",
    "nltk.download('stopwords') #Llista de stopwords + comunes\n",
    "nltk.download('punkt')"
   ]
  },
  {
   "cell_type": "code",
   "execution_count": 128,
   "id": "54e3a7f6",
   "metadata": {},
   "outputs": [],
   "source": [
    "# Cleaning function : punctuation, numbers, URL, convert to lowercase, tokenize, remove stopwords.\n",
    "\"\"\"\n",
    "def clean_text(text):\n",
    "    # Remove URLs\n",
    "    text = re.sub(r\"http\\S+|www\\S+|https\\S+\", '', text, flags=re.MULTILINE)\n",
    "    # Remove punctuation and numbers\n",
    "    text = re.sub(r'[^a-zA-Z\\s]', '', text)\n",
    "    # Convert to lowercase\n",
    "    text = text.lower()\n",
    "    # Tokenize the text\n",
    "    #words = word_tokenize(text)\n",
    "    # Remove stopwords\n",
    "    stop_words = set(stopwords.words('english'))\n",
    "    words = [word for word in text if word not in stop_words]\n",
    "    return ' '.join(words)\n",
    "\"\"\"\n",
    "\n",
    "def clean_text(text):\n",
    "    # Remove URLs\n",
    "    text = re.sub(r\"http\\S+|www\\S+|https\\S+\", '', text, flags=re.MULTILINE)\n",
    "    # Remove punctuation and numbers\n",
    "    text = re.sub(r'[^a-zA-Z\\s]', '', text)\n",
    "    # Convert to lowercase\n",
    "    text = text.lower()\n",
    "    # Split text into words\n",
    "    words = text.split()\n",
    "    # Remove stopwords\n",
    "    stop_words = set(stopwords.words('english'))\n",
    "    words = [word for word in words if word not in stop_words]\n",
    "    # Join words back into a single string\n",
    "    return ' '.join(words)"
   ]
  },
  {
   "cell_type": "code",
   "execution_count": 129,
   "id": "8f86e814",
   "metadata": {},
   "outputs": [
    {
     "name": "stdout",
     "output_type": "stream",
     "text": [
      "                                          reviewText  overall\n",
      "0                                             issues        1\n",
      "1  purchased device worked advertised never much ...        1\n",
      "2  works expected sprung higher capacity think ma...        1\n",
      "3  think worked greathad diff bran gb card went s...        1\n",
      "4  bought retail packaging arrived legit orange e...        1\n"
     ]
    }
   ],
   "source": [
    "# Create a new DataFrame with cleaned reviewText and the overall column\n",
    "dfSimpleBinaryCleaned = pd.DataFrame()\n",
    "dfSimpleBinaryCleaned['reviewText'] = dfSimpleBinary['reviewText'].apply(clean_text)  # Apply the cleaning function\n",
    "dfSimpleBinaryCleaned['overall'] = dfSimpleBinary['overall']  # Include the overall column\n",
    "\n",
    "print(dfSimpleBinaryCleaned.head())"
   ]
  },
  {
   "cell_type": "code",
   "execution_count": 130,
   "id": "4ecb2a6d",
   "metadata": {},
   "outputs": [
    {
     "name": "stdout",
     "output_type": "stream",
     "text": [
      "Cleaned dataset saved as 'amazon_reviews_simpleBinaryCleaned.csv'\n"
     ]
    }
   ],
   "source": [
    "# Save the cleaned dataset \n",
    "dfSimpleBinaryCleaned.to_csv('amazon_reviews_simpleBinaryCleaned.csv', index=False)\n",
    "\n",
    "print(\"Cleaned dataset saved as 'amazon_reviews_simpleBinaryCleaned.csv'\")"
   ]
  },
  {
   "cell_type": "code",
   "execution_count": 131,
   "id": "38ef9d35",
   "metadata": {},
   "outputs": [],
   "source": [
    "from sklearn.feature_extraction.text import TfidfVectorizer\n",
    "\n",
    "# Apply TF-IDF\n",
    "tfidf = TfidfVectorizer(max_features=5000)  # Limit to 5000 features for simplicity\n",
    "X = tfidf.fit_transform(dfSimpleBinaryCleaned['reviewText'])  \n",
    "\n",
    "# y = Etiqueta\n",
    "y = dfSimpleBinaryCleaned['overall']  "
   ]
  },
  {
   "cell_type": "code",
   "execution_count": 132,
   "id": "e570122c",
   "metadata": {},
   "outputs": [
    {
     "name": "stdout",
     "output_type": "stream",
     "text": [
      "  (0, 1811)\t1.0\n",
      "  (1, 371)\t0.4658817477827855\n",
      "  (1, 4010)\t0.3197017006470681\n",
      "  (1, 2004)\t0.25280027831644336\n",
      "  (1, 980)\t0.3515768967137597\n",
      "  (1, 3614)\t0.2634346235438177\n",
      "  (1, 2124)\t0.16342700659146378\n",
      "  (1, 2527)\t0.15894729456975054\n",
      "  (1, 2235)\t0.22880268690799568\n",
      "  (1, 2283)\t0.23746924750824877\n",
      "  (1, 65)\t0.3079511880305262\n",
      "  (1, 4814)\t0.22041352975002462\n",
      "  (1, 901)\t0.2500956641441643\n",
      "  (1, 2960)\t0.2390691997557985\n",
      "  (2, 580)\t0.3599249077638274\n",
      "  (2, 1995)\t0.2724857527031145\n",
      "  (2, 2453)\t0.37010345303225173\n",
      "  (2, 4490)\t0.2923424981405928\n",
      "  (2, 1032)\t0.32830745830827224\n",
      "  (2, 320)\t0.22808251479726946\n",
      "  (2, 2031)\t0.22707996152754703\n",
      "  (2, 4235)\t0.20417737012953208\n",
      "  (2, 460)\t0.18410928375398103\n",
      "  (2, 1617)\t0.26622741443620596\n",
      "  (2, 3834)\t0.4017209024878068\n",
      "  :\t:\n",
      "  (4912, 1308)\t0.4263389161515658\n",
      "  (4912, 3723)\t0.28806210890236555\n",
      "  (4912, 4566)\t0.36638481557545366\n",
      "  (4912, 1490)\t0.23531007146235436\n",
      "  (4912, 4010)\t0.41436370746172485\n",
      "  (4913, 3911)\t0.4182065391329696\n",
      "  (4913, 765)\t0.3989525266597641\n",
      "  (4913, 4653)\t0.25997268394000944\n",
      "  (4913, 4234)\t0.24015669759878802\n",
      "  (4913, 253)\t0.22071682877236964\n",
      "  (4913, 2312)\t0.28508550193026716\n",
      "  (4913, 2145)\t0.15976659846407365\n",
      "  (4913, 3781)\t0.19126394528883534\n",
      "  (4913, 1244)\t0.1713494738014364\n",
      "  (4913, 1582)\t0.31658284875502885\n",
      "  (4913, 3186)\t0.16793354503937785\n",
      "  (4913, 4309)\t0.181068427707951\n",
      "  (4913, 3723)\t0.1654368223710826\n",
      "  (4913, 1490)\t0.13514082307797956\n",
      "  (4913, 3476)\t0.1305370822597514\n",
      "  (4913, 2761)\t0.1352633682753502\n",
      "  (4913, 1941)\t0.16059607348659047\n",
      "  (4913, 1830)\t0.1724106629374529\n",
      "  (4913, 469)\t0.08437957493415664\n",
      "  (4913, 1435)\t0.12001865352878266\n"
     ]
    }
   ],
   "source": [
    "# Això nomes per ara per visualitzar el resultat despres de TF-IDF. X : sparse matrix (4914,5000), sparse matrix es representa per coordenades ja que en gran part està buida\n",
    "print(X)"
   ]
  }
 ],
 "metadata": {
  "kernelspec": {
   "display_name": "base",
   "language": "python",
   "name": "python3"
  },
  "language_info": {
   "codemirror_mode": {
    "name": "ipython",
    "version": 3
   },
   "file_extension": ".py",
   "mimetype": "text/x-python",
   "name": "python",
   "nbconvert_exporter": "python",
   "pygments_lexer": "ipython3",
   "version": "3.9.12"
  }
 },
 "nbformat": 4,
 "nbformat_minor": 5
}
