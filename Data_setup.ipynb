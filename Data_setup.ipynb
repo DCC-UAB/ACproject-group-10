{
 "cells": [
  {
   "cell_type": "code",
   "execution_count": 182,
   "id": "initial_id",
   "metadata": {
    "ExecuteTime": {
     "end_time": "2024-11-27T12:52:23.663264Z",
     "start_time": "2024-11-27T12:52:23.657266Z"
    },
    "collapsed": true
   },
   "outputs": [
    {
     "data": {
      "text/plain": [
       "'\\n# Download latest version\\npath = kagglehub.dataset_download(\"Path to working directory\", \"dataset_name\") # Esto es para descartar el dataset inicial, poner el path en tu ordenador local\\n\\nprint(\"Path to dataset files:\", path)\\n'"
      ]
     },
     "execution_count": 182,
     "metadata": {},
     "output_type": "execute_result"
    }
   ],
   "source": [
    "#import kagglehub\n",
    "\n",
    "\"\"\"\n",
    "# Download latest version\n",
    "path = kagglehub.dataset_download(\"Path to working directory\", \"dataset_name\") # Esto es para descartar el dataset inicial, poner el path en tu ordenador local\n",
    "\n",
    "print(\"Path to dataset files:\", path)\n",
    "\"\"\""
   ]
  },
  {
   "cell_type": "code",
   "execution_count": 183,
   "id": "fb2cfe75dc75c5b5",
   "metadata": {
    "ExecuteTime": {
     "end_time": "2024-11-27T12:52:23.727264Z",
     "start_time": "2024-11-27T12:52:23.690265Z"
    }
   },
   "outputs": [
    {
     "data": {
      "text/html": [
       "<div>\n",
       "<style scoped>\n",
       "    .dataframe tbody tr th:only-of-type {\n",
       "        vertical-align: middle;\n",
       "    }\n",
       "\n",
       "    .dataframe tbody tr th {\n",
       "        vertical-align: top;\n",
       "    }\n",
       "\n",
       "    .dataframe thead th {\n",
       "        text-align: right;\n",
       "    }\n",
       "</style>\n",
       "<table border=\"1\" class=\"dataframe\">\n",
       "  <thead>\n",
       "    <tr style=\"text-align: right;\">\n",
       "      <th></th>\n",
       "      <th>Unnamed: 0</th>\n",
       "      <th>reviewerName</th>\n",
       "      <th>overall</th>\n",
       "      <th>reviewText</th>\n",
       "      <th>reviewTime</th>\n",
       "      <th>day_diff</th>\n",
       "      <th>helpful_yes</th>\n",
       "      <th>helpful_no</th>\n",
       "      <th>total_vote</th>\n",
       "      <th>score_pos_neg_diff</th>\n",
       "      <th>score_average_rating</th>\n",
       "      <th>wilson_lower_bound</th>\n",
       "    </tr>\n",
       "  </thead>\n",
       "  <tbody>\n",
       "    <tr>\n",
       "      <th>0</th>\n",
       "      <td>0</td>\n",
       "      <td>NaN</td>\n",
       "      <td>4.0</td>\n",
       "      <td>No issues.</td>\n",
       "      <td>2014-07-23</td>\n",
       "      <td>138</td>\n",
       "      <td>0</td>\n",
       "      <td>0</td>\n",
       "      <td>0</td>\n",
       "      <td>0</td>\n",
       "      <td>0.0</td>\n",
       "      <td>0.0</td>\n",
       "    </tr>\n",
       "    <tr>\n",
       "      <th>1</th>\n",
       "      <td>1</td>\n",
       "      <td>0mie</td>\n",
       "      <td>5.0</td>\n",
       "      <td>Purchased this for my device, it worked as adv...</td>\n",
       "      <td>2013-10-25</td>\n",
       "      <td>409</td>\n",
       "      <td>0</td>\n",
       "      <td>0</td>\n",
       "      <td>0</td>\n",
       "      <td>0</td>\n",
       "      <td>0.0</td>\n",
       "      <td>0.0</td>\n",
       "    </tr>\n",
       "    <tr>\n",
       "      <th>2</th>\n",
       "      <td>2</td>\n",
       "      <td>1K3</td>\n",
       "      <td>4.0</td>\n",
       "      <td>it works as expected. I should have sprung for...</td>\n",
       "      <td>2012-12-23</td>\n",
       "      <td>715</td>\n",
       "      <td>0</td>\n",
       "      <td>0</td>\n",
       "      <td>0</td>\n",
       "      <td>0</td>\n",
       "      <td>0.0</td>\n",
       "      <td>0.0</td>\n",
       "    </tr>\n",
       "    <tr>\n",
       "      <th>3</th>\n",
       "      <td>3</td>\n",
       "      <td>1m2</td>\n",
       "      <td>5.0</td>\n",
       "      <td>This think has worked out great.Had a diff. br...</td>\n",
       "      <td>2013-11-21</td>\n",
       "      <td>382</td>\n",
       "      <td>0</td>\n",
       "      <td>0</td>\n",
       "      <td>0</td>\n",
       "      <td>0</td>\n",
       "      <td>0.0</td>\n",
       "      <td>0.0</td>\n",
       "    </tr>\n",
       "    <tr>\n",
       "      <th>4</th>\n",
       "      <td>4</td>\n",
       "      <td>2&amp;amp;1/2Men</td>\n",
       "      <td>5.0</td>\n",
       "      <td>Bought it with Retail Packaging, arrived legit...</td>\n",
       "      <td>2013-07-13</td>\n",
       "      <td>513</td>\n",
       "      <td>0</td>\n",
       "      <td>0</td>\n",
       "      <td>0</td>\n",
       "      <td>0</td>\n",
       "      <td>0.0</td>\n",
       "      <td>0.0</td>\n",
       "    </tr>\n",
       "  </tbody>\n",
       "</table>\n",
       "</div>"
      ],
      "text/plain": [
       "   Unnamed: 0  reviewerName  overall  \\\n",
       "0           0           NaN      4.0   \n",
       "1           1          0mie      5.0   \n",
       "2           2           1K3      4.0   \n",
       "3           3           1m2      5.0   \n",
       "4           4  2&amp;1/2Men      5.0   \n",
       "\n",
       "                                          reviewText  reviewTime  day_diff  \\\n",
       "0                                         No issues.  2014-07-23       138   \n",
       "1  Purchased this for my device, it worked as adv...  2013-10-25       409   \n",
       "2  it works as expected. I should have sprung for...  2012-12-23       715   \n",
       "3  This think has worked out great.Had a diff. br...  2013-11-21       382   \n",
       "4  Bought it with Retail Packaging, arrived legit...  2013-07-13       513   \n",
       "\n",
       "   helpful_yes  helpful_no  total_vote  score_pos_neg_diff  \\\n",
       "0            0           0           0                   0   \n",
       "1            0           0           0                   0   \n",
       "2            0           0           0                   0   \n",
       "3            0           0           0                   0   \n",
       "4            0           0           0                   0   \n",
       "\n",
       "   score_average_rating  wilson_lower_bound  \n",
       "0                   0.0                 0.0  \n",
       "1                   0.0                 0.0  \n",
       "2                   0.0                 0.0  \n",
       "3                   0.0                 0.0  \n",
       "4                   0.0                 0.0  "
      ]
     },
     "execution_count": 183,
     "metadata": {},
     "output_type": "execute_result"
    }
   ],
   "source": [
    "import pandas as pd\n",
    "df = pd.read_csv('amazon_reviews.csv')\n",
    "df.head() #Aqui podemos ver el dataset usado, varias columnas innecesarias"
   ]
  },
  {
   "cell_type": "code",
   "execution_count": null,
   "id": "9dc28ed821d5d9e9",
   "metadata": {
    "ExecuteTime": {
     "end_time": "2024-11-27T12:52:23.791265Z",
     "start_time": "2024-11-27T12:52:23.776265Z"
    }
   },
   "outputs": [],
   "source": [
    "#Limpiar el dataset\n",
    "dfSimple = df.drop(columns=['reviewerName', 'reviewTime', 'day_diff', 'helpful_yes', 'helpful_no', 'total_vote', 'score_pos_neg_diff', 'score_average_rating', 'wilson_lower_bound'])\n",
    "\n",
    "#De inicio trabajaremos con un dataset masivamente simplificado para poder hacer pruebas, la columna unnamed:0 no se elimina porque es un identificador de la fila y puede ser util mas adelante\n",
    "dfSimple.dropna(subset=[\"reviewText\"], inplace=True)\n",
    "dfSimple.head()\n"
   ]
  },
  {
   "cell_type": "code",
   "execution_count": 185,
   "id": "6b83280d",
   "metadata": {},
   "outputs": [],
   "source": [
    "import re\n",
    "from nltk.corpus import stopwords\n",
    "from nltk.tokenize import word_tokenize\n",
    "import nltk"
   ]
  },
  {
   "cell_type": "code",
   "execution_count": 186,
   "id": "9e9b592d",
   "metadata": {},
   "outputs": [
    {
     "name": "stderr",
     "output_type": "stream",
     "text": [
      "[nltk_data] Downloading package stopwords to\n",
      "[nltk_data]     /Users/lianbaguebatlle/nltk_data...\n",
      "[nltk_data]   Package stopwords is already up-to-date!\n",
      "[nltk_data] Downloading package punkt to\n",
      "[nltk_data]     /Users/lianbaguebatlle/nltk_data...\n",
      "[nltk_data]   Package punkt is already up-to-date!\n"
     ]
    },
    {
     "data": {
      "text/plain": [
       "True"
      ]
     },
     "execution_count": 186,
     "metadata": {},
     "output_type": "execute_result"
    }
   ],
   "source": [
    "# NLTK resources\n",
    "nltk.download('stopwords') #Llista de stopwords + comunes\n",
    "nltk.download('punkt')"
   ]
  },
  {
   "cell_type": "code",
   "execution_count": 187,
   "id": "cbf6ac50",
   "metadata": {},
   "outputs": [],
   "source": [
    "# Cleaning function : punctuation, numbers, URL, convert to lowercase, tokenize, remove stopwords.\n",
    "\"\"\"\n",
    "def clean_text(text):\n",
    "    # Remove URLs\n",
    "    text = re.sub(r\"http\\S+|www\\S+|https\\S+\", '', text, flags=re.MULTILINE)\n",
    "    # Remove punctuation and numbers\n",
    "    text = re.sub(r'[^a-zA-Z\\s]', '', text)\n",
    "    # Convert to lowercase\n",
    "    text = text.lower()\n",
    "    # Tokenize the text\n",
    "    #words = word_tokenize(text)\n",
    "    # Remove stopwords\n",
    "    stop_words = set(stopwords.words('english'))\n",
    "    words = [word for word in text if word not in stop_words]\n",
    "    return ' '.join(words)\n",
    "\"\"\"\n",
    "\n",
    "def clean_text(text):\n",
    "    # Remove URLs\n",
    "    text = re.sub(r\"http\\S+|www\\S+|https\\S+\", '', text, flags=re.MULTILINE)\n",
    "    # Remove punctuation and numbers\n",
    "    text = re.sub(r'[^a-zA-Z\\s]', '', text)\n",
    "    # Convert to lowercase\n",
    "    text = text.lower()\n",
    "    # Split text into words\n",
    "    words = text.split()\n",
    "    # Remove stopwords\n",
    "    stop_words = set(stopwords.words('english'))\n",
    "    words = [word for word in words if word not in stop_words]\n",
    "    # Join words back into a single string\n",
    "    return ' '.join(words)"
   ]
  },
  {
   "cell_type": "code",
   "execution_count": 188,
   "id": "a23d3aa2",
   "metadata": {},
   "outputs": [
    {
     "name": "stdout",
     "output_type": "stream",
     "text": [
      "   Unnamed: 0  overall                                         reviewText\n",
      "0           0      4.0                                             issues\n",
      "1           1      5.0  purchased device worked advertised never much ...\n",
      "2           2      4.0  works expected sprung higher capacity think ma...\n",
      "3           3      5.0  think worked greathad diff bran gb card went s...\n",
      "4           4      5.0  bought retail packaging arrived legit orange e...\n"
     ]
    }
   ],
   "source": [
    "# Create a new DataFrame with cleaned reviewText and the overall column\n",
    "dfCleaned = dfSimple.copy()\n",
    "dfCleaned['reviewText'] = dfCleaned['reviewText'].apply(clean_text)  # Apply the cleaning function\n",
    "#dfCleaned['overall'] = dfCleaned['overall']  # Include the overall column\n",
    "\n",
    "print(dfCleaned.head())"
   ]
  },
  {
   "cell_type": "code",
   "execution_count": 189,
   "id": "4e584375",
   "metadata": {},
   "outputs": [
    {
     "name": "stdout",
     "output_type": "stream",
     "text": [
      "Cleaned dataset saved as 'amazon_reviews_simpleBinaryCleaned.csv'\n"
     ]
    }
   ],
   "source": [
    "# Save the cleaned dataset \n",
    "dfCleaned.to_csv('amazon_reviews_Cleaned.csv', index=False)\n",
    "\n",
    "print(\"Cleaned dataset saved as 'amazon_reviews_simpleBinaryCleaned.csv'\")"
   ]
  },
  {
   "cell_type": "code",
   "execution_count": 190,
   "id": "0e970d86",
   "metadata": {},
   "outputs": [
    {
     "data": {
      "text/html": [
       "<div>\n",
       "<style scoped>\n",
       "    .dataframe tbody tr th:only-of-type {\n",
       "        vertical-align: middle;\n",
       "    }\n",
       "\n",
       "    .dataframe tbody tr th {\n",
       "        vertical-align: top;\n",
       "    }\n",
       "\n",
       "    .dataframe thead th {\n",
       "        text-align: right;\n",
       "    }\n",
       "</style>\n",
       "<table border=\"1\" class=\"dataframe\">\n",
       "  <thead>\n",
       "    <tr style=\"text-align: right;\">\n",
       "      <th></th>\n",
       "      <th>Unnamed: 0</th>\n",
       "      <th>overall</th>\n",
       "      <th>reviewText</th>\n",
       "    </tr>\n",
       "  </thead>\n",
       "  <tbody>\n",
       "    <tr>\n",
       "      <th>0</th>\n",
       "      <td>0</td>\n",
       "      <td>1</td>\n",
       "      <td>issues</td>\n",
       "    </tr>\n",
       "    <tr>\n",
       "      <th>1</th>\n",
       "      <td>1</td>\n",
       "      <td>1</td>\n",
       "      <td>purchased device worked advertised never much ...</td>\n",
       "    </tr>\n",
       "    <tr>\n",
       "      <th>2</th>\n",
       "      <td>2</td>\n",
       "      <td>1</td>\n",
       "      <td>works expected sprung higher capacity think ma...</td>\n",
       "    </tr>\n",
       "    <tr>\n",
       "      <th>3</th>\n",
       "      <td>3</td>\n",
       "      <td>1</td>\n",
       "      <td>think worked greathad diff bran gb card went s...</td>\n",
       "    </tr>\n",
       "    <tr>\n",
       "      <th>4</th>\n",
       "      <td>4</td>\n",
       "      <td>1</td>\n",
       "      <td>bought retail packaging arrived legit orange e...</td>\n",
       "    </tr>\n",
       "    <tr>\n",
       "      <th>...</th>\n",
       "      <td>...</td>\n",
       "      <td>...</td>\n",
       "      <td>...</td>\n",
       "    </tr>\n",
       "    <tr>\n",
       "      <th>996</th>\n",
       "      <td>996</td>\n",
       "      <td>1</td>\n",
       "      <td>bought digital recorder memory card slot card ...</td>\n",
       "    </tr>\n",
       "    <tr>\n",
       "      <th>997</th>\n",
       "      <td>997</td>\n",
       "      <td>1</td>\n",
       "      <td>much say memory card works great go pro hero s...</td>\n",
       "    </tr>\n",
       "    <tr>\n",
       "      <th>998</th>\n",
       "      <td>998</td>\n",
       "      <td>1</td>\n",
       "      <td>gig microsd card costs less dollar per gig cla...</td>\n",
       "    </tr>\n",
       "    <tr>\n",
       "      <th>999</th>\n",
       "      <td>999</td>\n",
       "      <td>1</td>\n",
       "      <td>im nerd hoarder waited year memory gb wanted c...</td>\n",
       "    </tr>\n",
       "    <tr>\n",
       "      <th>1000</th>\n",
       "      <td>1000</td>\n",
       "      <td>1</td>\n",
       "      <td>great price works flawless note love glad purc...</td>\n",
       "    </tr>\n",
       "  </tbody>\n",
       "</table>\n",
       "<p>1000 rows × 3 columns</p>\n",
       "</div>"
      ],
      "text/plain": [
       "      Unnamed: 0  overall                                         reviewText\n",
       "0              0        1                                             issues\n",
       "1              1        1  purchased device worked advertised never much ...\n",
       "2              2        1  works expected sprung higher capacity think ma...\n",
       "3              3        1  think worked greathad diff bran gb card went s...\n",
       "4              4        1  bought retail packaging arrived legit orange e...\n",
       "...          ...      ...                                                ...\n",
       "996          996        1  bought digital recorder memory card slot card ...\n",
       "997          997        1  much say memory card works great go pro hero s...\n",
       "998          998        1  gig microsd card costs less dollar per gig cla...\n",
       "999          999        1  im nerd hoarder waited year memory gb wanted c...\n",
       "1000        1000        1  great price works flawless note love glad purc...\n",
       "\n",
       "[1000 rows x 3 columns]"
      ]
     },
     "execution_count": 190,
     "metadata": {},
     "output_type": "execute_result"
    }
   ],
   "source": [
    "#Por ahora, trabajaremos con valores de 0 o 1 en la columna overall para tener un problema simple y poder de inicio identifcar de manera binaria si es positiva o negativa la review. Despues, querremos predecir la nota de la review por el texto con mas exactitud\n",
    "dfSimpleBinary = dfCleaned.copy()\n",
    "dfSimpleBinary['overall'] = dfSimpleBinary['overall'].apply(lambda x: 1 if x > 2.5 else 0)\n",
    "dfSimpleBinary['overall'].value_counts()\n",
    "dfSimpleBinary.head(1000)"
   ]
  },
  {
   "cell_type": "code",
   "execution_count": 191,
   "id": "f024bbdb",
   "metadata": {},
   "outputs": [],
   "source": [
    "#Guardamos el dataset limpio para no sobreescribirlo accidentalmente, este paso es solo una precaucion. solo falta borrar los nans\n",
    "dfSimpleBinary.to_csv('amazon_reviews_simpleBinary.csv', index=False)"
   ]
  },
  {
   "cell_type": "code",
   "execution_count": 192,
   "id": "c13e5f6a",
   "metadata": {},
   "outputs": [],
   "source": [
    "from sklearn.feature_extraction.text import TfidfVectorizer\n",
    "\n",
    "# Apply TF-IDF\n",
    "tfidf = TfidfVectorizer(max_features=5000)  # Limit to 5000 features for simplicity\n",
    "X = tfidf.fit_transform(dfSimpleBinary['reviewText'])  \n",
    "\n",
    "# y = Etiqueta\n",
    "y = dfSimpleBinary['overall']  "
   ]
  },
  {
   "cell_type": "code",
   "execution_count": 193,
   "id": "4877c0bb",
   "metadata": {},
   "outputs": [
    {
     "name": "stdout",
     "output_type": "stream",
     "text": [
      "  (0, 1811)\t1.0\n",
      "  (1, 371)\t0.4658817477827855\n",
      "  (1, 4010)\t0.3197017006470681\n",
      "  (1, 2004)\t0.25280027831644336\n",
      "  (1, 980)\t0.3515768967137597\n",
      "  (1, 3614)\t0.2634346235438177\n",
      "  (1, 2124)\t0.16342700659146378\n",
      "  (1, 2527)\t0.15894729456975054\n",
      "  (1, 2235)\t0.22880268690799568\n",
      "  (1, 2283)\t0.23746924750824877\n",
      "  (1, 65)\t0.3079511880305262\n",
      "  (1, 4814)\t0.22041352975002462\n",
      "  (1, 901)\t0.2500956641441643\n",
      "  (1, 2960)\t0.2390691997557985\n",
      "  (2, 580)\t0.3599249077638274\n",
      "  (2, 1995)\t0.2724857527031145\n",
      "  (2, 2453)\t0.37010345303225173\n",
      "  (2, 4490)\t0.2923424981405928\n",
      "  (2, 1032)\t0.32830745830827224\n",
      "  (2, 320)\t0.22808251479726946\n",
      "  (2, 2031)\t0.22707996152754703\n",
      "  (2, 4235)\t0.20417737012953208\n",
      "  (2, 460)\t0.18410928375398103\n",
      "  (2, 1617)\t0.26622741443620596\n",
      "  (2, 3834)\t0.4017209024878068\n",
      "  :\t:\n",
      "  (4912, 1308)\t0.4263389161515658\n",
      "  (4912, 3723)\t0.28806210890236555\n",
      "  (4912, 4566)\t0.36638481557545366\n",
      "  (4912, 1490)\t0.23531007146235436\n",
      "  (4912, 4010)\t0.41436370746172485\n",
      "  (4913, 3911)\t0.4182065391329696\n",
      "  (4913, 765)\t0.3989525266597641\n",
      "  (4913, 4653)\t0.25997268394000944\n",
      "  (4913, 4234)\t0.24015669759878802\n",
      "  (4913, 253)\t0.22071682877236964\n",
      "  (4913, 2312)\t0.28508550193026716\n",
      "  (4913, 2145)\t0.15976659846407365\n",
      "  (4913, 3781)\t0.19126394528883534\n",
      "  (4913, 1244)\t0.1713494738014364\n",
      "  (4913, 1582)\t0.31658284875502885\n",
      "  (4913, 3186)\t0.16793354503937785\n",
      "  (4913, 4309)\t0.181068427707951\n",
      "  (4913, 3723)\t0.1654368223710826\n",
      "  (4913, 1490)\t0.13514082307797956\n",
      "  (4913, 3476)\t0.1305370822597514\n",
      "  (4913, 2761)\t0.1352633682753502\n",
      "  (4913, 1941)\t0.16059607348659047\n",
      "  (4913, 1830)\t0.1724106629374529\n",
      "  (4913, 469)\t0.08437957493415664\n",
      "  (4913, 1435)\t0.12001865352878266\n"
     ]
    }
   ],
   "source": [
    "# Això nomes per ara per visualitzar el resultat despres de TF-IDF. X : sparse matrix (4914,5000), sparse matrix es representa per coordenades ja que en gran part està buida\n",
    "print(X)"
   ]
  },
  {
   "cell_type": "code",
   "execution_count": 194,
   "id": "f8db055a",
   "metadata": {},
   "outputs": [
    {
     "name": "stdout",
     "output_type": "stream",
     "text": [
      "0       1\n",
      "1       1\n",
      "2       1\n",
      "3       1\n",
      "4       1\n",
      "       ..\n",
      "4910    0\n",
      "4911    1\n",
      "4912    1\n",
      "4913    1\n",
      "4914    1\n",
      "Name: overall, Length: 4914, dtype: int64\n"
     ]
    }
   ],
   "source": [
    "print(y)"
   ]
  },
  {
   "cell_type": "code",
   "execution_count": 195,
   "id": "93e3ebf8a587c7ab",
   "metadata": {
    "ExecuteTime": {
     "end_time": "2024-11-27T12:52:25.898225Z",
     "start_time": "2024-11-27T12:52:25.647226Z"
    }
   },
   "outputs": [
    {
     "name": "stdout",
     "output_type": "stream",
     "text": [
      "Resultados para Logistic Regression:\n",
      "Accuracy: 0.9451\n",
      "Precision: 0.9477\n",
      "Recall: 0.9968\n",
      "F1 Score: 0.9716\n",
      "ROC AUC: 0.9638\n",
      "\n",
      "\n",
      "Resultados para Random Forest:\n",
      "Accuracy: 0.9451\n",
      "Precision: 0.9450\n",
      "Recall: 1.0000\n",
      "F1 Score: 0.9717\n",
      "ROC AUC: 0.9503\n",
      "\n",
      "\n"
     ]
    },
    {
     "data": {
      "image/png": "[encoded data removed]",
      "text/plain": [
       "<Figure size 1000x500 with 1 Axes>"
      ]
     },
     "metadata": {},
     "output_type": "display_data"
    }
   ],
   "source": [
    "# train-test split\n",
    "from sklearn.model_selection import train_test_split\n",
    "X_train, X_test, y_train, y_test = train_test_split(X, y, test_size=0.2, random_state=42)\n",
    "import matplotlib.pyplot as plt\n",
    "from sklearn.ensemble import RandomForestClassifier\n",
    "from sklearn.linear_model import LogisticRegression\n",
    "from sklearn.metrics import accuracy_score, precision_score, recall_score, f1_score, roc_curve, auc\n",
    "import numpy as np\n",
    "\n",
    "# Entrenar modelos\n",
    "models = {\n",
    "    \"Logistic Regression\": LogisticRegression(max_iter=1000),\n",
    "    \"Random Forest\": RandomForestClassifier(n_estimators=100)\n",
    "}\n",
    "\n",
    "# Diccionario para almacenar los resultados\n",
    "results = {}\n",
    "\n",
    "for model_name, model in models.items():\n",
    "    # Entrenar el modelo\n",
    "    model.fit(X_train, y_train)\n",
    "    # Predecir en el conjunto de prueba\n",
    "    y_pred = model.predict(X_test)\n",
    "    y_pred_prob = model.predict_proba(X_test)[:, 1]\n",
    "    # Evaluar el rendimiento\n",
    "    accuracy = accuracy_score(y_test, y_pred)\n",
    "    precision = precision_score(y_test, y_pred)\n",
    "    recall = recall_score(y_test, y_pred)\n",
    "    f1 = f1_score(y_test, y_pred)\n",
    "    fpr, tpr, _ = roc_curve(y_test, y_pred_prob)\n",
    "    roc_auc = auc(fpr, tpr)\n",
    "    # Guardar los resultados\n",
    "    results[model_name] = {\n",
    "        \"Accuracy\": accuracy,\n",
    "        \"Precision\": precision,\n",
    "        \"Recall\": recall,\n",
    "        \"F1 Score\": f1,\n",
    "        \"ROC AUC\": roc_auc,\n",
    "        \"FPR\": fpr,\n",
    "        \"TPR\": tpr\n",
    "    }\n",
    "\n",
    "# Imprimir los resultados\n",
    "for model_name, metrics in results.items():\n",
    "    print(f\"Resultados para {model_name}:\")\n",
    "    for metric, value in metrics.items():\n",
    "        if isinstance(value, np.ndarray):\n",
    "            continue\n",
    "        print(f\"{metric}: {value:.4f}\")\n",
    "    print(\"\\n\")\n",
    "\n",
    "# Crear el gráfico comparativo de la curva ROC\n",
    "plt.figure(figsize=(10, 5))\n",
    "for model_name, metrics in results.items():\n",
    "    plt.plot(metrics[\"FPR\"], metrics[\"TPR\"], label=f'{model_name} (AUC = {metrics[\"ROC AUC\"]:.4f})')\n",
    "\n",
    "plt.plot([0, 1], [0, 1], 'k--')\n",
    "plt.xlim([0.0, 1.0])\n",
    "plt.ylim([0.0, 1.05])\n",
    "plt.xlabel('False Positive Rate')\n",
    "plt.ylabel('True Positive Rate')\n",
    "plt.title('Curva ROC Comparativa')\n",
    "plt.legend(loc=\"lower right\")\n",
    "plt.show()"
   ]
  },
  {
   "cell_type": "code",
   "execution_count": null,
   "id": "8e57e1e5c4ec1f98",
   "metadata": {
    "ExecuteTime": {
     "end_time": "2024-11-27T12:52:25.900227Z",
     "start_time": "2024-11-27T12:48:50.713112Z"
    }
   },
   "outputs": [
    {
     "name": "stdout",
     "output_type": "stream",
     "text": [
      "Evaluando Logistic Regression con validación cruzada:\n",
      "accuracy: 0.9385 (+/- 0.0010)\n",
      "precision: 0.9395 (+/- 0.0013)\n",
      "recall: 0.9985 (+/- 0.0009)\n",
      "f1: 0.9681 (+/- 0.0005)\n",
      "roc_auc: 0.9602 (+/- 0.0083)\n",
      "\n",
      "\n",
      "Evaluando Random Forest con validación cruzada:\n",
      "accuracy: 0.9355 (+/- 0.0010)\n",
      "precision: 0.9361 (+/- 0.0010)\n",
      "recall: 0.9993 (+/- 0.0009)\n",
      "f1: 0.9664 (+/- 0.0004)\n",
      "roc_auc: 0.9460 (+/- 0.0145)\n",
      "\n",
      "\n"
     ]
    }
   ],
   "source": [
    "# Cross Validation (PRUEBA)\n",
    "from sklearn.model_selection import cross_val_score, StratifiedKFold\n",
    "from sklearn.metrics import make_scorer\n",
    "\n",
    "# Definir las métricas de evaluación\n",
    "scoring = {\n",
    "    'accuracy': 'accuracy',\n",
    "    'precision': 'precision',\n",
    "    'recall': 'recall',\n",
    "    'f1': 'f1',\n",
    "    'roc_auc': 'roc_auc'\n",
    "}\n",
    "\n",
    "# Validación cruzada\n",
    "cv = StratifiedKFold(n_splits=5, shuffle=True, random_state=42)\n",
    "\n",
    "# Evaluar cada modelo con validación cruzada\n",
    "for model_name, model in models.items():\n",
    "    print(f\"Evaluando {model_name} con validación cruzada:\")\n",
    "    for metric_name, metric in scoring.items():\n",
    "        scores = cross_val_score(model, X, y, cv=cv, scoring=metric)\n",
    "        print(f\"{metric_name}: {scores.mean():.4f} (+/- {scores.std():.4f})\")\n",
    "    print(\"\\n\")"
   ]
  },
  {
   "cell_type": "code",
   "execution_count": null,
   "id": "f2f11b877c514aa3",
   "metadata": {},
   "outputs": [
    {
     "data": {
      "text/html": [
       "<div>\n",
       "<style scoped>\n",
       "    .dataframe tbody tr th:only-of-type {\n",
       "        vertical-align: middle;\n",
       "    }\n",
       "\n",
       "    .dataframe tbody tr th {\n",
       "        vertical-align: top;\n",
       "    }\n",
       "\n",
       "    .dataframe thead th {\n",
       "        text-align: right;\n",
       "    }\n",
       "</style>\n",
       "<table border=\"1\" class=\"dataframe\">\n",
       "  <thead>\n",
       "    <tr style=\"text-align: right;\">\n",
       "      <th></th>\n",
       "      <th>Unnamed: 0</th>\n",
       "      <th>overall</th>\n",
       "      <th>reviewText</th>\n",
       "    </tr>\n",
       "  </thead>\n",
       "  <tbody>\n",
       "    <tr>\n",
       "      <th>0</th>\n",
       "      <td>0</td>\n",
       "      <td>1</td>\n",
       "      <td>issues</td>\n",
       "    </tr>\n",
       "    <tr>\n",
       "      <th>1</th>\n",
       "      <td>1</td>\n",
       "      <td>1</td>\n",
       "      <td>purchased device worked advertised never much ...</td>\n",
       "    </tr>\n",
       "    <tr>\n",
       "      <th>2</th>\n",
       "      <td>2</td>\n",
       "      <td>1</td>\n",
       "      <td>works expected sprung higher capacity think ma...</td>\n",
       "    </tr>\n",
       "    <tr>\n",
       "      <th>3</th>\n",
       "      <td>3</td>\n",
       "      <td>1</td>\n",
       "      <td>think worked greathad diff bran gb card went s...</td>\n",
       "    </tr>\n",
       "    <tr>\n",
       "      <th>4</th>\n",
       "      <td>4</td>\n",
       "      <td>1</td>\n",
       "      <td>bought retail packaging arrived legit orange e...</td>\n",
       "    </tr>\n",
       "    <tr>\n",
       "      <th>...</th>\n",
       "      <td>...</td>\n",
       "      <td>...</td>\n",
       "      <td>...</td>\n",
       "    </tr>\n",
       "    <tr>\n",
       "      <th>95</th>\n",
       "      <td>95</td>\n",
       "      <td>1</td>\n",
       "      <td>bought gb microsd card best buy needed one mic...</td>\n",
       "    </tr>\n",
       "    <tr>\n",
       "      <th>96</th>\n",
       "      <td>96</td>\n",
       "      <td>1</td>\n",
       "      <td>got couldnt pass deal incredibly fast htc sens...</td>\n",
       "    </tr>\n",
       "    <tr>\n",
       "      <th>97</th>\n",
       "      <td>97</td>\n",
       "      <td>1</td>\n",
       "      <td>get lot storage small price micro sd adapter c...</td>\n",
       "    </tr>\n",
       "    <tr>\n",
       "      <th>98</th>\n",
       "      <td>98</td>\n",
       "      <td>1</td>\n",
       "      <td>ultra micro sdhc fine got working neither pack...</td>\n",
       "    </tr>\n",
       "    <tr>\n",
       "      <th>99</th>\n",
       "      <td>99</td>\n",
       "      <td>1</td>\n",
       "      <td>upgraded price dropped originally gig sandisk ...</td>\n",
       "    </tr>\n",
       "  </tbody>\n",
       "</table>\n",
       "<p>100 rows × 3 columns</p>\n",
       "</div>"
      ],
      "text/plain": [
       "    Unnamed: 0  overall                                         reviewText\n",
       "0            0        1                                             issues\n",
       "1            1        1  purchased device worked advertised never much ...\n",
       "2            2        1  works expected sprung higher capacity think ma...\n",
       "3            3        1  think worked greathad diff bran gb card went s...\n",
       "4            4        1  bought retail packaging arrived legit orange e...\n",
       "..         ...      ...                                                ...\n",
       "95          95        1  bought gb microsd card best buy needed one mic...\n",
       "96          96        1  got couldnt pass deal incredibly fast htc sens...\n",
       "97          97        1  get lot storage small price micro sd adapter c...\n",
       "98          98        1  ultra micro sdhc fine got working neither pack...\n",
       "99          99        1  upgraded price dropped originally gig sandisk ...\n",
       "\n",
       "[100 rows x 3 columns]"
      ]
     },
     "execution_count": 197,
     "metadata": {},
     "output_type": "execute_result"
    }
   ],
   "source": [
    "# CREAR NUEVO DATASET BINARIO CON THRESHOLD = 3 y aplicar los modelos implementados hasta ahora para ver si mejora\n",
    "dfSimpleBinary_threshold3 = dfCleaned.copy()\n",
    "dfSimpleBinary_threshold3['overall'] = dfSimpleBinary_threshold3['overall'].apply(lambda x: 1 if x > 3 else 0)\n",
    "dfSimpleBinary_threshold3['overall'].value_counts()\n",
    "dfSimpleBinary_threshold3.head(100)"
   ]
  },
  {
   "cell_type": "code",
   "execution_count": 201,
   "id": "d65a8a54",
   "metadata": {},
   "outputs": [],
   "source": [
    "dfSimpleBinary_threshold3.to_csv('amazon_reviews_simpleBinary_threshold3.csv', index=False)"
   ]
  },
  {
   "cell_type": "code",
   "execution_count": null,
   "id": "5b5c69de",
   "metadata": {},
   "outputs": [],
   "source": [
    "# Apply TF-IDF\n",
    "tfidf = TfidfVectorizer(max_features=5000)  # Limit to 5000 features for simplicity\n",
    "X_threshold3 = tfidf.fit_transform(dfSimpleBinary['reviewText'])  \n",
    "\n",
    "# y = Etiqueta\n",
    "y_threshold3 = dfSimpleBinary_threshold3['overall']  "
   ]
  },
  {
   "cell_type": "code",
   "execution_count": 203,
   "id": "7bdcc3f0",
   "metadata": {},
   "outputs": [],
   "source": [
    "X_train_threshold3, X_test_threshold3, y_train_threshold3, y_test_threshold3 = train_test_split(X_threshold3, y_threshold3, test_size=0.2, random_state=42)"
   ]
  },
  {
   "cell_type": "code",
   "execution_count": null,
   "id": "5b8b1fc6",
   "metadata": {},
   "outputs": [
    {
     "name": "stdout",
     "output_type": "stream",
     "text": [
      "Resultados para Logistic Regression:\n",
      "Accuracy: 0.9288\n",
      "Precision: 0.9294\n",
      "Recall: 0.9978\n",
      "F1 Score: 0.9624\n",
      "ROC AUC: 0.9379\n",
      "\n",
      "\n",
      "Resultados para Random Forest:\n",
      "Accuracy: 0.9207\n",
      "Precision: 0.9217\n",
      "Recall: 0.9978\n",
      "F1 Score: 0.9582\n",
      "ROC AUC: 0.9199\n",
      "\n",
      "\n"
     ]
    },
    {
     "data": {
      "image/png": "[encoded data removed]",
      "text/plain": [
       "<Figure size 1000x500 with 1 Axes>"
      ]
     },
     "metadata": {},
     "output_type": "display_data"
    }
   ],
   "source": [
    "# Entrenar modelos para threshold = 3\n",
    "models = {\n",
    "    \"Logistic Regression\": LogisticRegression(max_iter=1000),\n",
    "    \"Random Forest\": RandomForestClassifier(n_estimators=100)\n",
    "}\n",
    "\n",
    "# Diccionario para almacenar los resultados\n",
    "results = {}\n",
    "\n",
    "for model_name, model in models.items():\n",
    "    # Entrenar el modelo\n",
    "    model.fit(X_train_threshold3, y_train_threshold3)\n",
    "    # Predecir en el conjunto de prueba\n",
    "    y_pred_threshold3 = model.predict(X_test_threshold3)\n",
    "    y_pred_prob_threshold3 = model.predict_proba(X_test_threshold3)[:, 1]\n",
    "    # Evaluar el rendimiento\n",
    "    accuracy = accuracy_score(y_test_threshold3, y_pred_threshold3)\n",
    "    precision = precision_score(y_test_threshold3, y_pred_threshold3)\n",
    "    recall = recall_score(y_test_threshold3, y_pred_threshold3)\n",
    "    f1 = f1_score(y_test_threshold3, y_pred_threshold3)\n",
    "    fpr, tpr, _ = roc_curve(y_test_threshold3, y_pred_prob_threshold3)\n",
    "    roc_auc = auc(fpr, tpr)\n",
    "    # Guardar los resultados\n",
    "    results[model_name] = {\n",
    "        \"Accuracy\": accuracy,\n",
    "        \"Precision\": precision,\n",
    "        \"Recall\": recall,\n",
    "        \"F1 Score\": f1,\n",
    "        \"ROC AUC\": roc_auc,\n",
    "        \"FPR\": fpr,\n",
    "        \"TPR\": tpr\n",
    "    }\n",
    "\n",
    "# Imprimir los resultados\n",
    "for model_name, metrics in results.items():\n",
    "    print(f\"Resultados para {model_name}:\")\n",
    "    for metric, value in metrics.items():\n",
    "        if isinstance(value, np.ndarray):\n",
    "            continue\n",
    "        print(f\"{metric}: {value:.4f}\")\n",
    "    print(\"\\n\")\n",
    "\n",
    "# Crear el gráfico comparativo de la curva ROC\n",
    "plt.figure(figsize=(10, 5))\n",
    "for model_name, metrics in results.items():\n",
    "    plt.plot(metrics[\"FPR\"], metrics[\"TPR\"], label=f'{model_name} (AUC = {metrics[\"ROC AUC\"]:.4f})')\n",
    "\n",
    "plt.plot([0, 1], [0, 1], 'k--')\n",
    "plt.xlim([0.0, 1.0])\n",
    "plt.ylim([0.0, 1.05])\n",
    "plt.xlabel('False Positive Rate')\n",
    "plt.ylabel('True Positive Rate')\n",
    "plt.title('Curva ROC Comparativa')\n",
    "plt.legend(loc=\"lower right\")\n",
    "plt.show()"
   ]
  },
  {
   "cell_type": "code",
   "execution_count": null,
   "id": "3bc0b620",
   "metadata": {},
   "outputs": [],
   "source": []
  }
 ],
 "metadata": {
  "kernelspec": {
   "display_name": "base",
   "language": "python",
   "name": "python3"
  },
  "language_info": {
   "codemirror_mode": {
    "name": "ipython",
    "version": 3
   },
   "file_extension": ".py",
   "mimetype": "text/x-python",
   "name": "python",
   "nbconvert_exporter": "python",
   "pygments_lexer": "ipython3",
   "version": "3.9.12"
  }
 },
 "nbformat": 4,
 "nbformat_minor": 5
}
