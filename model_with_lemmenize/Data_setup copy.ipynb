{
 "cells": [
  {
   "cell_type": "code",
   "execution_count": 1,
   "id": "initial_id",
   "metadata": {
    "ExecuteTime": {
     "end_time": "2024-12-10T11:44:31.600619Z",
     "start_time": "2024-12-10T11:44:31.592622Z"
    },
    "collapsed": true
   },
   "outputs": [
    {
     "data": {
      "text/plain": [
       "'\\n# Download latest version\\npath = kagglehub.dataset_download(\"Path to working directory\", \"dataset_name\") # Esto es para descartar el dataset inicial, poner el path en tu ordenador local\\n\\nprint(\"Path to dataset files:\", path)\\n'"
      ]
     },
     "execution_count": 1,
     "metadata": {},
     "output_type": "execute_result"
    }
   ],
   "source": [
    "#import kagglehub\n",
    "\n",
    "\"\"\"\n",
    "# Download latest version\n",
    "path = kagglehub.dataset_download(\"Path to working directory\", \"dataset_name\") # Esto es para descartar el dataset inicial, poner el path en tu ordenador local\n",
    "\n",
    "print(\"Path to dataset files:\", path)\n",
    "\"\"\""
   ]
  },
  {
   "cell_type": "code",
   "execution_count": 2,
   "id": "fb2cfe75dc75c5b5",
   "metadata": {
    "ExecuteTime": {
     "end_time": "2024-12-10T11:44:31.632128Z",
     "start_time": "2024-12-10T11:44:31.605618Z"
    }
   },
   "outputs": [
    {
     "data": {
      "text/html": [
       "<div>\n",
       "<style scoped>\n",
       "    .dataframe tbody tr th:only-of-type {\n",
       "        vertical-align: middle;\n",
       "    }\n",
       "\n",
       "    .dataframe tbody tr th {\n",
       "        vertical-align: top;\n",
       "    }\n",
       "\n",
       "    .dataframe thead th {\n",
       "        text-align: right;\n",
       "    }\n",
       "</style>\n",
       "<table border=\"1\" class=\"dataframe\">\n",
       "  <thead>\n",
       "    <tr style=\"text-align: right;\">\n",
       "      <th></th>\n",
       "      <th>Unnamed: 0</th>\n",
       "      <th>reviewerName</th>\n",
       "      <th>overall</th>\n",
       "      <th>reviewText</th>\n",
       "      <th>reviewTime</th>\n",
       "      <th>day_diff</th>\n",
       "      <th>helpful_yes</th>\n",
       "      <th>helpful_no</th>\n",
       "      <th>total_vote</th>\n",
       "      <th>score_pos_neg_diff</th>\n",
       "      <th>score_average_rating</th>\n",
       "      <th>wilson_lower_bound</th>\n",
       "    </tr>\n",
       "  </thead>\n",
       "  <tbody>\n",
       "    <tr>\n",
       "      <th>0</th>\n",
       "      <td>0</td>\n",
       "      <td>NaN</td>\n",
       "      <td>4.0</td>\n",
       "      <td>No issues.</td>\n",
       "      <td>2014-07-23</td>\n",
       "      <td>138</td>\n",
       "      <td>0</td>\n",
       "      <td>0</td>\n",
       "      <td>0</td>\n",
       "      <td>0</td>\n",
       "      <td>0.0</td>\n",
       "      <td>0.0</td>\n",
       "    </tr>\n",
       "    <tr>\n",
       "      <th>1</th>\n",
       "      <td>1</td>\n",
       "      <td>0mie</td>\n",
       "      <td>5.0</td>\n",
       "      <td>Purchased this for my device, it worked as adv...</td>\n",
       "      <td>2013-10-25</td>\n",
       "      <td>409</td>\n",
       "      <td>0</td>\n",
       "      <td>0</td>\n",
       "      <td>0</td>\n",
       "      <td>0</td>\n",
       "      <td>0.0</td>\n",
       "      <td>0.0</td>\n",
       "    </tr>\n",
       "    <tr>\n",
       "      <th>2</th>\n",
       "      <td>2</td>\n",
       "      <td>1K3</td>\n",
       "      <td>4.0</td>\n",
       "      <td>it works as expected. I should have sprung for...</td>\n",
       "      <td>2012-12-23</td>\n",
       "      <td>715</td>\n",
       "      <td>0</td>\n",
       "      <td>0</td>\n",
       "      <td>0</td>\n",
       "      <td>0</td>\n",
       "      <td>0.0</td>\n",
       "      <td>0.0</td>\n",
       "    </tr>\n",
       "    <tr>\n",
       "      <th>3</th>\n",
       "      <td>3</td>\n",
       "      <td>1m2</td>\n",
       "      <td>5.0</td>\n",
       "      <td>This think has worked out great.Had a diff. br...</td>\n",
       "      <td>2013-11-21</td>\n",
       "      <td>382</td>\n",
       "      <td>0</td>\n",
       "      <td>0</td>\n",
       "      <td>0</td>\n",
       "      <td>0</td>\n",
       "      <td>0.0</td>\n",
       "      <td>0.0</td>\n",
       "    </tr>\n",
       "    <tr>\n",
       "      <th>4</th>\n",
       "      <td>4</td>\n",
       "      <td>2&amp;amp;1/2Men</td>\n",
       "      <td>5.0</td>\n",
       "      <td>Bought it with Retail Packaging, arrived legit...</td>\n",
       "      <td>2013-07-13</td>\n",
       "      <td>513</td>\n",
       "      <td>0</td>\n",
       "      <td>0</td>\n",
       "      <td>0</td>\n",
       "      <td>0</td>\n",
       "      <td>0.0</td>\n",
       "      <td>0.0</td>\n",
       "    </tr>\n",
       "  </tbody>\n",
       "</table>\n",
       "</div>"
      ],
      "text/plain": [
       "   Unnamed: 0  reviewerName  overall  \\\n",
       "0           0           NaN      4.0   \n",
       "1           1          0mie      5.0   \n",
       "2           2           1K3      4.0   \n",
       "3           3           1m2      5.0   \n",
       "4           4  2&amp;1/2Men      5.0   \n",
       "\n",
       "                                          reviewText  reviewTime  day_diff  \\\n",
       "0                                         No issues.  2014-07-23       138   \n",
       "1  Purchased this for my device, it worked as adv...  2013-10-25       409   \n",
       "2  it works as expected. I should have sprung for...  2012-12-23       715   \n",
       "3  This think has worked out great.Had a diff. br...  2013-11-21       382   \n",
       "4  Bought it with Retail Packaging, arrived legit...  2013-07-13       513   \n",
       "\n",
       "   helpful_yes  helpful_no  total_vote  score_pos_neg_diff  \\\n",
       "0            0           0           0                   0   \n",
       "1            0           0           0                   0   \n",
       "2            0           0           0                   0   \n",
       "3            0           0           0                   0   \n",
       "4            0           0           0                   0   \n",
       "\n",
       "   score_average_rating  wilson_lower_bound  \n",
       "0                   0.0                 0.0  \n",
       "1                   0.0                 0.0  \n",
       "2                   0.0                 0.0  \n",
       "3                   0.0                 0.0  \n",
       "4                   0.0                 0.0  "
      ]
     },
     "execution_count": 2,
     "metadata": {},
     "output_type": "execute_result"
    }
   ],
   "source": [
    "import pandas as pd\n",
    "df = pd.read_csv('amazon_reviews.csv')\n",
    "df.head() #Aqui podemos ver el dataset usado, varias columnas innecesarias\n"
   ]
  },
  {
   "cell_type": "code",
   "execution_count": 3,
   "id": "9dc28ed821d5d9e9",
   "metadata": {
    "ExecuteTime": {
     "end_time": "2024-12-10T11:44:31.695130Z",
     "start_time": "2024-12-10T11:44:31.680129Z"
    }
   },
   "outputs": [
    {
     "data": {
      "text/html": [
       "<div>\n",
       "<style scoped>\n",
       "    .dataframe tbody tr th:only-of-type {\n",
       "        vertical-align: middle;\n",
       "    }\n",
       "\n",
       "    .dataframe tbody tr th {\n",
       "        vertical-align: top;\n",
       "    }\n",
       "\n",
       "    .dataframe thead th {\n",
       "        text-align: right;\n",
       "    }\n",
       "</style>\n",
       "<table border=\"1\" class=\"dataframe\">\n",
       "  <thead>\n",
       "    <tr style=\"text-align: right;\">\n",
       "      <th></th>\n",
       "      <th>Unnamed: 0</th>\n",
       "      <th>overall</th>\n",
       "      <th>reviewText</th>\n",
       "    </tr>\n",
       "  </thead>\n",
       "  <tbody>\n",
       "    <tr>\n",
       "      <th>0</th>\n",
       "      <td>0</td>\n",
       "      <td>4.0</td>\n",
       "      <td>No issues.</td>\n",
       "    </tr>\n",
       "    <tr>\n",
       "      <th>1</th>\n",
       "      <td>1</td>\n",
       "      <td>5.0</td>\n",
       "      <td>Purchased this for my device, it worked as adv...</td>\n",
       "    </tr>\n",
       "    <tr>\n",
       "      <th>2</th>\n",
       "      <td>2</td>\n",
       "      <td>4.0</td>\n",
       "      <td>it works as expected. I should have sprung for...</td>\n",
       "    </tr>\n",
       "    <tr>\n",
       "      <th>3</th>\n",
       "      <td>3</td>\n",
       "      <td>5.0</td>\n",
       "      <td>This think has worked out great.Had a diff. br...</td>\n",
       "    </tr>\n",
       "    <tr>\n",
       "      <th>4</th>\n",
       "      <td>4</td>\n",
       "      <td>5.0</td>\n",
       "      <td>Bought it with Retail Packaging, arrived legit...</td>\n",
       "    </tr>\n",
       "  </tbody>\n",
       "</table>\n",
       "</div>"
      ],
      "text/plain": [
       "   Unnamed: 0  overall                                         reviewText\n",
       "0           0      4.0                                         No issues.\n",
       "1           1      5.0  Purchased this for my device, it worked as adv...\n",
       "2           2      4.0  it works as expected. I should have sprung for...\n",
       "3           3      5.0  This think has worked out great.Had a diff. br...\n",
       "4           4      5.0  Bought it with Retail Packaging, arrived legit..."
      ]
     },
     "execution_count": 3,
     "metadata": {},
     "output_type": "execute_result"
    }
   ],
   "source": [
    "#Limpiar el dataset\n",
    "dfSimple = df.drop(columns=['reviewerName', 'reviewTime', 'day_diff', 'helpful_yes', 'helpful_no', 'total_vote', 'score_pos_neg_diff', 'score_average_rating', 'wilson_lower_bound'])\n",
    "\n",
    "#De inicio trabajaremos con un dataset masivamente simplificado para poder hacer pruebas, la columna unnamed:0 no se elimina porque es un identificador de la fila y puede ser util mas adelante\n",
    "dfSimple.dropna(subset=[\"reviewText\"], inplace=True)\n",
    "dfSimple.head()\n"
   ]
  },
  {
   "cell_type": "code",
   "execution_count": 4,
   "id": "6b83280d",
   "metadata": {
    "ExecuteTime": {
     "end_time": "2024-12-10T11:44:32.071601Z",
     "start_time": "2024-12-10T11:44:31.727645Z"
    }
   },
   "outputs": [],
   "source": [
    "import re\n",
    "from nltk.corpus import stopwords\n",
    "from nltk.tokenize import word_tokenize\n",
    "import nltk"
   ]
  },
  {
   "cell_type": "code",
   "execution_count": 5,
   "id": "9e9b592d",
   "metadata": {
    "ExecuteTime": {
     "end_time": "2024-12-10T11:44:32.211123Z",
     "start_time": "2024-12-10T11:44:32.102604Z"
    }
   },
   "outputs": [
    {
     "name": "stderr",
     "output_type": "stream",
     "text": [
      "[nltk_data] Downloading package stopwords to\n",
      "[nltk_data]     C:\\Users\\minaa\\AppData\\Roaming\\nltk_data...\n",
      "[nltk_data]   Package stopwords is already up-to-date!\n",
      "[nltk_data] Downloading package punkt to\n",
      "[nltk_data]     C:\\Users\\minaa\\AppData\\Roaming\\nltk_data...\n",
      "[nltk_data]   Package punkt is already up-to-date!\n"
     ]
    },
    {
     "data": {
      "text/plain": [
       "True"
      ]
     },
     "execution_count": 5,
     "metadata": {},
     "output_type": "execute_result"
    }
   ],
   "source": [
    "# NLTK resources\n",
    "nltk.download('stopwords') #Llista de stopwords + comunes\n",
    "nltk.download('punkt')"
   ]
  },
  {
   "cell_type": "code",
   "execution_count": 6,
   "id": "cbf6ac50",
   "metadata": {
    "ExecuteTime": {
     "end_time": "2024-12-10T11:44:32.257628Z",
     "start_time": "2024-12-10T11:44:32.243628Z"
    }
   },
   "outputs": [],
   "source": [
    "# Cleaning function : punctuation, numbers, URL, convert to lowercase, tokenize, remove stopwords.\n",
    "\"\"\"\n",
    "def clean_text(text):\n",
    "    # Remove URLs\n",
    "    text = re.sub(r\"http\\S+|www\\S+|https\\S+\", '', text, flags=re.MULTILINE)\n",
    "    # Remove punctuation and numbers\n",
    "    text = re.sub(r'[^a-zA-Z\\s]', '', text)\n",
    "    # Convert to lowercase\n",
    "    text = text.lower()\n",
    "    # Tokenize the text\n",
    "    #words = word_tokenize(text)\n",
    "    # Remove stopwords\n",
    "    stop_words = set(stopwords.words('english'))\n",
    "    words = [word for word in text if word not in stop_words]\n",
    "    return ' '.join(words)\n",
    "\"\"\"\n",
    "\n",
    "def clean_text(text):\n",
    "    # Remove URLs\n",
    "    text = re.sub(r\"http\\S+|www\\S+|https\\S+\", '', text, flags=re.MULTILINE)\n",
    "    # Remove punctuation and numbers\n",
    "    text = re.sub(r'[^a-zA-Z\\s]', '', text)\n",
    "    # Convert to lowercase\n",
    "    text = text.lower()\n",
    "    # Split text into words\n",
    "    words = text.split()\n",
    "    # Remove stopwords\n",
    "    stop_words = set(stopwords.words('english'))\n",
    "    words = [word for word in words if word not in stop_words]\n",
    "    # Join words back into a single string\n",
    "    return ' '.join(words)"
   ]
  },
  {
   "cell_type": "code",
   "execution_count": 7,
   "id": "a23d3aa2",
   "metadata": {
    "ExecuteTime": {
     "end_time": "2024-12-10T11:44:32.798309Z",
     "start_time": "2024-12-10T11:44:32.265629Z"
    }
   },
   "outputs": [
    {
     "name": "stdout",
     "output_type": "stream",
     "text": [
      "   Unnamed: 0  overall                                         reviewText\n",
      "0           0      4.0                                             issues\n",
      "1           1      5.0  purchased device worked advertised never much ...\n",
      "2           2      4.0  works expected sprung higher capacity think ma...\n",
      "3           3      5.0  think worked greathad diff bran gb card went s...\n",
      "4           4      5.0  bought retail packaging arrived legit orange e...\n"
     ]
    }
   ],
   "source": [
    "# Create a new DataFrame with cleaned reviewText and the overall column\n",
    "dfCleaned = dfSimple.copy()\n",
    "dfCleaned['reviewText'] = dfCleaned['reviewText'].apply(clean_text)  # Apply the cleaning function\n",
    "#dfCleaned['overall'] = dfCleaned['overall']  # Include the overall column\n",
    "\n",
    "print(dfCleaned.head())"
   ]
  },
  {
   "cell_type": "code",
   "execution_count": 8,
   "id": "4e584375",
   "metadata": {
    "ExecuteTime": {
     "end_time": "2024-12-10T11:44:32.845834Z",
     "start_time": "2024-12-10T11:44:32.816319Z"
    }
   },
   "outputs": [
    {
     "name": "stdout",
     "output_type": "stream",
     "text": [
      "Cleaned dataset saved as 'amazon_reviews_Cleaned.csv'\n"
     ]
    }
   ],
   "source": [
    "# Save the cleaned dataset \n",
    "dfCleaned.to_csv('amazon_reviews_Cleaned.csv', index=False)\n",
    "\n",
    "print(\"Cleaned dataset saved as 'amazon_reviews_Cleaned.csv'\")"
   ]
  },
  {
   "cell_type": "code",
   "execution_count": 9,
   "id": "0e970d86",
   "metadata": {
    "ExecuteTime": {
     "end_time": "2024-12-10T11:44:32.877828Z",
     "start_time": "2024-12-10T11:44:32.862876Z"
    }
   },
   "outputs": [
    {
     "data": {
      "text/html": [
       "<div>\n",
       "<style scoped>\n",
       "    .dataframe tbody tr th:only-of-type {\n",
       "        vertical-align: middle;\n",
       "    }\n",
       "\n",
       "    .dataframe tbody tr th {\n",
       "        vertical-align: top;\n",
       "    }\n",
       "\n",
       "    .dataframe thead th {\n",
       "        text-align: right;\n",
       "    }\n",
       "</style>\n",
       "<table border=\"1\" class=\"dataframe\">\n",
       "  <thead>\n",
       "    <tr style=\"text-align: right;\">\n",
       "      <th></th>\n",
       "      <th>Unnamed: 0</th>\n",
       "      <th>overall</th>\n",
       "      <th>reviewText</th>\n",
       "    </tr>\n",
       "  </thead>\n",
       "  <tbody>\n",
       "    <tr>\n",
       "      <th>0</th>\n",
       "      <td>0</td>\n",
       "      <td>1</td>\n",
       "      <td>issues</td>\n",
       "    </tr>\n",
       "    <tr>\n",
       "      <th>1</th>\n",
       "      <td>1</td>\n",
       "      <td>1</td>\n",
       "      <td>purchased device worked advertised never much ...</td>\n",
       "    </tr>\n",
       "    <tr>\n",
       "      <th>2</th>\n",
       "      <td>2</td>\n",
       "      <td>1</td>\n",
       "      <td>works expected sprung higher capacity think ma...</td>\n",
       "    </tr>\n",
       "    <tr>\n",
       "      <th>3</th>\n",
       "      <td>3</td>\n",
       "      <td>1</td>\n",
       "      <td>think worked greathad diff bran gb card went s...</td>\n",
       "    </tr>\n",
       "    <tr>\n",
       "      <th>4</th>\n",
       "      <td>4</td>\n",
       "      <td>1</td>\n",
       "      <td>bought retail packaging arrived legit orange e...</td>\n",
       "    </tr>\n",
       "    <tr>\n",
       "      <th>...</th>\n",
       "      <td>...</td>\n",
       "      <td>...</td>\n",
       "      <td>...</td>\n",
       "    </tr>\n",
       "    <tr>\n",
       "      <th>996</th>\n",
       "      <td>996</td>\n",
       "      <td>1</td>\n",
       "      <td>bought digital recorder memory card slot card ...</td>\n",
       "    </tr>\n",
       "    <tr>\n",
       "      <th>997</th>\n",
       "      <td>997</td>\n",
       "      <td>1</td>\n",
       "      <td>much say memory card works great go pro hero s...</td>\n",
       "    </tr>\n",
       "    <tr>\n",
       "      <th>998</th>\n",
       "      <td>998</td>\n",
       "      <td>1</td>\n",
       "      <td>gig microsd card costs less dollar per gig cla...</td>\n",
       "    </tr>\n",
       "    <tr>\n",
       "      <th>999</th>\n",
       "      <td>999</td>\n",
       "      <td>1</td>\n",
       "      <td>im nerd hoarder waited year memory gb wanted c...</td>\n",
       "    </tr>\n",
       "    <tr>\n",
       "      <th>1000</th>\n",
       "      <td>1000</td>\n",
       "      <td>1</td>\n",
       "      <td>great price works flawless note love glad purc...</td>\n",
       "    </tr>\n",
       "  </tbody>\n",
       "</table>\n",
       "<p>1000 rows × 3 columns</p>\n",
       "</div>"
      ],
      "text/plain": [
       "      Unnamed: 0  overall                                         reviewText\n",
       "0              0        1                                             issues\n",
       "1              1        1  purchased device worked advertised never much ...\n",
       "2              2        1  works expected sprung higher capacity think ma...\n",
       "3              3        1  think worked greathad diff bran gb card went s...\n",
       "4              4        1  bought retail packaging arrived legit orange e...\n",
       "...          ...      ...                                                ...\n",
       "996          996        1  bought digital recorder memory card slot card ...\n",
       "997          997        1  much say memory card works great go pro hero s...\n",
       "998          998        1  gig microsd card costs less dollar per gig cla...\n",
       "999          999        1  im nerd hoarder waited year memory gb wanted c...\n",
       "1000        1000        1  great price works flawless note love glad purc...\n",
       "\n",
       "[1000 rows x 3 columns]"
      ]
     },
     "execution_count": 9,
     "metadata": {},
     "output_type": "execute_result"
    }
   ],
   "source": [
    "#Por ahora, trabajaremos con valores de 0 o 1 en la columna overall para tener un problema simple y poder de inicio identifcar de manera binaria si es positiva o negativa la review. Despues, querremos predecir la nota de la review por el texto con mas exactitud\n",
    "dfSimpleBinary = dfCleaned.copy()\n",
    "dfSimpleBinary['overall'] = dfSimpleBinary['overall'].apply(lambda x: 1 if x > 2.5 else 0)\n",
    "dfSimpleBinary['overall'].value_counts()\n",
    "\n",
    "dfSimpleBinary.head(1000)"
   ]
  },
  {
   "cell_type": "code",
   "execution_count": 10,
   "id": "f024bbdb",
   "metadata": {
    "ExecuteTime": {
     "end_time": "2024-12-10T11:44:32.941339Z",
     "start_time": "2024-12-10T11:44:32.926335Z"
    }
   },
   "outputs": [],
   "source": [
    "#Guardamos el dataset limpio para no sobreescribirlo accidentalmente, este paso es solo una precaucion. solo falta borrar los nans\n",
    "dfSimpleBinary.to_csv('amazon_reviews_simpleBinary.csv', index=False)"
   ]
  },
  {
   "cell_type": "code",
   "execution_count": 11,
   "id": "fe50b752fac2f0ab",
   "metadata": {
    "ExecuteTime": {
     "end_time": "2024-12-10T11:44:32.989333Z",
     "start_time": "2024-12-10T11:44:32.974334Z"
    }
   },
   "outputs": [],
   "source": [
    "#applyCleantext"
   ]
  },
  {
   "cell_type": "code",
   "execution_count": 12,
   "id": "c13e5f6a",
   "metadata": {
    "ExecuteTime": {
     "end_time": "2024-12-10T11:44:33.068607Z",
     "start_time": "2024-12-10T11:44:33.006336Z"
    }
   },
   "outputs": [],
   "source": [
    "from sklearn.feature_extraction.text import TfidfVectorizer\n",
    "\n",
    "# Apply TF-IDF\n",
    "tfidf = TfidfVectorizer(max_features=5000)  # Limit to 5000 features for simplicity\n",
    "X = tfidf.fit_transform(dfSimpleBinary['reviewText'])  \n",
    "\n",
    "# y = Etiqueta\n",
    "y = dfSimpleBinary['overall']  "
   ]
  },
  {
   "cell_type": "code",
   "execution_count": 13,
   "id": "4877c0bb",
   "metadata": {
    "ExecuteTime": {
     "end_time": "2024-12-10T11:44:33.084608Z",
     "start_time": "2024-12-10T11:44:33.073610Z"
    }
   },
   "outputs": [
    {
     "name": "stdout",
     "output_type": "stream",
     "text": [
      "<Compressed Sparse Row sparse matrix of dtype 'float64'\n",
      "\twith 104460 stored elements and shape (4914, 5000)>\n",
      "  Coords\tValues\n",
      "  (0, 1811)\t1.0\n",
      "  (1, 2960)\t0.2390691997557985\n",
      "  (1, 901)\t0.2500956641441643\n",
      "  (1, 4814)\t0.22041352975002462\n",
      "  (1, 65)\t0.3079511880305262\n",
      "  (1, 2283)\t0.23746924750824877\n",
      "  (1, 2235)\t0.22880268690799568\n",
      "  (1, 2527)\t0.15894729456975054\n",
      "  (1, 2124)\t0.16342700659146378\n",
      "  (1, 3614)\t0.2634346235438177\n",
      "  (1, 980)\t0.3515768967137597\n",
      "  (1, 2004)\t0.25280027831644336\n",
      "  (1, 4010)\t0.3197017006470681\n",
      "  (1, 371)\t0.4658817477827855\n",
      "  (2, 4826)\t0.10167611425771444\n",
      "  (2, 1187)\t0.21026831614423724\n",
      "  (2, 3834)\t0.4017209024878068\n",
      "  (2, 1617)\t0.26622741443620596\n",
      "  (2, 460)\t0.18410928375398103\n",
      "  (2, 4235)\t0.20417737012953208\n",
      "  (2, 2031)\t0.22707996152754703\n",
      "  (2, 320)\t0.22808251479726946\n",
      "  (2, 1032)\t0.32830745830827224\n",
      "  (2, 4490)\t0.2923424981405928\n",
      "  (2, 2453)\t0.37010345303225173\n",
      "  :\t:\n",
      "  (4912, 3723)\t0.28806210890236555\n",
      "  (4912, 1308)\t0.4263389161515658\n",
      "  (4912, 3453)\t0.3055102773347161\n",
      "  (4912, 125)\t0.42527201043850527\n",
      "  (4912, 1495)\t0.3158426707913027\n",
      "  (4913, 1435)\t0.12001865352878269\n",
      "  (4913, 469)\t0.08437957493415665\n",
      "  (4913, 1830)\t0.17241066293745294\n",
      "  (4913, 1941)\t0.1605960734865905\n",
      "  (4913, 2761)\t0.13526336827535024\n",
      "  (4913, 3476)\t0.1305370822597514\n",
      "  (4913, 1490)\t0.1351408230779796\n",
      "  (4913, 3723)\t0.16543682237108262\n",
      "  (4913, 4309)\t0.18106842770795104\n",
      "  (4913, 3186)\t0.16793354503937788\n",
      "  (4913, 1582)\t0.3165828487550289\n",
      "  (4913, 1244)\t0.17134947380143642\n",
      "  (4913, 3781)\t0.19126394528883536\n",
      "  (4913, 2145)\t0.15976659846407368\n",
      "  (4913, 2312)\t0.2850855019302672\n",
      "  (4913, 253)\t0.22071682877236967\n",
      "  (4913, 4234)\t0.24015669759878808\n",
      "  (4913, 4653)\t0.2599726839400095\n",
      "  (4913, 765)\t0.39895252665976416\n",
      "  (4913, 3911)\t0.4182065391329697\n"
     ]
    }
   ],
   "source": [
    "# Això nomes per ara per visualitzar el resultat despres de TF-IDF. X : sparse matrix (4914,5000), sparse matrix es representa per coordenades ja que en gran part està buida\n",
    "print(X)"
   ]
  },
  {
   "cell_type": "code",
   "execution_count": 14,
   "id": "f8db055a",
   "metadata": {
    "ExecuteTime": {
     "end_time": "2024-12-10T11:44:33.115622Z",
     "start_time": "2024-12-10T11:44:33.101608Z"
    }
   },
   "outputs": [
    {
     "name": "stdout",
     "output_type": "stream",
     "text": [
      "0       1\n",
      "1       1\n",
      "2       1\n",
      "3       1\n",
      "4       1\n",
      "       ..\n",
      "4910    0\n",
      "4911    1\n",
      "4912    1\n",
      "4913    1\n",
      "4914    1\n",
      "Name: overall, Length: 4914, dtype: int64\n"
     ]
    }
   ],
   "source": [
    "print(y)"
   ]
  },
  {
   "cell_type": "code",
   "execution_count": 15,
   "id": "93e3ebf8a587c7ab",
   "metadata": {
    "ExecuteTime": {
     "end_time": "2024-12-10T11:44:54.272527Z",
     "start_time": "2024-12-10T11:44:54.230280Z"
    }
   },
   "outputs": [
    {
     "name": "stdout",
     "output_type": "stream",
     "text": [
      "2    4448\n",
      "0     324\n",
      "1     142\n",
      "Name: overall, dtype: int64\n",
      "Dataset ternario guardado como 'amazon_reviews_ternary.csv'\n"
     ]
    }
   ],
   "source": [
    "import pandas as pd\n",
    "\n",
    "# Cargar el dataset limpio\n",
    "dfCleaned = pd.read_csv('amazon_reviews_Cleaned.csv')\n",
    "\n",
    "# Crear el dataset ternario\n",
    "dfTernary = dfCleaned.copy()\n",
    "dfTernary['overall'] = dfTernary['overall'].apply(lambda x: 0 if x < 3 else (1 if x == 3 else 2))\n",
    "\n",
    "# Verificar la distribución de las etiquetas\n",
    "print(dfTernary['overall'].value_counts())\n",
    "\n",
    "# Guardar el nuevo dataset\n",
    "dfTernary.to_csv('amazon_reviews_ternary.csv', index=False)\n",
    "\n",
    "print(\"Dataset ternario guardado como 'amazon_reviews_ternary.csv'\")"
   ]
  },
  {
   "cell_type": "code",
   "execution_count": null,
   "id": "8e57e1e5c4ec1f98",
   "metadata": {
    "ExecuteTime": {
     "end_time": "2024-12-10T11:44:33.257283Z",
     "start_time": "2024-12-10T11:44:33.242285Z"
    }
   },
   "outputs": [],
   "source": []
  },
  {
   "cell_type": "code",
   "execution_count": null,
   "id": "f2f11b877c514aa3",
   "metadata": {
    "ExecuteTime": {
     "end_time": "2024-12-10T11:44:33.287283Z",
     "start_time": "2024-12-10T11:44:33.273284Z"
    }
   },
   "outputs": [],
   "source": []
  },
  {
   "cell_type": "code",
   "execution_count": null,
   "id": "d65a8a54",
   "metadata": {
    "ExecuteTime": {
     "end_time": "2024-12-10T11:44:33.319289Z",
     "start_time": "2024-12-10T11:44:33.304286Z"
    }
   },
   "outputs": [],
   "source": []
  },
  {
   "cell_type": "code",
   "execution_count": null,
   "id": "5b5c69de",
   "metadata": {
    "ExecuteTime": {
     "end_time": "2024-12-10T11:44:33.350805Z",
     "start_time": "2024-12-10T11:44:33.335803Z"
    }
   },
   "outputs": [],
   "source": []
  },
  {
   "cell_type": "code",
   "execution_count": null,
   "id": "7bdcc3f0",
   "metadata": {
    "ExecuteTime": {
     "end_time": "2024-12-10T11:44:33.381802Z",
     "start_time": "2024-12-10T11:44:33.366802Z"
    }
   },
   "outputs": [],
   "source": []
  },
  {
   "cell_type": "code",
   "execution_count": null,
   "id": "5b8b1fc6",
   "metadata": {
    "ExecuteTime": {
     "end_time": "2024-12-10T11:44:33.412805Z",
     "start_time": "2024-12-10T11:44:33.397803Z"
    }
   },
   "outputs": [],
   "source": []
  },
  {
   "cell_type": "code",
   "execution_count": null,
   "id": "3bc0b620",
   "metadata": {
    "ExecuteTime": {
     "end_time": "2024-12-10T11:44:33.444189Z",
     "start_time": "2024-12-10T11:44:33.429189Z"
    }
   },
   "outputs": [],
   "source": []
  }
 ],
 "metadata": {
  "kernelspec": {
   "display_name": "Python 3",
   "language": "python",
   "name": "python3"
  },
  "language_info": {
   "codemirror_mode": {
    "name": "ipython",
    "version": 3
   },
   "file_extension": ".py",
   "mimetype": "text/x-python",
   "name": "python",
   "nbconvert_exporter": "python",
   "pygments_lexer": "ipython3",
   "version": "3.11.2"
  }
 },
 "nbformat": 4,
 "nbformat_minor": 5
}
