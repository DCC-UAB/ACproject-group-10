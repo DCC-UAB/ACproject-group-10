{
 "cells": [
  {
   "cell_type": "code",
   "id": "initial_id",
   "metadata": {
    "collapsed": true,
    "ExecuteTime": {
     "end_time": "2024-12-12T20:55:48.865661Z",
     "start_time": "2024-12-12T20:55:48.845663Z"
    }
   },
   "source": [
    "#import kagglehub\n",
    "\n",
    "\"\"\"\n",
    "# Download latest version\n",
    "path = kagglehub.dataset_download(\"Path to working directory\", \"dataset_name\") # Esto es para descartar el dataset inicial, poner el path en tu ordenador local\n",
    "\n",
    "print(\"Path to dataset files:\", path)\n",
    "\"\"\""
   ],
   "outputs": [
    {
     "data": {
      "text/plain": [
       "'\\n# Download latest version\\npath = kagglehub.dataset_download(\"Path to working directory\", \"dataset_name\") # Esto es para descartar el dataset inicial, poner el path en tu ordenador local\\n\\nprint(\"Path to dataset files:\", path)\\n'"
      ]
     },
     "execution_count": 34,
     "metadata": {},
     "output_type": "execute_result"
    }
   ],
   "execution_count": 34
  },
  {
   "cell_type": "code",
   "id": "fb2cfe75dc75c5b5",
   "metadata": {
    "ExecuteTime": {
     "end_time": "2024-12-12T20:55:48.912659Z",
     "start_time": "2024-12-12T20:55:48.881660Z"
    }
   },
   "source": [
    "import pandas as pd\n",
    "df = pd.read_csv('amazon_reviews.csv')\n",
    "df.head() #Aqui podemos ver el dataset usado, varias columnas innecesarias\n"
   ],
   "outputs": [
    {
     "data": {
      "text/plain": [
       "   Unnamed: 0  reviewerName  overall  \\\n",
       "0           0           NaN      4.0   \n",
       "1           1          0mie      5.0   \n",
       "2           2           1K3      4.0   \n",
       "3           3           1m2      5.0   \n",
       "4           4  2&amp;1/2Men      5.0   \n",
       "\n",
       "                                          reviewText  reviewTime  day_diff  \\\n",
       "0                                         No issues.  2014-07-23       138   \n",
       "1  Purchased this for my device, it worked as adv...  2013-10-25       409   \n",
       "2  it works as expected. I should have sprung for...  2012-12-23       715   \n",
       "3  This think has worked out great.Had a diff. br...  2013-11-21       382   \n",
       "4  Bought it with Retail Packaging, arrived legit...  2013-07-13       513   \n",
       "\n",
       "   helpful_yes  helpful_no  total_vote  score_pos_neg_diff  \\\n",
       "0            0           0           0                   0   \n",
       "1            0           0           0                   0   \n",
       "2            0           0           0                   0   \n",
       "3            0           0           0                   0   \n",
       "4            0           0           0                   0   \n",
       "\n",
       "   score_average_rating  wilson_lower_bound  \n",
       "0                   0.0                 0.0  \n",
       "1                   0.0                 0.0  \n",
       "2                   0.0                 0.0  \n",
       "3                   0.0                 0.0  \n",
       "4                   0.0                 0.0  "
      ],
      "text/html": [
       "<div>\n",
       "<style scoped>\n",
       "    .dataframe tbody tr th:only-of-type {\n",
       "        vertical-align: middle;\n",
       "    }\n",
       "\n",
       "    .dataframe tbody tr th {\n",
       "        vertical-align: top;\n",
       "    }\n",
       "\n",
       "    .dataframe thead th {\n",
       "        text-align: right;\n",
       "    }\n",
       "</style>\n",
       "<table border=\"1\" class=\"dataframe\">\n",
       "  <thead>\n",
       "    <tr style=\"text-align: right;\">\n",
       "      <th></th>\n",
       "      <th>Unnamed: 0</th>\n",
       "      <th>reviewerName</th>\n",
       "      <th>overall</th>\n",
       "      <th>reviewText</th>\n",
       "      <th>reviewTime</th>\n",
       "      <th>day_diff</th>\n",
       "      <th>helpful_yes</th>\n",
       "      <th>helpful_no</th>\n",
       "      <th>total_vote</th>\n",
       "      <th>score_pos_neg_diff</th>\n",
       "      <th>score_average_rating</th>\n",
       "      <th>wilson_lower_bound</th>\n",
       "    </tr>\n",
       "  </thead>\n",
       "  <tbody>\n",
       "    <tr>\n",
       "      <th>0</th>\n",
       "      <td>0</td>\n",
       "      <td>NaN</td>\n",
       "      <td>4.0</td>\n",
       "      <td>No issues.</td>\n",
       "      <td>2014-07-23</td>\n",
       "      <td>138</td>\n",
       "      <td>0</td>\n",
       "      <td>0</td>\n",
       "      <td>0</td>\n",
       "      <td>0</td>\n",
       "      <td>0.0</td>\n",
       "      <td>0.0</td>\n",
       "    </tr>\n",
       "    <tr>\n",
       "      <th>1</th>\n",
       "      <td>1</td>\n",
       "      <td>0mie</td>\n",
       "      <td>5.0</td>\n",
       "      <td>Purchased this for my device, it worked as adv...</td>\n",
       "      <td>2013-10-25</td>\n",
       "      <td>409</td>\n",
       "      <td>0</td>\n",
       "      <td>0</td>\n",
       "      <td>0</td>\n",
       "      <td>0</td>\n",
       "      <td>0.0</td>\n",
       "      <td>0.0</td>\n",
       "    </tr>\n",
       "    <tr>\n",
       "      <th>2</th>\n",
       "      <td>2</td>\n",
       "      <td>1K3</td>\n",
       "      <td>4.0</td>\n",
       "      <td>it works as expected. I should have sprung for...</td>\n",
       "      <td>2012-12-23</td>\n",
       "      <td>715</td>\n",
       "      <td>0</td>\n",
       "      <td>0</td>\n",
       "      <td>0</td>\n",
       "      <td>0</td>\n",
       "      <td>0.0</td>\n",
       "      <td>0.0</td>\n",
       "    </tr>\n",
       "    <tr>\n",
       "      <th>3</th>\n",
       "      <td>3</td>\n",
       "      <td>1m2</td>\n",
       "      <td>5.0</td>\n",
       "      <td>This think has worked out great.Had a diff. br...</td>\n",
       "      <td>2013-11-21</td>\n",
       "      <td>382</td>\n",
       "      <td>0</td>\n",
       "      <td>0</td>\n",
       "      <td>0</td>\n",
       "      <td>0</td>\n",
       "      <td>0.0</td>\n",
       "      <td>0.0</td>\n",
       "    </tr>\n",
       "    <tr>\n",
       "      <th>4</th>\n",
       "      <td>4</td>\n",
       "      <td>2&amp;amp;1/2Men</td>\n",
       "      <td>5.0</td>\n",
       "      <td>Bought it with Retail Packaging, arrived legit...</td>\n",
       "      <td>2013-07-13</td>\n",
       "      <td>513</td>\n",
       "      <td>0</td>\n",
       "      <td>0</td>\n",
       "      <td>0</td>\n",
       "      <td>0</td>\n",
       "      <td>0.0</td>\n",
       "      <td>0.0</td>\n",
       "    </tr>\n",
       "  </tbody>\n",
       "</table>\n",
       "</div>"
      ]
     },
     "execution_count": 35,
     "metadata": {},
     "output_type": "execute_result"
    }
   ],
   "execution_count": 35
  },
  {
   "cell_type": "code",
   "id": "9dc28ed821d5d9e9",
   "metadata": {
    "ExecuteTime": {
     "end_time": "2024-12-12T20:55:48.959683Z",
     "start_time": "2024-12-12T20:55:48.944683Z"
    }
   },
   "source": [
    "#Limpiar el dataset\n",
    "dfSimple = df.drop(columns=['reviewerName', 'reviewTime', 'day_diff', 'helpful_yes', 'helpful_no', 'total_vote', 'score_pos_neg_diff', 'score_average_rating', 'wilson_lower_bound'])\n",
    "\n",
    "#De inicio trabajaremos con un dataset masivamente simplificado para poder hacer pruebas, la columna unnamed:0 no se elimina porque es un identificador de la fila y puede ser util mas adelante\n",
    "dfSimple.dropna(subset=[\"reviewText\"], inplace=True)\n",
    "dfSimple.head()\n"
   ],
   "outputs": [
    {
     "data": {
      "text/plain": [
       "   Unnamed: 0  overall                                         reviewText\n",
       "0           0      4.0                                         No issues.\n",
       "1           1      5.0  Purchased this for my device, it worked as adv...\n",
       "2           2      4.0  it works as expected. I should have sprung for...\n",
       "3           3      5.0  This think has worked out great.Had a diff. br...\n",
       "4           4      5.0  Bought it with Retail Packaging, arrived legit..."
      ],
      "text/html": [
       "<div>\n",
       "<style scoped>\n",
       "    .dataframe tbody tr th:only-of-type {\n",
       "        vertical-align: middle;\n",
       "    }\n",
       "\n",
       "    .dataframe tbody tr th {\n",
       "        vertical-align: top;\n",
       "    }\n",
       "\n",
       "    .dataframe thead th {\n",
       "        text-align: right;\n",
       "    }\n",
       "</style>\n",
       "<table border=\"1\" class=\"dataframe\">\n",
       "  <thead>\n",
       "    <tr style=\"text-align: right;\">\n",
       "      <th></th>\n",
       "      <th>Unnamed: 0</th>\n",
       "      <th>overall</th>\n",
       "      <th>reviewText</th>\n",
       "    </tr>\n",
       "  </thead>\n",
       "  <tbody>\n",
       "    <tr>\n",
       "      <th>0</th>\n",
       "      <td>0</td>\n",
       "      <td>4.0</td>\n",
       "      <td>No issues.</td>\n",
       "    </tr>\n",
       "    <tr>\n",
       "      <th>1</th>\n",
       "      <td>1</td>\n",
       "      <td>5.0</td>\n",
       "      <td>Purchased this for my device, it worked as adv...</td>\n",
       "    </tr>\n",
       "    <tr>\n",
       "      <th>2</th>\n",
       "      <td>2</td>\n",
       "      <td>4.0</td>\n",
       "      <td>it works as expected. I should have sprung for...</td>\n",
       "    </tr>\n",
       "    <tr>\n",
       "      <th>3</th>\n",
       "      <td>3</td>\n",
       "      <td>5.0</td>\n",
       "      <td>This think has worked out great.Had a diff. br...</td>\n",
       "    </tr>\n",
       "    <tr>\n",
       "      <th>4</th>\n",
       "      <td>4</td>\n",
       "      <td>5.0</td>\n",
       "      <td>Bought it with Retail Packaging, arrived legit...</td>\n",
       "    </tr>\n",
       "  </tbody>\n",
       "</table>\n",
       "</div>"
      ]
     },
     "execution_count": 36,
     "metadata": {},
     "output_type": "execute_result"
    }
   ],
   "execution_count": 36
  },
  {
   "cell_type": "code",
   "id": "6b83280d",
   "metadata": {
    "ExecuteTime": {
     "end_time": "2024-12-12T20:55:49.087194Z",
     "start_time": "2024-12-12T20:55:49.072196Z"
    }
   },
   "source": [
    "import re\n",
    "from nltk.corpus import stopwords\n",
    "from nltk.tokenize import word_tokenize\n",
    "import nltk"
   ],
   "outputs": [],
   "execution_count": 37
  },
  {
   "cell_type": "code",
   "id": "9e9b592d",
   "metadata": {
    "ExecuteTime": {
     "end_time": "2024-12-12T20:55:49.134705Z",
     "start_time": "2024-12-12T20:55:49.120197Z"
    }
   },
   "source": [
    "# NLTK resources\n",
    "nltk.download('stopwords') #Llista de stopwords + comunes\n",
    "nltk.download('punkt')"
   ],
   "outputs": [
    {
     "name": "stderr",
     "output_type": "stream",
     "text": [
      "[nltk_data] Downloading package stopwords to\n",
      "[nltk_data]     C:\\Users\\mique\\AppData\\Roaming\\nltk_data...\n",
      "[nltk_data]   Package stopwords is already up-to-date!\n",
      "[nltk_data] Downloading package punkt to\n",
      "[nltk_data]     C:\\Users\\mique\\AppData\\Roaming\\nltk_data...\n",
      "[nltk_data]   Package punkt is already up-to-date!\n"
     ]
    },
    {
     "data": {
      "text/plain": [
       "True"
      ]
     },
     "execution_count": 38,
     "metadata": {},
     "output_type": "execute_result"
    }
   ],
   "execution_count": 38
  },
  {
   "cell_type": "code",
   "id": "cbf6ac50",
   "metadata": {
    "ExecuteTime": {
     "end_time": "2024-12-12T20:55:49.150705Z",
     "start_time": "2024-12-12T20:55:49.144705Z"
    }
   },
   "source": [
    "# Cleaning function : punctuation, numbers, URL, convert to lowercase, tokenize, remove stopwords.\n",
    "\"\"\"\n",
    "def clean_text(text):\n",
    "    # Remove URLs\n",
    "    text = re.sub(r\"http\\S+|www\\S+|https\\S+\", '', text, flags=re.MULTILINE)\n",
    "    # Remove punctuation and numbers\n",
    "    text = re.sub(r'[^a-zA-Z\\s]', '', text)\n",
    "    # Convert to lowercase\n",
    "    text = text.lower()\n",
    "    # Tokenize the text\n",
    "    #words = word_tokenize(text)\n",
    "    # Remove stopwords\n",
    "    stop_words = set(stopwords.words('english'))\n",
    "    words = [word for word in text if word not in stop_words]\n",
    "    return ' '.join(words)\n",
    "\"\"\"\n",
    "\n",
    "def clean_text(text):\n",
    "    # Remove URLs\n",
    "    text = re.sub(r\"http\\S+|www\\S+|https\\S+\", '', text, flags=re.MULTILINE)\n",
    "    # Remove punctuation and numbers\n",
    "    text = re.sub(r'[^a-zA-Z\\s]', '', text)\n",
    "    # Convert to lowercase\n",
    "    text = text.lower()\n",
    "    # Split text into words\n",
    "    words = text.split()\n",
    "    # Remove stopwords\n",
    "    stop_words = set(stopwords.words('english'))\n",
    "    words = [word for word in words if word not in stop_words]\n",
    "    # Join words back into a single string\n",
    "    return ' '.join(words)"
   ],
   "outputs": [],
   "execution_count": 39
  },
  {
   "cell_type": "code",
   "id": "a23d3aa2",
   "metadata": {
    "ExecuteTime": {
     "end_time": "2024-12-12T20:55:49.737273Z",
     "start_time": "2024-12-12T20:55:49.175915Z"
    }
   },
   "source": [
    "# Create a new DataFrame with cleaned reviewText and the overall column\n",
    "dfCleaned = dfSimple.copy()\n",
    "dfCleaned['reviewText'] = dfCleaned['reviewText'].apply(clean_text)  # Apply the cleaning function\n",
    "#dfCleaned['overall'] = dfCleaned['overall']  # Include the overall column\n",
    "\n",
    "print(dfCleaned.head())"
   ],
   "outputs": [
    {
     "name": "stdout",
     "output_type": "stream",
     "text": [
      "   Unnamed: 0  overall                                         reviewText\n",
      "0           0      4.0                                             issues\n",
      "1           1      5.0  purchased device worked advertised never much ...\n",
      "2           2      4.0  works expected sprung higher capacity think ma...\n",
      "3           3      5.0  think worked greathad diff bran gb card went s...\n",
      "4           4      5.0  bought retail packaging arrived legit orange e...\n"
     ]
    }
   ],
   "execution_count": 40
  },
  {
   "cell_type": "code",
   "id": "4e584375",
   "metadata": {
    "ExecuteTime": {
     "end_time": "2024-12-12T20:55:49.768524Z",
     "start_time": "2024-12-12T20:55:49.741274Z"
    }
   },
   "source": [
    "# Save the cleaned dataset \n",
    "dfCleaned.to_csv('amazon_reviews_Cleaned.csv', index=False)\n",
    "\n",
    "print(\"Cleaned dataset saved as 'amazon_reviews_Cleaned.csv'\")"
   ],
   "outputs": [
    {
     "name": "stdout",
     "output_type": "stream",
     "text": [
      "Cleaned dataset saved as 'amazon_reviews_Cleaned.csv'\n"
     ]
    }
   ],
   "execution_count": 41
  },
  {
   "cell_type": "code",
   "id": "0e970d86",
   "metadata": {
    "ExecuteTime": {
     "end_time": "2024-12-12T20:55:49.800517Z",
     "start_time": "2024-12-12T20:55:49.772518Z"
    }
   },
   "source": [
    "#Por ahora, trabajaremos con valores de 0 o 1 en la columna overall para tener un problema simple y poder de inicio identifcar de manera binaria si es positiva o negativa la review. Despues, querremos predecir la nota de la review por el texto con mas exactitud\n",
    "dfSimpleBinary = dfCleaned.copy()\n",
    "dfSimpleBinary['overall'] = dfSimpleBinary['overall'].apply(lambda x: 1 if x > 2.5 else 0)\n",
    "dfSimpleBinary['overall'].value_counts()\n",
    "\n",
    "dfSimpleBinary.head(1000)"
   ],
   "outputs": [
    {
     "data": {
      "text/plain": [
       "      Unnamed: 0  overall                                         reviewText\n",
       "0              0        1                                             issues\n",
       "1              1        1  purchased device worked advertised never much ...\n",
       "2              2        1  works expected sprung higher capacity think ma...\n",
       "3              3        1  think worked greathad diff bran gb card went s...\n",
       "4              4        1  bought retail packaging arrived legit orange e...\n",
       "...          ...      ...                                                ...\n",
       "996          996        1  bought digital recorder memory card slot card ...\n",
       "997          997        1  much say memory card works great go pro hero s...\n",
       "998          998        1  gig microsd card costs less dollar per gig cla...\n",
       "999          999        1  im nerd hoarder waited year memory gb wanted c...\n",
       "1000        1000        1  great price works flawless note love glad purc...\n",
       "\n",
       "[1000 rows x 3 columns]"
      ],
      "text/html": [
       "<div>\n",
       "<style scoped>\n",
       "    .dataframe tbody tr th:only-of-type {\n",
       "        vertical-align: middle;\n",
       "    }\n",
       "\n",
       "    .dataframe tbody tr th {\n",
       "        vertical-align: top;\n",
       "    }\n",
       "\n",
       "    .dataframe thead th {\n",
       "        text-align: right;\n",
       "    }\n",
       "</style>\n",
       "<table border=\"1\" class=\"dataframe\">\n",
       "  <thead>\n",
       "    <tr style=\"text-align: right;\">\n",
       "      <th></th>\n",
       "      <th>Unnamed: 0</th>\n",
       "      <th>overall</th>\n",
       "      <th>reviewText</th>\n",
       "    </tr>\n",
       "  </thead>\n",
       "  <tbody>\n",
       "    <tr>\n",
       "      <th>0</th>\n",
       "      <td>0</td>\n",
       "      <td>1</td>\n",
       "      <td>issues</td>\n",
       "    </tr>\n",
       "    <tr>\n",
       "      <th>1</th>\n",
       "      <td>1</td>\n",
       "      <td>1</td>\n",
       "      <td>purchased device worked advertised never much ...</td>\n",
       "    </tr>\n",
       "    <tr>\n",
       "      <th>2</th>\n",
       "      <td>2</td>\n",
       "      <td>1</td>\n",
       "      <td>works expected sprung higher capacity think ma...</td>\n",
       "    </tr>\n",
       "    <tr>\n",
       "      <th>3</th>\n",
       "      <td>3</td>\n",
       "      <td>1</td>\n",
       "      <td>think worked greathad diff bran gb card went s...</td>\n",
       "    </tr>\n",
       "    <tr>\n",
       "      <th>4</th>\n",
       "      <td>4</td>\n",
       "      <td>1</td>\n",
       "      <td>bought retail packaging arrived legit orange e...</td>\n",
       "    </tr>\n",
       "    <tr>\n",
       "      <th>...</th>\n",
       "      <td>...</td>\n",
       "      <td>...</td>\n",
       "      <td>...</td>\n",
       "    </tr>\n",
       "    <tr>\n",
       "      <th>996</th>\n",
       "      <td>996</td>\n",
       "      <td>1</td>\n",
       "      <td>bought digital recorder memory card slot card ...</td>\n",
       "    </tr>\n",
       "    <tr>\n",
       "      <th>997</th>\n",
       "      <td>997</td>\n",
       "      <td>1</td>\n",
       "      <td>much say memory card works great go pro hero s...</td>\n",
       "    </tr>\n",
       "    <tr>\n",
       "      <th>998</th>\n",
       "      <td>998</td>\n",
       "      <td>1</td>\n",
       "      <td>gig microsd card costs less dollar per gig cla...</td>\n",
       "    </tr>\n",
       "    <tr>\n",
       "      <th>999</th>\n",
       "      <td>999</td>\n",
       "      <td>1</td>\n",
       "      <td>im nerd hoarder waited year memory gb wanted c...</td>\n",
       "    </tr>\n",
       "    <tr>\n",
       "      <th>1000</th>\n",
       "      <td>1000</td>\n",
       "      <td>1</td>\n",
       "      <td>great price works flawless note love glad purc...</td>\n",
       "    </tr>\n",
       "  </tbody>\n",
       "</table>\n",
       "<p>1000 rows × 3 columns</p>\n",
       "</div>"
      ]
     },
     "execution_count": 42,
     "metadata": {},
     "output_type": "execute_result"
    }
   ],
   "execution_count": 42
  },
  {
   "cell_type": "code",
   "id": "f024bbdb",
   "metadata": {
    "ExecuteTime": {
     "end_time": "2024-12-12T20:55:49.864579Z",
     "start_time": "2024-12-12T20:55:49.833582Z"
    }
   },
   "source": [
    "#Guardamos el dataset limpio para no sobreescribirlo accidentalmente, este paso es solo una precaucion. solo falta borrar los nans\n",
    "dfSimpleBinary.to_csv('amazon_reviews_simpleBinary.csv', index=False)"
   ],
   "outputs": [],
   "execution_count": 43
  },
  {
   "cell_type": "code",
   "id": "fe50b752fac2f0ab",
   "metadata": {
    "ExecuteTime": {
     "end_time": "2024-12-12T20:55:49.911580Z",
     "start_time": "2024-12-12T20:55:49.896580Z"
    }
   },
   "source": [
    "#applyCleantext"
   ],
   "outputs": [],
   "execution_count": 44
  },
  {
   "cell_type": "code",
   "id": "c13e5f6a",
   "metadata": {
    "ExecuteTime": {
     "end_time": "2024-12-12T20:55:49.975087Z",
     "start_time": "2024-12-12T20:55:49.919584Z"
    }
   },
   "source": [
    "from sklearn.feature_extraction.text import TfidfVectorizer\n",
    "\n",
    "# Apply TF-IDF\n",
    "tfidf = TfidfVectorizer(max_features=5000)  # Limit to 5000 features for simplicity\n",
    "X = tfidf.fit_transform(dfSimpleBinary['reviewText'])  \n",
    "\n",
    "# y = Etiqueta\n",
    "y = dfSimpleBinary['overall']  "
   ],
   "outputs": [],
   "execution_count": 45
  },
  {
   "cell_type": "code",
   "id": "4877c0bb",
   "metadata": {
    "ExecuteTime": {
     "end_time": "2024-12-12T20:55:49.991087Z",
     "start_time": "2024-12-12T20:55:49.978088Z"
    }
   },
   "source": [
    "# Això nomes per ara per visualitzar el resultat despres de TF-IDF. X : sparse matrix (4914,5000), sparse matrix es representa per coordenades ja que en gran part està buida\n",
    "print(X)"
   ],
   "outputs": [
    {
     "name": "stdout",
     "output_type": "stream",
     "text": [
      "  (0, 1811)\t1.0\n",
      "  (1, 2960)\t0.2390691997557985\n",
      "  (1, 901)\t0.2500956641441643\n",
      "  (1, 4814)\t0.22041352975002462\n",
      "  (1, 65)\t0.3079511880305262\n",
      "  (1, 2283)\t0.23746924750824877\n",
      "  (1, 2235)\t0.22880268690799568\n",
      "  (1, 2527)\t0.15894729456975054\n",
      "  (1, 2124)\t0.16342700659146378\n",
      "  (1, 3614)\t0.2634346235438177\n",
      "  (1, 980)\t0.3515768967137597\n",
      "  (1, 2004)\t0.25280027831644336\n",
      "  (1, 4010)\t0.3197017006470681\n",
      "  (1, 371)\t0.4658817477827855\n",
      "  (2, 4826)\t0.10167611425771444\n",
      "  (2, 1187)\t0.21026831614423724\n",
      "  (2, 3834)\t0.4017209024878068\n",
      "  (2, 1617)\t0.26622741443620596\n",
      "  (2, 460)\t0.18410928375398103\n",
      "  (2, 4235)\t0.20417737012953208\n",
      "  (2, 2031)\t0.22707996152754703\n",
      "  (2, 320)\t0.22808251479726946\n",
      "  (2, 1032)\t0.32830745830827224\n",
      "  (2, 4490)\t0.2923424981405928\n",
      "  (2, 2453)\t0.37010345303225173\n",
      "  :\t:\n",
      "  (4912, 3723)\t0.28806210890236555\n",
      "  (4912, 1308)\t0.4263389161515658\n",
      "  (4912, 3453)\t0.3055102773347161\n",
      "  (4912, 125)\t0.42527201043850527\n",
      "  (4912, 1495)\t0.3158426707913027\n",
      "  (4913, 1435)\t0.12001865352878269\n",
      "  (4913, 469)\t0.08437957493415665\n",
      "  (4913, 1830)\t0.17241066293745294\n",
      "  (4913, 1941)\t0.1605960734865905\n",
      "  (4913, 2761)\t0.13526336827535024\n",
      "  (4913, 3476)\t0.1305370822597514\n",
      "  (4913, 1490)\t0.1351408230779796\n",
      "  (4913, 3723)\t0.16543682237108262\n",
      "  (4913, 4309)\t0.18106842770795104\n",
      "  (4913, 3186)\t0.16793354503937788\n",
      "  (4913, 1582)\t0.3165828487550289\n",
      "  (4913, 1244)\t0.17134947380143642\n",
      "  (4913, 3781)\t0.19126394528883536\n",
      "  (4913, 2145)\t0.15976659846407368\n",
      "  (4913, 2312)\t0.2850855019302672\n",
      "  (4913, 253)\t0.22071682877236967\n",
      "  (4913, 4234)\t0.24015669759878808\n",
      "  (4913, 4653)\t0.2599726839400095\n",
      "  (4913, 765)\t0.39895252665976416\n",
      "  (4913, 3911)\t0.4182065391329697\n"
     ]
    }
   ],
   "execution_count": 46
  },
  {
   "cell_type": "code",
   "id": "f8db055a",
   "metadata": {
    "ExecuteTime": {
     "end_time": "2024-12-12T20:55:50.006088Z",
     "start_time": "2024-12-12T20:55:49.995089Z"
    }
   },
   "source": [
    "print(y)"
   ],
   "outputs": [
    {
     "name": "stdout",
     "output_type": "stream",
     "text": [
      "0       1\n",
      "1       1\n",
      "2       1\n",
      "3       1\n",
      "4       1\n",
      "       ..\n",
      "4910    0\n",
      "4911    1\n",
      "4912    1\n",
      "4913    1\n",
      "4914    1\n",
      "Name: overall, Length: 4914, dtype: int64\n"
     ]
    }
   ],
   "execution_count": 47
  },
  {
   "cell_type": "code",
   "id": "93e3ebf8a587c7ab",
   "metadata": {
    "ExecuteTime": {
     "end_time": "2024-12-12T20:55:50.037595Z",
     "start_time": "2024-12-12T20:55:50.010088Z"
    }
   },
   "source": [
    "import pandas as pd\n",
    "\n",
    "# Cargar el dataset limpio\n",
    "dfCleaned = pd.read_csv('amazon_reviews_Cleaned.csv')\n",
    "\n",
    "# Crear el dataset ternario\n",
    "dfTernary = dfCleaned.copy()\n",
    "dfTernary['overall'] = dfTernary['overall'].apply(lambda x: 0 if x < 3 else (1 if x == 3 else 2))\n",
    "\n",
    "# Verificar la distribución de las etiquetas\n",
    "print(dfTernary['overall'].value_counts())\n",
    "\n",
    "# Guardar el nuevo dataset\n",
    "dfTernary.to_csv('amazon_reviews_ternary.csv', index=False)\n",
    "\n",
    "print(\"Dataset ternario guardado como 'amazon_reviews_ternary.csv'\")"
   ],
   "outputs": [
    {
     "name": "stdout",
     "output_type": "stream",
     "text": [
      "overall\n",
      "2    4448\n",
      "0     324\n",
      "1     142\n",
      "Name: count, dtype: int64\n",
      "Dataset ternario guardado como 'amazon_reviews_ternary.csv'\n"
     ]
    }
   ],
   "execution_count": 48
  },
  {
   "cell_type": "code",
   "id": "8e57e1e5c4ec1f98",
   "metadata": {
    "ExecuteTime": {
     "end_time": "2024-12-12T20:55:50.336809Z",
     "start_time": "2024-12-12T20:55:50.041596Z"
    }
   },
   "source": [
    "#dataset2\n",
    "\n",
    "\n",
    "#dataset2\n",
    "import kagglehub\n",
    "path = kagglehub.dataset_download(\"snap/amazon-fine-food-reviews\")\n",
    "\n",
    "print(\"Path to dataset files:\", path)"
   ],
   "outputs": [
    {
     "name": "stdout",
     "output_type": "stream",
     "text": [
      "Path to dataset files: C:\\Users\\mique\\.cache\\kagglehub\\datasets\\snap\\amazon-fine-food-reviews\\versions\\2\n"
     ]
    }
   ],
   "execution_count": 49
  },
  {
   "cell_type": "code",
   "id": "f2f11b877c514aa3",
   "metadata": {
    "ExecuteTime": {
     "end_time": "2024-12-12T20:55:52.309920Z",
     "start_time": "2024-12-12T20:55:50.345809Z"
    }
   },
   "source": [
    "#leer reviews.csv\n",
    "\n",
    "import pandas as pd\n",
    "df = pd.read_csv('Reviews.csv')\n",
    "df.head()\n",
    "#numero reviews en este dataset\n",
    "print(df.shape)\n"
   ],
   "outputs": [
    {
     "name": "stdout",
     "output_type": "stream",
     "text": [
      "(568454, 10)\n"
     ]
    }
   ],
   "execution_count": 50
  },
  {
   "cell_type": "code",
   "id": "d65a8a54",
   "metadata": {
    "ExecuteTime": {
     "end_time": "2024-12-12T20:55:52.405318Z",
     "start_time": "2024-12-12T20:55:52.379463Z"
    }
   },
   "source": "df.head()\n",
   "outputs": [
    {
     "data": {
      "text/plain": [
       "   Id   ProductId          UserId                      ProfileName  \\\n",
       "0   1  B001E4KFG0  A3SGXH7AUHU8GW                       delmartian   \n",
       "1   2  B00813GRG4  A1D87F6ZCVE5NK                           dll pa   \n",
       "2   3  B000LQOCH0   ABXLMWJIXXAIN  Natalia Corres \"Natalia Corres\"   \n",
       "3   4  B000UA0QIQ  A395BORC6FGVXV                             Karl   \n",
       "4   5  B006K2ZZ7K  A1UQRSCLF8GW1T    Michael D. Bigham \"M. Wassir\"   \n",
       "\n",
       "   HelpfulnessNumerator  HelpfulnessDenominator  Score        Time  \\\n",
       "0                     1                       1      5  1303862400   \n",
       "1                     0                       0      1  1346976000   \n",
       "2                     1                       1      4  1219017600   \n",
       "3                     3                       3      2  1307923200   \n",
       "4                     0                       0      5  1350777600   \n",
       "\n",
       "                 Summary                                               Text  \n",
       "0  Good Quality Dog Food  I have bought several of the Vitality canned d...  \n",
       "1      Not as Advertised  Product arrived labeled as Jumbo Salted Peanut...  \n",
       "2  \"Delight\" says it all  This is a confection that has been around a fe...  \n",
       "3         Cough Medicine  If you are looking for the secret ingredient i...  \n",
       "4            Great taffy  Great taffy at a great price.  There was a wid...  "
      ],
      "text/html": [
       "<div>\n",
       "<style scoped>\n",
       "    .dataframe tbody tr th:only-of-type {\n",
       "        vertical-align: middle;\n",
       "    }\n",
       "\n",
       "    .dataframe tbody tr th {\n",
       "        vertical-align: top;\n",
       "    }\n",
       "\n",
       "    .dataframe thead th {\n",
       "        text-align: right;\n",
       "    }\n",
       "</style>\n",
       "<table border=\"1\" class=\"dataframe\">\n",
       "  <thead>\n",
       "    <tr style=\"text-align: right;\">\n",
       "      <th></th>\n",
       "      <th>Id</th>\n",
       "      <th>ProductId</th>\n",
       "      <th>UserId</th>\n",
       "      <th>ProfileName</th>\n",
       "      <th>HelpfulnessNumerator</th>\n",
       "      <th>HelpfulnessDenominator</th>\n",
       "      <th>Score</th>\n",
       "      <th>Time</th>\n",
       "      <th>Summary</th>\n",
       "      <th>Text</th>\n",
       "    </tr>\n",
       "  </thead>\n",
       "  <tbody>\n",
       "    <tr>\n",
       "      <th>0</th>\n",
       "      <td>1</td>\n",
       "      <td>B001E4KFG0</td>\n",
       "      <td>A3SGXH7AUHU8GW</td>\n",
       "      <td>delmartian</td>\n",
       "      <td>1</td>\n",
       "      <td>1</td>\n",
       "      <td>5</td>\n",
       "      <td>1303862400</td>\n",
       "      <td>Good Quality Dog Food</td>\n",
       "      <td>I have bought several of the Vitality canned d...</td>\n",
       "    </tr>\n",
       "    <tr>\n",
       "      <th>1</th>\n",
       "      <td>2</td>\n",
       "      <td>B00813GRG4</td>\n",
       "      <td>A1D87F6ZCVE5NK</td>\n",
       "      <td>dll pa</td>\n",
       "      <td>0</td>\n",
       "      <td>0</td>\n",
       "      <td>1</td>\n",
       "      <td>1346976000</td>\n",
       "      <td>Not as Advertised</td>\n",
       "      <td>Product arrived labeled as Jumbo Salted Peanut...</td>\n",
       "    </tr>\n",
       "    <tr>\n",
       "      <th>2</th>\n",
       "      <td>3</td>\n",
       "      <td>B000LQOCH0</td>\n",
       "      <td>ABXLMWJIXXAIN</td>\n",
       "      <td>Natalia Corres \"Natalia Corres\"</td>\n",
       "      <td>1</td>\n",
       "      <td>1</td>\n",
       "      <td>4</td>\n",
       "      <td>1219017600</td>\n",
       "      <td>\"Delight\" says it all</td>\n",
       "      <td>This is a confection that has been around a fe...</td>\n",
       "    </tr>\n",
       "    <tr>\n",
       "      <th>3</th>\n",
       "      <td>4</td>\n",
       "      <td>B000UA0QIQ</td>\n",
       "      <td>A395BORC6FGVXV</td>\n",
       "      <td>Karl</td>\n",
       "      <td>3</td>\n",
       "      <td>3</td>\n",
       "      <td>2</td>\n",
       "      <td>1307923200</td>\n",
       "      <td>Cough Medicine</td>\n",
       "      <td>If you are looking for the secret ingredient i...</td>\n",
       "    </tr>\n",
       "    <tr>\n",
       "      <th>4</th>\n",
       "      <td>5</td>\n",
       "      <td>B006K2ZZ7K</td>\n",
       "      <td>A1UQRSCLF8GW1T</td>\n",
       "      <td>Michael D. Bigham \"M. Wassir\"</td>\n",
       "      <td>0</td>\n",
       "      <td>0</td>\n",
       "      <td>5</td>\n",
       "      <td>1350777600</td>\n",
       "      <td>Great taffy</td>\n",
       "      <td>Great taffy at a great price.  There was a wid...</td>\n",
       "    </tr>\n",
       "  </tbody>\n",
       "</table>\n",
       "</div>"
      ]
     },
     "execution_count": 51,
     "metadata": {},
     "output_type": "execute_result"
    }
   ],
   "execution_count": 51
  },
  {
   "cell_type": "code",
   "id": "5b5c69de",
   "metadata": {
    "ExecuteTime": {
     "end_time": "2024-12-12T20:55:52.453340Z",
     "start_time": "2024-12-12T20:55:52.438339Z"
    }
   },
   "source": [
    "#Quitamos columnas innecesarias de nuevo\n",
    "dfSimple = df.drop(columns=['ProductId', 'UserId', 'ProfileName', 'HelpfulnessNumerator', 'HelpfulnessDenominator', 'Time', 'Summary'])\n",
    "dfSimple.head()"
   ],
   "outputs": [
    {
     "data": {
      "text/plain": [
       "   Id  Score                                               Text\n",
       "0   1      5  I have bought several of the Vitality canned d...\n",
       "1   2      1  Product arrived labeled as Jumbo Salted Peanut...\n",
       "2   3      4  This is a confection that has been around a fe...\n",
       "3   4      2  If you are looking for the secret ingredient i...\n",
       "4   5      5  Great taffy at a great price.  There was a wid..."
      ],
      "text/html": [
       "<div>\n",
       "<style scoped>\n",
       "    .dataframe tbody tr th:only-of-type {\n",
       "        vertical-align: middle;\n",
       "    }\n",
       "\n",
       "    .dataframe tbody tr th {\n",
       "        vertical-align: top;\n",
       "    }\n",
       "\n",
       "    .dataframe thead th {\n",
       "        text-align: right;\n",
       "    }\n",
       "</style>\n",
       "<table border=\"1\" class=\"dataframe\">\n",
       "  <thead>\n",
       "    <tr style=\"text-align: right;\">\n",
       "      <th></th>\n",
       "      <th>Id</th>\n",
       "      <th>Score</th>\n",
       "      <th>Text</th>\n",
       "    </tr>\n",
       "  </thead>\n",
       "  <tbody>\n",
       "    <tr>\n",
       "      <th>0</th>\n",
       "      <td>1</td>\n",
       "      <td>5</td>\n",
       "      <td>I have bought several of the Vitality canned d...</td>\n",
       "    </tr>\n",
       "    <tr>\n",
       "      <th>1</th>\n",
       "      <td>2</td>\n",
       "      <td>1</td>\n",
       "      <td>Product arrived labeled as Jumbo Salted Peanut...</td>\n",
       "    </tr>\n",
       "    <tr>\n",
       "      <th>2</th>\n",
       "      <td>3</td>\n",
       "      <td>4</td>\n",
       "      <td>This is a confection that has been around a fe...</td>\n",
       "    </tr>\n",
       "    <tr>\n",
       "      <th>3</th>\n",
       "      <td>4</td>\n",
       "      <td>2</td>\n",
       "      <td>If you are looking for the secret ingredient i...</td>\n",
       "    </tr>\n",
       "    <tr>\n",
       "      <th>4</th>\n",
       "      <td>5</td>\n",
       "      <td>5</td>\n",
       "      <td>Great taffy at a great price.  There was a wid...</td>\n",
       "    </tr>\n",
       "  </tbody>\n",
       "</table>\n",
       "</div>"
      ]
     },
     "execution_count": 52,
     "metadata": {},
     "output_type": "execute_result"
    }
   ],
   "execution_count": 52
  },
  {
   "cell_type": "code",
   "id": "7bdcc3f0",
   "metadata": {
    "ExecuteTime": {
     "end_time": "2024-12-12T20:56:59.430440Z",
     "start_time": "2024-12-12T20:55:52.518342Z"
    }
   },
   "source": [
    "#Hacemos las mismas limpiezas que antes\n",
    "dfSimple.dropna(subset=[\"Text\"], inplace=True)\n",
    "dfSimple['Text'] = dfSimple['Text'].apply(clean_text)\n",
    "dfSimple.head()\n"
   ],
   "outputs": [
    {
     "data": {
      "text/plain": [
       "   Id  Score                                               Text\n",
       "0   1      5  bought several vitality canned dog food produc...\n",
       "1   2      1  product arrived labeled jumbo salted peanutsth...\n",
       "2   3      4  confection around centuries light pillowy citr...\n",
       "3   4      2  looking secret ingredient robitussin believe f...\n",
       "4   5      5  great taffy great price wide assortment yummy ..."
      ],
      "text/html": [
       "<div>\n",
       "<style scoped>\n",
       "    .dataframe tbody tr th:only-of-type {\n",
       "        vertical-align: middle;\n",
       "    }\n",
       "\n",
       "    .dataframe tbody tr th {\n",
       "        vertical-align: top;\n",
       "    }\n",
       "\n",
       "    .dataframe thead th {\n",
       "        text-align: right;\n",
       "    }\n",
       "</style>\n",
       "<table border=\"1\" class=\"dataframe\">\n",
       "  <thead>\n",
       "    <tr style=\"text-align: right;\">\n",
       "      <th></th>\n",
       "      <th>Id</th>\n",
       "      <th>Score</th>\n",
       "      <th>Text</th>\n",
       "    </tr>\n",
       "  </thead>\n",
       "  <tbody>\n",
       "    <tr>\n",
       "      <th>0</th>\n",
       "      <td>1</td>\n",
       "      <td>5</td>\n",
       "      <td>bought several vitality canned dog food produc...</td>\n",
       "    </tr>\n",
       "    <tr>\n",
       "      <th>1</th>\n",
       "      <td>2</td>\n",
       "      <td>1</td>\n",
       "      <td>product arrived labeled jumbo salted peanutsth...</td>\n",
       "    </tr>\n",
       "    <tr>\n",
       "      <th>2</th>\n",
       "      <td>3</td>\n",
       "      <td>4</td>\n",
       "      <td>confection around centuries light pillowy citr...</td>\n",
       "    </tr>\n",
       "    <tr>\n",
       "      <th>3</th>\n",
       "      <td>4</td>\n",
       "      <td>2</td>\n",
       "      <td>looking secret ingredient robitussin believe f...</td>\n",
       "    </tr>\n",
       "    <tr>\n",
       "      <th>4</th>\n",
       "      <td>5</td>\n",
       "      <td>5</td>\n",
       "      <td>great taffy great price wide assortment yummy ...</td>\n",
       "    </tr>\n",
       "  </tbody>\n",
       "</table>\n",
       "</div>"
      ]
     },
     "execution_count": 53,
     "metadata": {},
     "output_type": "execute_result"
    }
   ],
   "execution_count": 53
  },
  {
   "cell_type": "code",
   "id": "5b8b1fc6",
   "metadata": {
    "ExecuteTime": {
     "end_time": "2024-12-12T21:35:41.753389Z",
     "start_time": "2024-12-12T21:35:38.075219Z"
    }
   },
   "source": [
    "# Guardar el dataset limpio\n",
    "dfSimple.to_csv('amazon_reviews2_simple.csv', index=False)\n",
    "#Binarizar score\n",
    "dfSimpleBinary = dfSimple.copy()\n",
    "dfSimpleBinary['Score'] = dfSimpleBinary['Score'].apply(lambda x: 1 if x > 2.5 else 0)\n",
    "#Guardar dataset binarizado\n",
    "dfSimpleBinary.to_csv('amazon_reviews2_simpleBinary.csv', index=False)\n",
    "#revisamos por nans\n",
    "print(dfSimpleBinary.isnull().sum())\n"
   ],
   "outputs": [
    {
     "name": "stdout",
     "output_type": "stream",
     "text": [
      "Id       0\n",
      "Score    0\n",
      "Text     0\n",
      "dtype: int64\n"
     ]
    }
   ],
   "execution_count": 55
  },
  {
   "cell_type": "code",
   "id": "3bc0b620",
   "metadata": {
    "ExecuteTime": {
     "end_time": "2024-12-12T20:57:03.047469Z",
     "start_time": "2024-12-12T20:57:03.033970Z"
    }
   },
   "source": [],
   "outputs": [],
   "execution_count": null
  }
 ],
 "metadata": {
  "kernelspec": {
   "display_name": "base",
   "language": "python",
   "name": "python3"
  },
  "language_info": {
   "codemirror_mode": {
    "name": "ipython",
    "version": 3
   },
   "file_extension": ".py",
   "mimetype": "text/x-python",
   "name": "python",
   "nbconvert_exporter": "python",
   "pygments_lexer": "ipython3",
   "version": "3.9.12"
  }
 },
 "nbformat": 4,
 "nbformat_minor": 5
}
