{
 "cells": [
  {
   "cell_type": "code",
   "execution_count": 243,
   "metadata": {},
   "outputs": [],
   "source": [
    "import pandas as pd\n",
    "dfSimpleSorted = pd.read_csv('amazon_reviews_simpleBinary.csv')"
   ]
  },
  {
   "cell_type": "code",
   "execution_count": 244,
   "metadata": {},
   "outputs": [
    {
     "data": {
      "text/html": [
       "<div>\n",
       "<style scoped>\n",
       "    .dataframe tbody tr th:only-of-type {\n",
       "        vertical-align: middle;\n",
       "    }\n",
       "\n",
       "    .dataframe tbody tr th {\n",
       "        vertical-align: top;\n",
       "    }\n",
       "\n",
       "    .dataframe thead th {\n",
       "        text-align: right;\n",
       "    }\n",
       "</style>\n",
       "<table border=\"1\" class=\"dataframe\">\n",
       "  <thead>\n",
       "    <tr style=\"text-align: right;\">\n",
       "      <th></th>\n",
       "      <th>Unnamed: 0</th>\n",
       "      <th>overall</th>\n",
       "      <th>reviewText</th>\n",
       "    </tr>\n",
       "  </thead>\n",
       "  <tbody>\n",
       "    <tr>\n",
       "      <th>0</th>\n",
       "      <td>0</td>\n",
       "      <td>1</td>\n",
       "      <td>issues</td>\n",
       "    </tr>\n",
       "    <tr>\n",
       "      <th>1</th>\n",
       "      <td>1</td>\n",
       "      <td>1</td>\n",
       "      <td>purchased device worked advertised never much ...</td>\n",
       "    </tr>\n",
       "    <tr>\n",
       "      <th>2</th>\n",
       "      <td>2</td>\n",
       "      <td>1</td>\n",
       "      <td>works expected sprung higher capacity think ma...</td>\n",
       "    </tr>\n",
       "    <tr>\n",
       "      <th>3</th>\n",
       "      <td>3</td>\n",
       "      <td>1</td>\n",
       "      <td>think worked greathad diff bran gb card went s...</td>\n",
       "    </tr>\n",
       "    <tr>\n",
       "      <th>4</th>\n",
       "      <td>4</td>\n",
       "      <td>1</td>\n",
       "      <td>bought retail packaging arrived legit orange e...</td>\n",
       "    </tr>\n",
       "  </tbody>\n",
       "</table>\n",
       "</div>"
      ],
      "text/plain": [
       "   Unnamed: 0  overall                                         reviewText\n",
       "0           0        1                                             issues\n",
       "1           1        1  purchased device worked advertised never much ...\n",
       "2           2        1  works expected sprung higher capacity think ma...\n",
       "3           3        1  think worked greathad diff bran gb card went s...\n",
       "4           4        1  bought retail packaging arrived legit orange e..."
      ]
     },
     "execution_count": 244,
     "metadata": {},
     "output_type": "execute_result"
    }
   ],
   "source": [
    "dfSimpleSorted.head()"
   ]
  },
  {
   "cell_type": "code",
   "execution_count": 245,
   "metadata": {},
   "outputs": [],
   "source": [
    "# Sort the DataFrame by 'overall' in ascending order\n",
    "dfSimpleSorted = dfSimpleSorted.sort_values(by='overall', ascending=True)"
   ]
  },
  {
   "cell_type": "code",
   "execution_count": 246,
   "metadata": {},
   "outputs": [
    {
     "data": {
      "text/html": [
       "<div>\n",
       "<style scoped>\n",
       "    .dataframe tbody tr th:only-of-type {\n",
       "        vertical-align: middle;\n",
       "    }\n",
       "\n",
       "    .dataframe tbody tr th {\n",
       "        vertical-align: top;\n",
       "    }\n",
       "\n",
       "    .dataframe thead th {\n",
       "        text-align: right;\n",
       "    }\n",
       "</style>\n",
       "<table border=\"1\" class=\"dataframe\">\n",
       "  <thead>\n",
       "    <tr style=\"text-align: right;\">\n",
       "      <th></th>\n",
       "      <th>Unnamed: 0</th>\n",
       "      <th>overall</th>\n",
       "      <th>reviewText</th>\n",
       "    </tr>\n",
       "  </thead>\n",
       "  <tbody>\n",
       "    <tr>\n",
       "      <th>1053</th>\n",
       "      <td>1054</td>\n",
       "      <td>0</td>\n",
       "      <td>would recommend card looking real class write ...</td>\n",
       "    </tr>\n",
       "    <tr>\n",
       "      <th>4367</th>\n",
       "      <td>4368</td>\n",
       "      <td>0</td>\n",
       "      <td>title says card got defective faulty issue sd ...</td>\n",
       "    </tr>\n",
       "    <tr>\n",
       "      <th>295</th>\n",
       "      <td>296</td>\n",
       "      <td>0</td>\n",
       "      <td>thus microsd card worked fine year samsumg not...</td>\n",
       "    </tr>\n",
       "    <tr>\n",
       "      <th>294</th>\n",
       "      <td>295</td>\n",
       "      <td>0</td>\n",
       "      <td>card got hot almost melted crazy card somewher...</td>\n",
       "    </tr>\n",
       "    <tr>\n",
       "      <th>894</th>\n",
       "      <td>895</td>\n",
       "      <td>0</td>\n",
       "      <td>yeah ultra hot could get devices recognize car...</td>\n",
       "    </tr>\n",
       "  </tbody>\n",
       "</table>\n",
       "</div>"
      ],
      "text/plain": [
       "      Unnamed: 0  overall                                         reviewText\n",
       "1053        1054        0  would recommend card looking real class write ...\n",
       "4367        4368        0  title says card got defective faulty issue sd ...\n",
       "295          296        0  thus microsd card worked fine year samsumg not...\n",
       "294          295        0  card got hot almost melted crazy card somewher...\n",
       "894          895        0  yeah ultra hot could get devices recognize car..."
      ]
     },
     "execution_count": 246,
     "metadata": {},
     "output_type": "execute_result"
    }
   ],
   "source": [
    "dfSimpleSorted.head()"
   ]
  },
  {
   "cell_type": "code",
   "execution_count": 247,
   "metadata": {},
   "outputs": [
    {
     "name": "stdout",
     "output_type": "stream",
     "text": [
      "overall\n",
      "1    4590\n",
      "0     324\n",
      "Name: count, dtype: int64\n",
      "overall\n",
      "1    93.406593\n",
      "0     6.593407\n",
      "Name: proportion, dtype: float64\n"
     ]
    }
   ],
   "source": [
    "counts = dfSimpleSorted['overall'].value_counts()\n",
    "percentages = dfSimpleSorted['overall'].value_counts(normalize=True) * 100\n",
    "print(counts)\n",
    "print(percentages)"
   ]
  },
  {
   "cell_type": "code",
   "execution_count": 248,
   "metadata": {},
   "outputs": [],
   "source": [
    "from sklearn.model_selection import train_test_split"
   ]
  },
  {
   "cell_type": "code",
   "execution_count": 249,
   "metadata": {},
   "outputs": [
    {
     "name": "stdout",
     "output_type": "stream",
     "text": [
      "Training set distribution:\n",
      "overall\n",
      "0    50.0\n",
      "1    50.0\n",
      "Name: proportion, dtype: float64\n",
      "\n",
      "Testing set distribution:\n",
      "overall\n",
      "1    98.521383\n",
      "0     1.478617\n",
      "Name: proportion, dtype: float64\n",
      "Tamany train: 518\n",
      "Tamany test: 4396\n",
      "Tamany dataset: 4914\n"
     ]
    }
   ],
   "source": [
    "# Define the target size for the train set\n",
    "train_size = 0.8\n",
    "\n",
    "# Calculate the number of entries for a balanced train set\n",
    "train_count = min(\n",
    "    int(dfSimpleSorted[dfSimpleSorted['overall'] == 0].shape[0] * train_size), \n",
    "    int(dfSimpleSorted[dfSimpleSorted['overall'] == 1].shape[0] * train_size)\n",
    ")\n",
    "\n",
    "# Manually create a balanced train set\n",
    "train_df_0 = dfSimpleSorted[dfSimpleSorted['overall'] == 0].sample(train_count, random_state=42)\n",
    "train_df_1 = dfSimpleSorted[dfSimpleSorted['overall'] == 1].sample(train_count, random_state=42)\n",
    "\n",
    "# Combine and shuffle the train set\n",
    "train_df = pd.concat([train_df_0, train_df_1]).sample(frac=1, random_state=42)\n",
    "\n",
    "# Create the test set by excluding train entries\n",
    "test_df = dfSimpleSorted.drop(train_df.index)\n",
    "\n",
    "# Verify the class distributions\n",
    "print(\"Training set distribution:\")\n",
    "print(train_df['overall'].value_counts(normalize=True) * 100)\n",
    "\n",
    "print(\"\\nTesting set distribution:\")\n",
    "print(test_df['overall'].value_counts(normalize=True) * 100)\n",
    "\n",
    "\n",
    "print(\"Tamany train:\",len(train_df))\n",
    "print(\"Tamany test:\",len(test_df))\n",
    "print(\"Tamany dataset:\",len(dfSimpleSorted))"
   ]
  },
  {
   "cell_type": "code",
   "execution_count": 250,
   "metadata": {},
   "outputs": [
    {
     "name": "stdout",
     "output_type": "stream",
     "text": [
      "Entries with overall = 0 in training set: 259\n",
      "Entries with overall = 0 in testing set: 65\n"
     ]
    }
   ],
   "source": [
    "# Partir en Xtrain, ytrain, Xtest, ytest\n",
    "X_train = train_df['reviewText']\n",
    "y_train = train_df['overall']\n",
    "\n",
    "X_test = test_df['reviewText']\n",
    "y_test = test_df['overall']\n",
    "\n",
    "\n",
    "# Count entries with overall = 0 in training and testing sets\n",
    "train_overall_0_count = y_train[y_train == 0].count()\n",
    "test_overall_0_count = y_test[y_test == 0].count()\n",
    "\n",
    "# Print results\n",
    "print(f\"Entries with overall = 0 in training set: {train_overall_0_count}\")\n",
    "print(f\"Entries with overall = 0 in testing set: {test_overall_0_count}\")\n",
    "\n",
    "# Reviews with overall = 0 --> 324\n",
    "# train --> 80% of the reviews with overall = 0 (259/324)\n",
    "# test --> 20% of the reviews with overall = 0 (64/324)\n",
    "\n",
    "# trainsize = 518 (10% of Dataset)\n",
    "# testsize = 4396 (90% of Dataset)"
   ]
  },
  {
   "cell_type": "code",
   "execution_count": 251,
   "metadata": {},
   "outputs": [
    {
     "name": "stdout",
     "output_type": "stream",
     "text": [
      "Test set distribution:\n",
      "overall\n",
      "1    4331\n",
      "0      65\n",
      "Name: count, dtype: int64\n"
     ]
    }
   ],
   "source": [
    "print(\"Test set distribution:\")\n",
    "print(y_test.value_counts())"
   ]
  },
  {
   "cell_type": "code",
   "execution_count": 252,
   "metadata": {},
   "outputs": [],
   "source": [
    "from sklearn.feature_extraction.text import TfidfVectorizer\n",
    "\n",
    "# Initialize TF-IDF Vectorizer\n",
    "tfidf = TfidfVectorizer(max_features=5000)\n",
    "\n",
    "# Apply TF-IDF on the training and testing sets\n",
    "X_train = tfidf.fit_transform(X_train)  # Learn vocabulary and transform train set\n",
    "X_test = tfidf.transform(X_test)        # Only transform test set\n"
   ]
  },
  {
   "cell_type": "code",
   "execution_count": 253,
   "metadata": {},
   "outputs": [],
   "source": [
    "from sklearn.linear_model import LogisticRegression\n",
    "from sklearn.ensemble import RandomForestClassifier\n",
    "from sklearn.metrics import accuracy_score, precision_score, recall_score, f1_score, roc_curve, auc\n",
    "from sklearn.ensemble import GradientBoostingClassifier\n",
    "from sklearn.naive_bayes import BernoulliNB, GaussianNB\n",
    "from sklearn.naive_bayes import MultinomialNB\n",
    "from sklearn.tree import DecisionTreeClassifier\n",
    "from sklearn.svm import SVC\n",
    "from sklearn.neighbors import KNeighborsClassifier\n",
    "import matplotlib.pyplot as plt\n",
    "import numpy as np"
   ]
  },
  {
   "cell_type": "code",
   "execution_count": 254,
   "metadata": {},
   "outputs": [
    {
     "name": "stdout",
     "output_type": "stream",
     "text": [
      "Training Logistic Regression...\n",
      "Training Random Forest...\n",
      "Training Naive Bayes (Multinomial)...\n",
      "Training Naive Bayes (Bernoulli)...\n",
      "Training Naive Bayes (Gaussian)...\n",
      "Training Decision Tree...\n",
      "Training SVM...\n",
      "Training K-Nearest Neighbors...\n",
      "Training Gradient Boosting...\n",
      "Resultados para Logistic Regression:\n",
      "Accuracy: 0.8510\n",
      "Precision: 0.9989\n",
      "Recall: 0.8497\n",
      "F1 Score: 0.9183\n",
      "ROC AUC: 0.9502\n",
      "\n",
      "\n",
      "Resultados para Random Forest:\n",
      "Accuracy: 0.8631\n",
      "Precision: 0.9973\n",
      "Recall: 0.8633\n",
      "F1 Score: 0.9255\n",
      "ROC AUC: 0.9299\n",
      "\n",
      "\n",
      "Resultados para Naive Bayes (Multinomial):\n",
      "Accuracy: 0.8098\n",
      "Precision: 0.9994\n",
      "Recall: 0.8074\n",
      "F1 Score: 0.8932\n",
      "ROC AUC: 0.9544\n",
      "\n",
      "\n",
      "Resultados para Naive Bayes (Bernoulli):\n",
      "Accuracy: 0.9313\n",
      "Precision: 0.9936\n",
      "Recall: 0.9363\n",
      "F1 Score: 0.9641\n",
      "ROC AUC: 0.9148\n",
      "\n",
      "\n",
      "Resultados para Naive Bayes (Gaussian):\n",
      "Accuracy: 0.4882\n",
      "Precision: 0.9952\n",
      "Recall: 0.4828\n",
      "F1 Score: 0.6502\n",
      "ROC AUC: 0.6645\n",
      "\n",
      "\n",
      "Resultados para Decision Tree:\n",
      "Accuracy: 0.7778\n",
      "Precision: 0.9938\n",
      "Recall: 0.7793\n",
      "F1 Score: 0.8736\n",
      "ROC AUC: 0.7281\n",
      "\n",
      "\n",
      "Resultados para SVM:\n",
      "Accuracy: 0.8601\n",
      "Precision: 0.9989\n",
      "Recall: 0.8589\n",
      "F1 Score: 0.9236\n",
      "ROC AUC: 0.9513\n",
      "\n",
      "\n",
      "Resultados para K-Nearest Neighbors:\n",
      "Accuracy: 0.8069\n",
      "Precision: 0.9971\n",
      "Recall: 0.8063\n",
      "F1 Score: 0.8916\n",
      "ROC AUC: 0.8979\n",
      "\n",
      "\n",
      "Resultados para Gradient Boosting:\n",
      "Accuracy: 0.8435\n",
      "Precision: 0.9973\n",
      "Recall: 0.8435\n",
      "F1 Score: 0.9139\n",
      "ROC AUC: 0.9201\n",
      "\n",
      "\n"
     ]
    },
    {
     "data": {
      "image/png": "[encoded data removed]",
      "text/plain": [
       "<Figure size 1000x500 with 1 Axes>"
      ]
     },
     "metadata": {},
     "output_type": "display_data"
    }
   ],
   "source": [
    "# Entrenar y evaluar modelos\n",
    "# Define models, adding new classifiers\n",
    "models = {\n",
    "    \"Logistic Regression\": LogisticRegression(max_iter=1000),\n",
    "    \"Random Forest\": RandomForestClassifier(n_estimators=100),\n",
    "    \"Naive Bayes (Multinomial)\": MultinomialNB(),\n",
    "    \"Naive Bayes (Bernoulli)\": BernoulliNB(),\n",
    "    \"Naive Bayes (Gaussian)\": GaussianNB(),\n",
    "    \"Decision Tree\": DecisionTreeClassifier(),\n",
    "    \"SVM\": SVC(probability=True),\n",
    "    \"K-Nearest Neighbors\": KNeighborsClassifier(),\n",
    "    \"Gradient Boosting\": GradientBoostingClassifier(n_estimators=100)\n",
    "}\n",
    "\n",
    "results = {}\n",
    "\n",
    "for model_name, model in models.items():\n",
    "    print(f\"Training {model_name}...\")\n",
    "    # Handle sparse matrix for Gaussian Naive Bayes\n",
    "    if model_name == \"Naive Bayes (Gaussian)\":\n",
    "        model.fit(X_train.toarray(), y_train)\n",
    "        y_pred = model.predict(X_test.toarray())\n",
    "        y_pred_prob = model.predict_proba(X_test.toarray())[:, 1]\n",
    "    else:\n",
    "        model.fit(X_train, y_train)\n",
    "        y_pred = model.predict(X_test)\n",
    "        y_pred_prob = model.predict_proba(X_test)[:, 1]\n",
    "    \n",
    "    # Evaluate performance\n",
    "    accuracy = accuracy_score(y_test, y_pred)\n",
    "    precision = precision_score(y_test, y_pred, average='binary')\n",
    "    recall = recall_score(y_test, y_pred, average='binary')\n",
    "    f1 = f1_score(y_test, y_pred, average='binary')\n",
    "    fpr, tpr, _ = roc_curve(y_test, y_pred_prob)\n",
    "    roc_auc = auc(fpr, tpr)\n",
    "    \n",
    "    # Store results\n",
    "    results[model_name] = {\n",
    "        \"Accuracy\": accuracy,\n",
    "        \"Precision\": precision,\n",
    "        \"Recall\": recall,\n",
    "        \"F1 Score\": f1,\n",
    "        \"ROC AUC\": roc_auc,\n",
    "        \"FPR\": fpr,\n",
    "        \"TPR\": tpr\n",
    "    }\n",
    "\n",
    "\n",
    "# Imprimir resultados\n",
    "for model_name, metrics in results.items():\n",
    "    print(f\"Resultados para {model_name}:\")\n",
    "    for metric, value in metrics.items():\n",
    "        if isinstance(value, np.ndarray):\n",
    "            continue\n",
    "        print(f\"{metric}: {value:.4f}\")\n",
    "    print(\"\\n\")\n",
    "\n",
    "# Crear gráfico comparativo de la curva ROC\n",
    "plt.figure(figsize=(10, 5))\n",
    "for model_name, metrics in results.items():\n",
    "    plt.plot(metrics[\"FPR\"], metrics[\"TPR\"], label=f'{model_name} (AUC = {metrics[\"ROC AUC\"]:.4f})')\n",
    "\n",
    "plt.plot([0, 1], [0, 1], 'k--')\n",
    "plt.xlim([0.0, 1.0])\n",
    "plt.ylim([0.0, 1.05])\n",
    "plt.xlabel('False Positive Rate')\n",
    "plt.ylabel('True Positive Rate')\n",
    "plt.title('Curva ROC Comparativa')\n",
    "plt.legend(loc=\"lower right\")\n",
    "plt.show()"
   ]
  },
  {
   "cell_type": "code",
   "execution_count": 255,
   "metadata": {},
   "outputs": [],
   "source": [
    "import os\n",
    "import pandas as pd\n",
    "import numpy as np\n",
    "from sklearn.feature_extraction.text import TfidfVectorizer\n",
    "from sklearn.model_selection import train_test_split, GridSearchCV\n",
    "from sklearn.linear_model import LogisticRegression\n",
    "from sklearn.ensemble import RandomForestClassifier, GradientBoostingClassifier\n",
    "from sklearn.naive_bayes import MultinomialNB, BernoulliNB\n",
    "from sklearn.tree import DecisionTreeClassifier\n",
    "from sklearn.svm import SVC\n",
    "from sklearn.neighbors import KNeighborsClassifier\n",
    "from sklearn.metrics import accuracy_score, precision_score, recall_score, f1_score, roc_curve, auc, confusion_matrix\n",
    "import matplotlib.pyplot as plt\n",
    "import seaborn as sns"
   ]
  },
  {
   "cell_type": "code",
   "execution_count": 256,
   "metadata": {},
   "outputs": [],
   "source": [
    "# Crear directori per guardar gràfiques\n",
    "os.makedirs('hyperParamsOriginalBalancedDataset_plots', exist_ok=True)\n",
    "\n",
    "output_file = open('hyperParamsOriginalBalancedDataset.txt', 'w')\n"
   ]
  },
  {
   "cell_type": "code",
   "execution_count": 257,
   "metadata": {},
   "outputs": [],
   "source": [
    "\n",
    "# Define models and their hyperparameter grids\n",
    "models = {\n",
    "    \"Logistic Regression\": LogisticRegression(max_iter=1000),\n",
    "    \"Random Forest\": RandomForestClassifier(),\n",
    "    \"K-Nearest Neighbors\": KNeighborsClassifier(),\n",
    "    \"Gradient Boosting\": GradientBoostingClassifier()\n",
    "}\n",
    "\n",
    "param_grid = {\n",
    "    \"Logistic Regression\": {'C': [0.1, 1, 10], 'solver': ['newton-cg', 'lbfgs']},\n",
    "    \"Random Forest\": {\n",
    "        'n_estimators': [50, 100],\n",
    "        'max_features': ['sqrt', 'log2'],\n",
    "        'max_depth': [None, 10, 20]\n",
    "    },\n",
    "    \"K-Nearest Neighbors\": {\n",
    "        'n_neighbors': [3, 5],\n",
    "        'weights': ['uniform', 'distance'],\n",
    "        'metric': ['euclidean']\n",
    "    },\n",
    "    \"Gradient Boosting\": {\n",
    "        'n_estimators': [50, 100],\n",
    "        'learning_rate': [0.01, 0.1],\n",
    "        'max_depth': [3, 5]\n",
    "    }\n",
    "}\n"
   ]
  },
  {
   "cell_type": "code",
   "execution_count": 258,
   "metadata": {},
   "outputs": [
    {
     "name": "stdout",
     "output_type": "stream",
     "text": [
      "Tuning hyperparameters for Logistic Regression...\n"
     ]
    },
    {
     "name": "stdout",
     "output_type": "stream",
     "text": [
      "Tuning hyperparameters for Random Forest...\n",
      "Tuning hyperparameters for K-Nearest Neighbors...\n",
      "Tuning hyperparameters for Gradient Boosting...\n"
     ]
    }
   ],
   "source": [
    "# Perform GridSearchCV\n",
    "best_params = {}\n",
    "for model_name, model in models.items():\n",
    "    print(f\"Tuning hyperparameters for {model_name}...\")\n",
    "    grid_search = GridSearchCV(estimator=model, param_grid=param_grid[model_name], cv=3, scoring='accuracy', n_jobs=-1)\n",
    "    grid_search.fit(X_train, y_train)\n",
    "    best_params[model_name] = grid_search.best_params_\n",
    "    output_file.write(f\"{model_name} best params: {grid_search.best_params_}\\n\")\n"
   ]
  },
  {
   "cell_type": "code",
   "execution_count": 259,
   "metadata": {},
   "outputs": [
    {
     "name": "stdout",
     "output_type": "stream",
     "text": [
      "Training Logistic Regression with best parameters...\n",
      "Logistic Regression prediction distribution:\n",
      "1    3684\n",
      "0     712\n",
      "Name: count, dtype: int64\n",
      "Training Random Forest with best parameters...\n",
      "Random Forest prediction distribution:\n",
      "1    3657\n",
      "0     739\n",
      "Name: count, dtype: int64\n",
      "Training K-Nearest Neighbors with best parameters...\n",
      "K-Nearest Neighbors prediction distribution:\n",
      "1    3502\n",
      "0     894\n",
      "Name: count, dtype: int64\n",
      "Training Gradient Boosting with best parameters...\n",
      "Gradient Boosting prediction distribution:\n",
      "1    3669\n",
      "0     727\n",
      "Name: count, dtype: int64\n"
     ]
    }
   ],
   "source": [
    "# Evaluate models with the best hyperparameters\n",
    "results = {}\n",
    "for model_name, model in models.items():\n",
    "    print(f\"Training {model_name} with best parameters...\")\n",
    "    model.set_params(**best_params[model_name])\n",
    "    model.fit(X_train, y_train)\n",
    "    y_pred = model.predict(X_test)\n",
    "    print(f\"{model_name} prediction distribution:\")\n",
    "    print(pd.Series(y_pred).value_counts())\n",
    "    y_pred_prob = model.predict_proba(X_test)[:, 1]\n",
    "\n",
    "    accuracy = accuracy_score(y_test, y_pred)\n",
    "    precision = precision_score(y_test, y_pred, average='binary')\n",
    "    recall = recall_score(y_test, y_pred, average='binary')\n",
    "    f1 = f1_score(y_test, y_pred, average='binary')\n",
    "    fpr, tpr, _ = roc_curve(y_test, y_pred_prob)\n",
    "    roc_auc = auc(fpr, tpr)\n",
    "\n",
    "    results[model_name] = {\n",
    "        \"Accuracy\": accuracy,\n",
    "        \"Precision\": precision,\n",
    "        \"Recall\": recall,\n",
    "        \"F1 Score\": f1,\n",
    "        \"ROC AUC\": roc_auc,\n",
    "        \"FPR\": fpr,\n",
    "        \"TPR\": tpr\n",
    "    }"
   ]
  },
  {
   "cell_type": "code",
   "execution_count": 260,
   "metadata": {},
   "outputs": [],
   "source": [
    "# Save and plot results\n",
    "for model_name, metrics in results.items():\n",
    "    output_file.write(f\"Results for {model_name}:\\n\")\n",
    "    for metric, value in metrics.items():\n",
    "        if isinstance(value, np.ndarray):\n",
    "            continue\n",
    "        output_file.write(f\"{metric}: {value:.4f}\\n\")\n",
    "\n",
    "    cm = confusion_matrix(y_test, models[model_name].predict(X_test), labels=[1, 0])\n",
    "    #cm = confusion_matrix(y_test, models[model_name].predict(X_test))\n",
    "    plt.figure(figsize=(8, 6))\n",
    "    sns.heatmap(cm, annot=True, fmt='d', cmap='Blues', cbar=False, xticklabels=['Positive', 'Negative'], yticklabels=['Positive', 'Negative'])\n",
    "    plt.title(f'Confusion Matrix for {model_name}')\n",
    "    plt.xlabel('Predicted')\n",
    "    plt.ylabel('Actual')\n",
    "    plt.savefig(f'hyperParamsOriginalBalancedDataset_plots/confusion_matrix_{model_name}.png')\n",
    "    plt.close()"
   ]
  },
  {
   "cell_type": "code",
   "execution_count": 261,
   "metadata": {},
   "outputs": [
    {
     "name": "stdout",
     "output_type": "stream",
     "text": [
      "Hyperparameter tuning and evaluation complete.\n"
     ]
    }
   ],
   "source": [
    "# Plot ROC Curves\n",
    "plt.figure(figsize=(10, 5))\n",
    "for model_name, metrics in results.items():\n",
    "    plt.plot(metrics[\"FPR\"], metrics[\"TPR\"], label=f'{model_name} (AUC = {metrics[\"ROC AUC\"]:.4f})')\n",
    "\n",
    "plt.plot([0, 1], [0, 1], 'k--')\n",
    "plt.xlabel('False Positive Rate')\n",
    "plt.ylabel('True Positive Rate')\n",
    "plt.title('Comparative ROC Curves')\n",
    "plt.legend(loc=\"lower right\")\n",
    "plt.savefig('hyperParamsOriginalBalancedDataset_plots/roc_curves.png')\n",
    "plt.close()\n",
    "\n",
    "output_file.close()\n",
    "print(\"Hyperparameter tuning and evaluation complete.\")\n"
   ]
  },
  {
   "cell_type": "code",
   "execution_count": 262,
   "metadata": {},
   "outputs": [],
   "source": [
    "# Repetir pero con 80% train y 20% test\n"
   ]
  },
  {
   "cell_type": "code",
   "execution_count": 263,
   "metadata": {},
   "outputs": [],
   "source": [
    "# Balance dataset for train and test\n",
    "train_size = 0.8\n",
    "train_count = min(\n",
    "    int(dfSimpleSorted[dfSimpleSorted['overall'] == 0].shape[0] * train_size), \n",
    "    int(dfSimpleSorted[dfSimpleSorted['overall'] == 1].shape[0] * train_size)\n",
    ")\n",
    "\n",
    "# Create balanced train and test sets\n",
    "train_df_0 = dfSimpleSorted[dfSimpleSorted['overall'] == 0].sample(train_count, random_state=42)\n",
    "train_df_1 = dfSimpleSorted[dfSimpleSorted['overall'] == 1].sample(train_count, random_state=42)\n",
    "train_df = pd.concat([train_df_0, train_df_1]).sample(frac=1, random_state=42)\n",
    "\n",
    "remaining_df = dfSimpleSorted.drop(train_df.index)\n",
    "test_count = min(\n",
    "    int(remaining_df[remaining_df['overall'] == 0].shape[0]), \n",
    "    int(remaining_df[remaining_df['overall'] == 1].shape[0])\n",
    ")\n",
    "\n",
    "test_df_0 = remaining_df[remaining_df['overall'] == 0].sample(test_count, random_state=42)\n",
    "test_df_1 = remaining_df[remaining_df['overall'] == 1].sample(test_count, random_state=42)\n",
    "test_df = pd.concat([test_df_0, test_df_1]).sample(frac=1, random_state=42)\n"
   ]
  },
  {
   "cell_type": "code",
   "execution_count": 264,
   "metadata": {},
   "outputs": [
    {
     "name": "stdout",
     "output_type": "stream",
     "text": [
      "Training set distribution:\n",
      "overall\n",
      "0    50.0\n",
      "1    50.0\n",
      "Name: proportion, dtype: float64\n",
      "Tamany train: 518\n",
      "\n",
      "Testing set distribution:\n",
      "overall\n",
      "0    50.0\n",
      "1    50.0\n",
      "Name: proportion, dtype: float64\n",
      "Tamany test: 130\n"
     ]
    }
   ],
   "source": [
    "# Verify the class distributions\n",
    "print(\"Training set distribution:\")\n",
    "print(train_df['overall'].value_counts(normalize=True) * 100)\n",
    "print(\"Tamany train:\",len(train_df))\n",
    "\n",
    "print(\"\\nTesting set distribution:\")\n",
    "print(test_df['overall'].value_counts(normalize=True) * 100)\n",
    "print(\"Tamany test:\",len(test_df))"
   ]
  },
  {
   "cell_type": "code",
   "execution_count": 265,
   "metadata": {},
   "outputs": [
    {
     "name": "stdout",
     "output_type": "stream",
     "text": [
      "Entries with overall = 0 in training set: 259\n",
      "Entries with overall = 0 in testing set: 65\n"
     ]
    }
   ],
   "source": [
    "# Partir en Xtrain, ytrain, Xtest, ytest\n",
    "X_train = train_df['reviewText']\n",
    "y_train = train_df['overall']\n",
    "\n",
    "X_test = test_df['reviewText']\n",
    "y_test = test_df['overall']\n",
    "\n",
    "\n",
    "# Count entries with overall = 0 in training and testing sets\n",
    "train_overall_0_count = y_train[y_train == 0].count()\n",
    "test_overall_0_count = y_test[y_test == 0].count()\n",
    "\n",
    "# Print results\n",
    "print(f\"Entries with overall = 0 in training set: {train_overall_0_count}\")\n",
    "print(f\"Entries with overall = 0 in testing set: {test_overall_0_count}\")\n",
    "\n",
    "\n",
    "# Reviews with overall = 0 --> 324\n",
    "# train --> 80% of reviews with overall = 0 (259/324)\n",
    "# test --> 20% of reviews with overall = 0 (64/324)\n",
    "\n",
    "# trainsize = 518 (80% of Dataset)\n",
    "# testsize = 130 (20% of Dataset)"
   ]
  },
  {
   "cell_type": "code",
   "execution_count": 266,
   "metadata": {},
   "outputs": [],
   "source": [
    "# TF-IDF transformation\n",
    "tfidf = TfidfVectorizer(max_features=5000)\n",
    "X_train = tfidf.fit_transform(train_df['reviewText'])\n",
    "X_test = tfidf.transform(test_df['reviewText'])"
   ]
  },
  {
   "cell_type": "code",
   "execution_count": 267,
   "metadata": {},
   "outputs": [],
   "source": [
    "# Crear directori per guardar gràfiques\n",
    "os.makedirs('hyperParamsOriginalBalancedDataset_plots2', exist_ok=True)\n",
    "\n",
    "output_file = open('hyperParamsOriginalBalancedDataset2.txt', 'w')"
   ]
  },
  {
   "cell_type": "code",
   "execution_count": 268,
   "metadata": {},
   "outputs": [],
   "source": [
    "# Define models and their hyperparameter grids\n",
    "models = {\n",
    "    \"Logistic Regression\": LogisticRegression(max_iter=1000),\n",
    "    \"Random Forest\": RandomForestClassifier(),\n",
    "    \"K-Nearest Neighbors\": KNeighborsClassifier(),\n",
    "    \"Gradient Boosting\": GradientBoostingClassifier()\n",
    "}\n",
    "\n",
    "param_grid = {\n",
    "    \"Logistic Regression\": {'C': [0.1, 1, 10], 'solver': ['newton-cg', 'lbfgs']},\n",
    "    \"Random Forest\": {\n",
    "        'n_estimators': [50, 100],\n",
    "        'max_features': ['sqrt', 'log2'],\n",
    "        'max_depth': [None, 10, 20]\n",
    "    },\n",
    "    \"K-Nearest Neighbors\": {\n",
    "        'n_neighbors': [3, 5],\n",
    "        'weights': ['uniform', 'distance'],\n",
    "        'metric': ['euclidean']\n",
    "    },\n",
    "    \"Gradient Boosting\": {\n",
    "        'n_estimators': [50, 100],\n",
    "        'learning_rate': [0.01, 0.1],\n",
    "        'max_depth': [3, 5]\n",
    "    }\n",
    "}"
   ]
  },
  {
   "cell_type": "code",
   "execution_count": 269,
   "metadata": {},
   "outputs": [
    {
     "name": "stdout",
     "output_type": "stream",
     "text": [
      "Tuning hyperparameters for Logistic Regression...\n",
      "Tuning hyperparameters for Random Forest...\n",
      "Tuning hyperparameters for K-Nearest Neighbors...\n",
      "Tuning hyperparameters for Gradient Boosting...\n"
     ]
    }
   ],
   "source": [
    "# Perform GridSearchCV\n",
    "best_params = {}\n",
    "for model_name, model in models.items():\n",
    "    print(f\"Tuning hyperparameters for {model_name}...\")\n",
    "    grid_search = GridSearchCV(estimator=model, param_grid=param_grid[model_name], cv=3, scoring='accuracy', n_jobs=-1)\n",
    "    grid_search.fit(X_train, y_train)\n",
    "    best_params[model_name] = grid_search.best_params_\n",
    "    output_file.write(f\"{model_name} best params: {grid_search.best_params_}\\n\")"
   ]
  },
  {
   "cell_type": "code",
   "execution_count": 270,
   "metadata": {},
   "outputs": [
    {
     "name": "stdout",
     "output_type": "stream",
     "text": [
      "Training Logistic Regression with best parameters...\n",
      "Logistic Regression prediction distribution:\n",
      "0    69\n",
      "1    61\n",
      "Name: count, dtype: int64\n",
      "Training Random Forest with best parameters...\n",
      "Random Forest prediction distribution:\n",
      "1    67\n",
      "0    63\n",
      "Name: count, dtype: int64\n",
      "Training K-Nearest Neighbors with best parameters...\n",
      "K-Nearest Neighbors prediction distribution:\n",
      "0    70\n",
      "1    60\n",
      "Name: count, dtype: int64\n",
      "Training Gradient Boosting with best parameters...\n",
      "Gradient Boosting prediction distribution:\n",
      "0    67\n",
      "1    63\n",
      "Name: count, dtype: int64\n"
     ]
    }
   ],
   "source": [
    "# Evaluate models with the best hyperparameters\n",
    "results = {}\n",
    "for model_name, model in models.items():\n",
    "    print(f\"Training {model_name} with best parameters...\")\n",
    "    model.set_params(**best_params[model_name])\n",
    "    model.fit(X_train, y_train)\n",
    "    y_pred = model.predict(X_test)\n",
    "    print(f\"{model_name} prediction distribution:\")\n",
    "    print(pd.Series(y_pred).value_counts())\n",
    "    y_pred_prob = model.predict_proba(X_test)[:, 1]\n",
    "\n",
    "    accuracy = accuracy_score(y_test, y_pred)\n",
    "    precision = precision_score(y_test, y_pred, average='binary')\n",
    "    recall = recall_score(y_test, y_pred, average='binary')\n",
    "    f1 = f1_score(y_test, y_pred, average='binary')\n",
    "    fpr, tpr, _ = roc_curve(y_test, y_pred_prob)\n",
    "    roc_auc = auc(fpr, tpr)\n",
    "\n",
    "    results[model_name] = {\n",
    "        \"Accuracy\": accuracy,\n",
    "        \"Precision\": precision,\n",
    "        \"Recall\": recall,\n",
    "        \"F1 Score\": f1,\n",
    "        \"ROC AUC\": roc_auc,\n",
    "        \"FPR\": fpr,\n",
    "        \"TPR\": tpr\n",
    "    }"
   ]
  },
  {
   "cell_type": "code",
   "execution_count": 271,
   "metadata": {},
   "outputs": [],
   "source": [
    "# Save and plot results\n",
    "for model_name, metrics in results.items():\n",
    "    output_file.write(f\"Results for {model_name}:\\n\")\n",
    "    for metric, value in metrics.items():\n",
    "        if isinstance(value, np.ndarray):\n",
    "            continue\n",
    "        output_file.write(f\"{metric}: {value:.4f}\\n\")\n",
    "\n",
    "    #cm = confusion_matrix(y_test, models[model_name].predict(X_test))    \n",
    "    cm = confusion_matrix(y_test, models[model_name].predict(X_test), labels=[1, 0])\n",
    "    plt.figure(figsize=(8, 6))\n",
    "    sns.heatmap(cm, annot=True, fmt='d', cmap='Blues', cbar=False, xticklabels=['Positive', 'Negative'], yticklabels=['Positive', 'Negative'])\n",
    "    plt.title(f'Confusion Matrix for {model_name}')\n",
    "    plt.xlabel('Predicted')\n",
    "    plt.ylabel('Actual')\n",
    "    plt.savefig(f'hyperParamsOriginalBalancedDataset_plots2/confusion_matrix_{model_name}.png')\n",
    "    plt.close()"
   ]
  },
  {
   "cell_type": "code",
   "execution_count": 272,
   "metadata": {},
   "outputs": [
    {
     "name": "stdout",
     "output_type": "stream",
     "text": [
      "Hyperparameter tuning and evaluation complete.\n"
     ]
    }
   ],
   "source": [
    "# Plot ROC Curves\n",
    "plt.figure(figsize=(10, 5))\n",
    "for model_name, metrics in results.items():\n",
    "    plt.plot(metrics[\"FPR\"], metrics[\"TPR\"], label=f'{model_name} (AUC = {metrics[\"ROC AUC\"]:.4f})')\n",
    "\n",
    "plt.plot([0, 1], [0, 1], 'k--')\n",
    "plt.xlabel('False Positive Rate')\n",
    "plt.ylabel('True Positive Rate')\n",
    "plt.title('Comparative ROC Curves')\n",
    "plt.legend(loc=\"lower right\")\n",
    "plt.savefig('hyperParamsOriginalBalancedDataset_plots2/roc_curves.png')\n",
    "plt.close()\n",
    "\n",
    "output_file.close()\n",
    "print(\"Hyperparameter tuning and evaluation complete.\")\n"
   ]
  }
 ],
 "metadata": {
  "kernelspec": {
   "display_name": "base",
   "language": "python",
   "name": "python3"
  },
  "language_info": {
   "codemirror_mode": {
    "name": "ipython",
    "version": 3
   },
   "file_extension": ".py",
   "mimetype": "text/x-python",
   "name": "python",
   "nbconvert_exporter": "python",
   "pygments_lexer": "ipython3",
   "version": "3.9.12"
  }
 },
 "nbformat": 4,
 "nbformat_minor": 2
}
