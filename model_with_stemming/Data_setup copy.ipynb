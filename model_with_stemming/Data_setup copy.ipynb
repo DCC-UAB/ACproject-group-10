{
 "cells": [
  {
   "cell_type": "code",
   "execution_count": 10,
   "id": "initial_id",
   "metadata": {
    "ExecuteTime": {
     "end_time": "2024-12-10T11:44:31.600619Z",
     "start_time": "2024-12-10T11:44:31.592622Z"
    },
    "collapsed": true
   },
   "outputs": [
    {
     "data": {
      "text/plain": [
       "'\\n# Download latest version\\npath = kagglehub.dataset_download(\"Path to working directory\", \"dataset_name\") # Esto es para descartar el dataset inicial, poner el path en tu ordenador local\\n\\nprint(\"Path to dataset files:\", path)\\n'"
      ]
     },
     "execution_count": 10,
     "metadata": {},
     "output_type": "execute_result"
    }
   ],
   "source": [
    "#import kagglehub\n",
    "\n",
    "\"\"\"\n",
    "# Download latest version\n",
    "path = kagglehub.dataset_download(\"Path to working directory\", \"dataset_name\") # Esto es para descartar el dataset inicial, poner el path en tu ordenador local\n",
    "\n",
    "print(\"Path to dataset files:\", path)\n",
    "\"\"\""
   ]
  },
  {
   "cell_type": "code",
   "execution_count": 11,
   "id": "fb2cfe75dc75c5b5",
   "metadata": {
    "ExecuteTime": {
     "end_time": "2024-12-10T11:44:31.632128Z",
     "start_time": "2024-12-10T11:44:31.605618Z"
    }
   },
   "outputs": [
    {
     "data": {
      "text/html": [
       "<div>\n",
       "<style scoped>\n",
       "    .dataframe tbody tr th:only-of-type {\n",
       "        vertical-align: middle;\n",
       "    }\n",
       "\n",
       "    .dataframe tbody tr th {\n",
       "        vertical-align: top;\n",
       "    }\n",
       "\n",
       "    .dataframe thead th {\n",
       "        text-align: right;\n",
       "    }\n",
       "</style>\n",
       "<table border=\"1\" class=\"dataframe\">\n",
       "  <thead>\n",
       "    <tr style=\"text-align: right;\">\n",
       "      <th></th>\n",
       "      <th>Unnamed: 0</th>\n",
       "      <th>reviewerName</th>\n",
       "      <th>overall</th>\n",
       "      <th>reviewText</th>\n",
       "      <th>reviewTime</th>\n",
       "      <th>day_diff</th>\n",
       "      <th>helpful_yes</th>\n",
       "      <th>helpful_no</th>\n",
       "      <th>total_vote</th>\n",
       "      <th>score_pos_neg_diff</th>\n",
       "      <th>score_average_rating</th>\n",
       "      <th>wilson_lower_bound</th>\n",
       "    </tr>\n",
       "  </thead>\n",
       "  <tbody>\n",
       "    <tr>\n",
       "      <th>0</th>\n",
       "      <td>0</td>\n",
       "      <td>NaN</td>\n",
       "      <td>4.0</td>\n",
       "      <td>No issues.</td>\n",
       "      <td>2014-07-23</td>\n",
       "      <td>138</td>\n",
       "      <td>0</td>\n",
       "      <td>0</td>\n",
       "      <td>0</td>\n",
       "      <td>0</td>\n",
       "      <td>0.0</td>\n",
       "      <td>0.0</td>\n",
       "    </tr>\n",
       "    <tr>\n",
       "      <th>1</th>\n",
       "      <td>1</td>\n",
       "      <td>0mie</td>\n",
       "      <td>5.0</td>\n",
       "      <td>Purchased this for my device, it worked as adv...</td>\n",
       "      <td>2013-10-25</td>\n",
       "      <td>409</td>\n",
       "      <td>0</td>\n",
       "      <td>0</td>\n",
       "      <td>0</td>\n",
       "      <td>0</td>\n",
       "      <td>0.0</td>\n",
       "      <td>0.0</td>\n",
       "    </tr>\n",
       "    <tr>\n",
       "      <th>2</th>\n",
       "      <td>2</td>\n",
       "      <td>1K3</td>\n",
       "      <td>4.0</td>\n",
       "      <td>it works as expected. I should have sprung for...</td>\n",
       "      <td>2012-12-23</td>\n",
       "      <td>715</td>\n",
       "      <td>0</td>\n",
       "      <td>0</td>\n",
       "      <td>0</td>\n",
       "      <td>0</td>\n",
       "      <td>0.0</td>\n",
       "      <td>0.0</td>\n",
       "    </tr>\n",
       "    <tr>\n",
       "      <th>3</th>\n",
       "      <td>3</td>\n",
       "      <td>1m2</td>\n",
       "      <td>5.0</td>\n",
       "      <td>This think has worked out great.Had a diff. br...</td>\n",
       "      <td>2013-11-21</td>\n",
       "      <td>382</td>\n",
       "      <td>0</td>\n",
       "      <td>0</td>\n",
       "      <td>0</td>\n",
       "      <td>0</td>\n",
       "      <td>0.0</td>\n",
       "      <td>0.0</td>\n",
       "    </tr>\n",
       "    <tr>\n",
       "      <th>4</th>\n",
       "      <td>4</td>\n",
       "      <td>2&amp;amp;1/2Men</td>\n",
       "      <td>5.0</td>\n",
       "      <td>Bought it with Retail Packaging, arrived legit...</td>\n",
       "      <td>2013-07-13</td>\n",
       "      <td>513</td>\n",
       "      <td>0</td>\n",
       "      <td>0</td>\n",
       "      <td>0</td>\n",
       "      <td>0</td>\n",
       "      <td>0.0</td>\n",
       "      <td>0.0</td>\n",
       "    </tr>\n",
       "  </tbody>\n",
       "</table>\n",
       "</div>"
      ],
      "text/plain": [
       "   Unnamed: 0  reviewerName  overall  \\\n",
       "0           0           NaN      4.0   \n",
       "1           1          0mie      5.0   \n",
       "2           2           1K3      4.0   \n",
       "3           3           1m2      5.0   \n",
       "4           4  2&amp;1/2Men      5.0   \n",
       "\n",
       "                                          reviewText  reviewTime  day_diff  \\\n",
       "0                                         No issues.  2014-07-23       138   \n",
       "1  Purchased this for my device, it worked as adv...  2013-10-25       409   \n",
       "2  it works as expected. I should have sprung for...  2012-12-23       715   \n",
       "3  This think has worked out great.Had a diff. br...  2013-11-21       382   \n",
       "4  Bought it with Retail Packaging, arrived legit...  2013-07-13       513   \n",
       "\n",
       "   helpful_yes  helpful_no  total_vote  score_pos_neg_diff  \\\n",
       "0            0           0           0                   0   \n",
       "1            0           0           0                   0   \n",
       "2            0           0           0                   0   \n",
       "3            0           0           0                   0   \n",
       "4            0           0           0                   0   \n",
       "\n",
       "   score_average_rating  wilson_lower_bound  \n",
       "0                   0.0                 0.0  \n",
       "1                   0.0                 0.0  \n",
       "2                   0.0                 0.0  \n",
       "3                   0.0                 0.0  \n",
       "4                   0.0                 0.0  "
      ]
     },
     "execution_count": 11,
     "metadata": {},
     "output_type": "execute_result"
    }
   ],
   "source": [
    "import pandas as pd\n",
    "df = pd.read_csv('amazon_reviews.csv')\n",
    "df.head() #Aqui podemos ver el dataset usado, varias columnas innecesarias\n"
   ]
  },
  {
   "cell_type": "code",
   "execution_count": 12,
   "id": "9dc28ed821d5d9e9",
   "metadata": {
    "ExecuteTime": {
     "end_time": "2024-12-10T11:44:31.695130Z",
     "start_time": "2024-12-10T11:44:31.680129Z"
    }
   },
   "outputs": [
    {
     "data": {
      "text/html": [
       "<div>\n",
       "<style scoped>\n",
       "    .dataframe tbody tr th:only-of-type {\n",
       "        vertical-align: middle;\n",
       "    }\n",
       "\n",
       "    .dataframe tbody tr th {\n",
       "        vertical-align: top;\n",
       "    }\n",
       "\n",
       "    .dataframe thead th {\n",
       "        text-align: right;\n",
       "    }\n",
       "</style>\n",
       "<table border=\"1\" class=\"dataframe\">\n",
       "  <thead>\n",
       "    <tr style=\"text-align: right;\">\n",
       "      <th></th>\n",
       "      <th>Unnamed: 0</th>\n",
       "      <th>overall</th>\n",
       "      <th>reviewText</th>\n",
       "    </tr>\n",
       "  </thead>\n",
       "  <tbody>\n",
       "    <tr>\n",
       "      <th>0</th>\n",
       "      <td>0</td>\n",
       "      <td>4.0</td>\n",
       "      <td>No issues.</td>\n",
       "    </tr>\n",
       "    <tr>\n",
       "      <th>1</th>\n",
       "      <td>1</td>\n",
       "      <td>5.0</td>\n",
       "      <td>Purchased this for my device, it worked as adv...</td>\n",
       "    </tr>\n",
       "    <tr>\n",
       "      <th>2</th>\n",
       "      <td>2</td>\n",
       "      <td>4.0</td>\n",
       "      <td>it works as expected. I should have sprung for...</td>\n",
       "    </tr>\n",
       "    <tr>\n",
       "      <th>3</th>\n",
       "      <td>3</td>\n",
       "      <td>5.0</td>\n",
       "      <td>This think has worked out great.Had a diff. br...</td>\n",
       "    </tr>\n",
       "    <tr>\n",
       "      <th>4</th>\n",
       "      <td>4</td>\n",
       "      <td>5.0</td>\n",
       "      <td>Bought it with Retail Packaging, arrived legit...</td>\n",
       "    </tr>\n",
       "  </tbody>\n",
       "</table>\n",
       "</div>"
      ],
      "text/plain": [
       "   Unnamed: 0  overall                                         reviewText\n",
       "0           0      4.0                                         No issues.\n",
       "1           1      5.0  Purchased this for my device, it worked as adv...\n",
       "2           2      4.0  it works as expected. I should have sprung for...\n",
       "3           3      5.0  This think has worked out great.Had a diff. br...\n",
       "4           4      5.0  Bought it with Retail Packaging, arrived legit..."
      ]
     },
     "execution_count": 12,
     "metadata": {},
     "output_type": "execute_result"
    }
   ],
   "source": [
    "#Limpiar el dataset\n",
    "dfSimple = df.drop(columns=['reviewerName', 'reviewTime', 'day_diff', 'helpful_yes', 'helpful_no', 'total_vote', 'score_pos_neg_diff', 'score_average_rating', 'wilson_lower_bound'])\n",
    "\n",
    "#De inicio trabajaremos con un dataset masivamente simplificado para poder hacer pruebas, la columna unnamed:0 no se elimina porque es un identificador de la fila y puede ser util mas adelante\n",
    "dfSimple.dropna(subset=[\"reviewText\"], inplace=True)\n",
    "dfSimple.head()\n"
   ]
  },
  {
   "cell_type": "code",
   "execution_count": 13,
   "id": "6b83280d",
   "metadata": {
    "ExecuteTime": {
     "end_time": "2024-12-10T11:44:32.071601Z",
     "start_time": "2024-12-10T11:44:31.727645Z"
    }
   },
   "outputs": [],
   "source": [
    "import re\n",
    "from nltk.corpus import stopwords\n",
    "from nltk.tokenize import word_tokenize\n",
    "import nltk"
   ]
  },
  {
   "cell_type": "code",
   "execution_count": 14,
   "id": "9e9b592d",
   "metadata": {
    "ExecuteTime": {
     "end_time": "2024-12-10T11:44:32.211123Z",
     "start_time": "2024-12-10T11:44:32.102604Z"
    }
   },
   "outputs": [
    {
     "name": "stderr",
     "output_type": "stream",
     "text": [
      "[nltk_data] Downloading package stopwords to\n",
      "[nltk_data]     C:\\Users\\minaa\\AppData\\Roaming\\nltk_data...\n",
      "[nltk_data]   Package stopwords is already up-to-date!\n",
      "[nltk_data] Downloading package punkt to\n",
      "[nltk_data]     C:\\Users\\minaa\\AppData\\Roaming\\nltk_data...\n",
      "[nltk_data]   Package punkt is already up-to-date!\n"
     ]
    },
    {
     "data": {
      "text/plain": [
       "True"
      ]
     },
     "execution_count": 14,
     "metadata": {},
     "output_type": "execute_result"
    }
   ],
   "source": [
    "# NLTK resources\n",
    "nltk.download('stopwords') #Llista de stopwords + comunes\n",
    "nltk.download('punkt')"
   ]
  },
  {
   "cell_type": "code",
   "execution_count": 15,
   "id": "cbf6ac50",
   "metadata": {
    "ExecuteTime": {
     "end_time": "2024-12-10T11:44:32.257628Z",
     "start_time": "2024-12-10T11:44:32.243628Z"
    }
   },
   "outputs": [],
   "source": [
    "from nltk.stem import PorterStemmer\n",
    "from nltk.corpus import stopwords\n",
    "import re\n",
    "\n",
    "def clean_text(text):\n",
    "    # Inicializar el stemmer\n",
    "    stemmer = PorterStemmer()\n",
    "    # Eliminar URLs\n",
    "    text = re.sub(r\"http\\S+|www\\S+|https\\S+\", '', text, flags=re.MULTILINE)\n",
    "    # Eliminar puntuación y números\n",
    "    text = re.sub(r'[^a-zA-Z\\s]', '', text)\n",
    "    # Convertir a minúsculas\n",
    "    text = text.lower()\n",
    "    # Dividir texto en palabras\n",
    "    words = text.split()\n",
    "    # Eliminar stopwords\n",
    "    stop_words = set(stopwords.words('english'))\n",
    "    filtered_words = [word for word in words if word not in stop_words]\n",
    "    # Aplicar stemming a cada palabra\n",
    "    stemmed_words = [stemmer.stem(word) for word in filtered_words]\n",
    "    # Reconstruir el texto procesado\n",
    "    return ' '.join(stemmed_words)"
   ]
  },
  {
   "cell_type": "code",
   "execution_count": 16,
   "id": "a23d3aa2",
   "metadata": {
    "ExecuteTime": {
     "end_time": "2024-12-10T11:44:32.798309Z",
     "start_time": "2024-12-10T11:44:32.265629Z"
    }
   },
   "outputs": [
    {
     "name": "stdout",
     "output_type": "stream",
     "text": [
      "   Unnamed: 0  overall                                         reviewText\n",
      "0           0      4.0                                               issu\n",
      "1           1      5.0  purchas devic work advertis never much phone m...\n",
      "2           2      4.0  work expect sprung higher capac think made bit...\n",
      "3           3      5.0  think work greathad diff bran gb card went sou...\n",
      "4           4      5.0  bought retail packag arriv legit orang envelop...\n"
     ]
    }
   ],
   "source": [
    "# Create a new DataFrame with cleaned reviewText and the overall column\n",
    "dfCleaned = dfSimple.copy()\n",
    "dfCleaned['reviewText'] = dfCleaned['reviewText'].apply(clean_text)  # Apply the cleaning function\n",
    "#dfCleaned['overall'] = dfCleaned['overall']  # Include the overall column\n",
    "\n",
    "print(dfCleaned.head())"
   ]
  },
  {
   "cell_type": "code",
   "execution_count": 17,
   "id": "4e584375",
   "metadata": {
    "ExecuteTime": {
     "end_time": "2024-12-10T11:44:32.845834Z",
     "start_time": "2024-12-10T11:44:32.816319Z"
    }
   },
   "outputs": [
    {
     "name": "stdout",
     "output_type": "stream",
     "text": [
      "Cleaned dataset saved as 'amazon_reviews_Cleaned.csv'\n"
     ]
    }
   ],
   "source": [
    "# Save the cleaned dataset \n",
    "dfCleaned.to_csv('amazon_reviews_Cleaned.csv', index=False)\n",
    "\n",
    "print(\"Cleaned dataset saved as 'amazon_reviews_Cleaned.csv'\")"
   ]
  },
  {
   "cell_type": "code",
   "execution_count": 18,
   "id": "0e970d86",
   "metadata": {
    "ExecuteTime": {
     "end_time": "2024-12-10T11:44:32.877828Z",
     "start_time": "2024-12-10T11:44:32.862876Z"
    }
   },
   "outputs": [
    {
     "data": {
      "text/html": [
       "<div>\n",
       "<style scoped>\n",
       "    .dataframe tbody tr th:only-of-type {\n",
       "        vertical-align: middle;\n",
       "    }\n",
       "\n",
       "    .dataframe tbody tr th {\n",
       "        vertical-align: top;\n",
       "    }\n",
       "\n",
       "    .dataframe thead th {\n",
       "        text-align: right;\n",
       "    }\n",
       "</style>\n",
       "<table border=\"1\" class=\"dataframe\">\n",
       "  <thead>\n",
       "    <tr style=\"text-align: right;\">\n",
       "      <th></th>\n",
       "      <th>Unnamed: 0</th>\n",
       "      <th>overall</th>\n",
       "      <th>reviewText</th>\n",
       "    </tr>\n",
       "  </thead>\n",
       "  <tbody>\n",
       "    <tr>\n",
       "      <th>0</th>\n",
       "      <td>0</td>\n",
       "      <td>1</td>\n",
       "      <td>issu</td>\n",
       "    </tr>\n",
       "    <tr>\n",
       "      <th>1</th>\n",
       "      <td>1</td>\n",
       "      <td>1</td>\n",
       "      <td>purchas devic work advertis never much phone m...</td>\n",
       "    </tr>\n",
       "    <tr>\n",
       "      <th>2</th>\n",
       "      <td>2</td>\n",
       "      <td>1</td>\n",
       "      <td>work expect sprung higher capac think made bit...</td>\n",
       "    </tr>\n",
       "    <tr>\n",
       "      <th>3</th>\n",
       "      <td>3</td>\n",
       "      <td>1</td>\n",
       "      <td>think work greathad diff bran gb card went sou...</td>\n",
       "    </tr>\n",
       "    <tr>\n",
       "      <th>4</th>\n",
       "      <td>4</td>\n",
       "      <td>1</td>\n",
       "      <td>bought retail packag arriv legit orang envelop...</td>\n",
       "    </tr>\n",
       "    <tr>\n",
       "      <th>...</th>\n",
       "      <td>...</td>\n",
       "      <td>...</td>\n",
       "      <td>...</td>\n",
       "    </tr>\n",
       "    <tr>\n",
       "      <th>996</th>\n",
       "      <td>996</td>\n",
       "      <td>1</td>\n",
       "      <td>bought digit record memori card slot card work...</td>\n",
       "    </tr>\n",
       "    <tr>\n",
       "      <th>997</th>\n",
       "      <td>997</td>\n",
       "      <td>1</td>\n",
       "      <td>much say memori card work great go pro hero si...</td>\n",
       "    </tr>\n",
       "    <tr>\n",
       "      <th>998</th>\n",
       "      <td>998</td>\n",
       "      <td>1</td>\n",
       "      <td>gig microsd card cost less dollar per gig clas...</td>\n",
       "    </tr>\n",
       "    <tr>\n",
       "      <th>999</th>\n",
       "      <td>999</td>\n",
       "      <td>1</td>\n",
       "      <td>im nerd hoarder wait year memori gb want carri...</td>\n",
       "    </tr>\n",
       "    <tr>\n",
       "      <th>1000</th>\n",
       "      <td>1000</td>\n",
       "      <td>1</td>\n",
       "      <td>great price work flawless note love glad purch...</td>\n",
       "    </tr>\n",
       "  </tbody>\n",
       "</table>\n",
       "<p>1000 rows × 3 columns</p>\n",
       "</div>"
      ],
      "text/plain": [
       "      Unnamed: 0  overall                                         reviewText\n",
       "0              0        1                                               issu\n",
       "1              1        1  purchas devic work advertis never much phone m...\n",
       "2              2        1  work expect sprung higher capac think made bit...\n",
       "3              3        1  think work greathad diff bran gb card went sou...\n",
       "4              4        1  bought retail packag arriv legit orang envelop...\n",
       "...          ...      ...                                                ...\n",
       "996          996        1  bought digit record memori card slot card work...\n",
       "997          997        1  much say memori card work great go pro hero si...\n",
       "998          998        1  gig microsd card cost less dollar per gig clas...\n",
       "999          999        1  im nerd hoarder wait year memori gb want carri...\n",
       "1000        1000        1  great price work flawless note love glad purch...\n",
       "\n",
       "[1000 rows x 3 columns]"
      ]
     },
     "execution_count": 18,
     "metadata": {},
     "output_type": "execute_result"
    }
   ],
   "source": [
    "#Por ahora, trabajaremos con valores de 0 o 1 en la columna overall para tener un problema simple y poder de inicio identifcar de manera binaria si es positiva o negativa la review. Despues, querremos predecir la nota de la review por el texto con mas exactitud\n",
    "dfSimpleBinary = dfCleaned.copy()\n",
    "dfSimpleBinary['overall'] = dfSimpleBinary['overall'].apply(lambda x: 1 if x > 2.5 else 0)\n",
    "dfSimpleBinary['overall'].value_counts()\n",
    "\n",
    "dfSimpleBinary.head(1000)"
   ]
  },
  {
   "cell_type": "code",
   "execution_count": 19,
   "id": "f024bbdb",
   "metadata": {
    "ExecuteTime": {
     "end_time": "2024-12-10T11:44:32.941339Z",
     "start_time": "2024-12-10T11:44:32.926335Z"
    }
   },
   "outputs": [],
   "source": [
    "#Guardamos el dataset limpio para no sobreescribirlo accidentalmente, este paso es solo una precaucion. solo falta borrar los nans\n",
    "dfSimpleBinary.to_csv('amazon_reviews_simpleBinary.csv', index=False)"
   ]
  },
  {
   "cell_type": "code",
   "execution_count": 20,
   "id": "fe50b752fac2f0ab",
   "metadata": {
    "ExecuteTime": {
     "end_time": "2024-12-10T11:44:32.989333Z",
     "start_time": "2024-12-10T11:44:32.974334Z"
    }
   },
   "outputs": [],
   "source": [
    "#applyCleantext"
   ]
  },
  {
   "cell_type": "code",
   "execution_count": 21,
   "id": "c13e5f6a",
   "metadata": {
    "ExecuteTime": {
     "end_time": "2024-12-10T11:44:33.068607Z",
     "start_time": "2024-12-10T11:44:33.006336Z"
    }
   },
   "outputs": [],
   "source": [
    "from sklearn.feature_extraction.text import TfidfVectorizer\n",
    "\n",
    "# Apply TF-IDF\n",
    "tfidf = TfidfVectorizer(max_features=5000)  # Limit to 5000 features for simplicity\n",
    "X = tfidf.fit_transform(dfSimpleBinary['reviewText'])  \n",
    "\n",
    "# y = Etiqueta\n",
    "y = dfSimpleBinary['overall']  "
   ]
  },
  {
   "cell_type": "code",
   "execution_count": 22,
   "id": "4877c0bb",
   "metadata": {
    "ExecuteTime": {
     "end_time": "2024-12-10T11:44:33.084608Z",
     "start_time": "2024-12-10T11:44:33.073610Z"
    }
   },
   "outputs": [
    {
     "name": "stdout",
     "output_type": "stream",
     "text": [
      "<Compressed Sparse Row sparse matrix of dtype 'float64'\n",
      "\twith 103759 stored elements and shape (4914, 5000)>\n",
      "  Coords\tValues\n",
      "  (0, 1653)\t1.0\n",
      "  (1, 2528)\t0.22702791715087628\n",
      "  (1, 823)\t0.23168499616557184\n",
      "  (1, 4823)\t0.12027106393204469\n",
      "  (1, 41)\t0.32110331227102507\n",
      "  (1, 2000)\t0.251824320893598\n",
      "  (1, 1959)\t0.24263386461118552\n",
      "  (1, 2189)\t0.16180824072442537\n",
      "  (1, 1871)\t0.1727832985024435\n",
      "  (1, 3355)\t0.2793593101838509\n",
      "  (1, 982)\t0.32110331227102507\n",
      "  (1, 1792)\t0.2433692105492486\n",
      "  (1, 3754)\t0.338271858943357\n",
      "  (1, 281)\t0.4940444119950614\n",
      "  (2, 4823)\t0.08629539805931516\n",
      "  (2, 1174)\t0.19674853922011748\n",
      "  (2, 3612)\t0.4274888488415982\n",
      "  (2, 1501)\t0.2833042797190847\n",
      "  (2, 349)\t0.19550914714518575\n",
      "  (2, 4041)\t0.20800024036558318\n",
      "  (2, 1809)\t0.24164575641256789\n",
      "  (2, 233)\t0.2421762558912967\n",
      "  (2, 1057)\t0.3493663798651209\n",
      "  (2, 4533)\t0.23253273682741307\n",
      "  (2, 2134)\t0.3830118959121056\n",
      "  :\t:\n",
      "  (4912, 1260)\t0.3859603034528079\n",
      "  (4912, 3057)\t0.29974581644817183\n",
      "  (4912, 86)\t0.4407325841589227\n",
      "  (4912, 1398)\t0.3318883680872814\n",
      "  (4913, 1355)\t0.11709012506870706\n",
      "  (4913, 354)\t0.07777063665043013\n",
      "  (4913, 1672)\t0.16920015022910104\n",
      "  (4913, 4210)\t0.15959785302726281\n",
      "  (4913, 1758)\t0.15395444175383602\n",
      "  (4913, 2364)\t0.1279974273683543\n",
      "  (4913, 3100)\t0.12794308102797788\n",
      "  (4913, 641)\t0.30550432582501347\n",
      "  (4913, 1395)\t0.13244450873449473\n",
      "  (4913, 3520)\t0.16224264674135855\n",
      "  (4913, 3557)\t0.13789605731844642\n",
      "  (4913, 2702)\t0.15282918833482545\n",
      "  (4913, 1475)\t0.31068766082490074\n",
      "  (4913, 1213)\t0.16815872182684136\n",
      "  (4913, 1888)\t0.15648990282057723\n",
      "  (4913, 2028)\t0.2642987410499605\n",
      "  (4913, 4033)\t0.18909356697093324\n",
      "  (4913, 182)\t0.2166067918892223\n",
      "  (4913, 4683)\t0.22673346193869273\n",
      "  (4913, 3377)\t0.4104189847803172\n",
      "  (4913, 3671)\t0.4104189847803172\n"
     ]
    }
   ],
   "source": [
    "# Això nomes per ara per visualitzar el resultat despres de TF-IDF. X : sparse matrix (4914,5000), sparse matrix es representa per coordenades ja que en gran part està buida\n",
    "print(X)"
   ]
  },
  {
   "cell_type": "code",
   "execution_count": 23,
   "id": "f8db055a",
   "metadata": {
    "ExecuteTime": {
     "end_time": "2024-12-10T11:44:33.115622Z",
     "start_time": "2024-12-10T11:44:33.101608Z"
    }
   },
   "outputs": [
    {
     "name": "stdout",
     "output_type": "stream",
     "text": [
      "0       1\n",
      "1       1\n",
      "2       1\n",
      "3       1\n",
      "4       1\n",
      "       ..\n",
      "4910    0\n",
      "4911    1\n",
      "4912    1\n",
      "4913    1\n",
      "4914    1\n",
      "Name: overall, Length: 4914, dtype: int64\n"
     ]
    }
   ],
   "source": [
    "print(y)"
   ]
  },
  {
   "cell_type": "code",
   "execution_count": 24,
   "id": "93e3ebf8a587c7ab",
   "metadata": {
    "ExecuteTime": {
     "end_time": "2024-12-10T11:44:54.272527Z",
     "start_time": "2024-12-10T11:44:54.230280Z"
    }
   },
   "outputs": [
    {
     "name": "stdout",
     "output_type": "stream",
     "text": [
      "2    4448\n",
      "0     324\n",
      "1     142\n",
      "Name: overall, dtype: int64\n",
      "Dataset ternario guardado como 'amazon_reviews_ternary.csv'\n"
     ]
    }
   ],
   "source": [
    "import pandas as pd\n",
    "\n",
    "# Cargar el dataset limpio\n",
    "dfCleaned = pd.read_csv('amazon_reviews_Cleaned.csv')\n",
    "\n",
    "# Crear el dataset ternario\n",
    "dfTernary = dfCleaned.copy()\n",
    "dfTernary['overall'] = dfTernary['overall'].apply(lambda x: 0 if x < 3 else (1 if x == 3 else 2))\n",
    "\n",
    "# Verificar la distribución de las etiquetas\n",
    "print(dfTernary['overall'].value_counts())\n",
    "\n",
    "# Guardar el nuevo dataset\n",
    "dfTernary.to_csv('amazon_reviews_ternary.csv', index=False)\n",
    "\n",
    "print(\"Dataset ternario guardado como 'amazon_reviews_ternary.csv'\")"
   ]
  },
  {
   "cell_type": "code",
   "execution_count": null,
   "id": "8e57e1e5c4ec1f98",
   "metadata": {
    "ExecuteTime": {
     "end_time": "2024-12-10T11:44:33.257283Z",
     "start_time": "2024-12-10T11:44:33.242285Z"
    }
   },
   "outputs": [],
   "source": []
  },
  {
   "cell_type": "code",
   "execution_count": null,
   "id": "f2f11b877c514aa3",
   "metadata": {
    "ExecuteTime": {
     "end_time": "2024-12-10T11:44:33.287283Z",
     "start_time": "2024-12-10T11:44:33.273284Z"
    }
   },
   "outputs": [],
   "source": []
  },
  {
   "cell_type": "code",
   "execution_count": null,
   "id": "d65a8a54",
   "metadata": {
    "ExecuteTime": {
     "end_time": "2024-12-10T11:44:33.319289Z",
     "start_time": "2024-12-10T11:44:33.304286Z"
    }
   },
   "outputs": [],
   "source": []
  },
  {
   "cell_type": "code",
   "execution_count": null,
   "id": "5b5c69de",
   "metadata": {
    "ExecuteTime": {
     "end_time": "2024-12-10T11:44:33.350805Z",
     "start_time": "2024-12-10T11:44:33.335803Z"
    }
   },
   "outputs": [],
   "source": []
  },
  {
   "cell_type": "code",
   "execution_count": null,
   "id": "7bdcc3f0",
   "metadata": {
    "ExecuteTime": {
     "end_time": "2024-12-10T11:44:33.381802Z",
     "start_time": "2024-12-10T11:44:33.366802Z"
    }
   },
   "outputs": [],
   "source": []
  },
  {
   "cell_type": "code",
   "execution_count": null,
   "id": "5b8b1fc6",
   "metadata": {
    "ExecuteTime": {
     "end_time": "2024-12-10T11:44:33.412805Z",
     "start_time": "2024-12-10T11:44:33.397803Z"
    }
   },
   "outputs": [],
   "source": []
  },
  {
   "cell_type": "code",
   "execution_count": null,
   "id": "3bc0b620",
   "metadata": {
    "ExecuteTime": {
     "end_time": "2024-12-10T11:44:33.444189Z",
     "start_time": "2024-12-10T11:44:33.429189Z"
    }
   },
   "outputs": [],
   "source": []
  }
 ],
 "metadata": {
  "kernelspec": {
   "display_name": "Python 3",
   "language": "python",
   "name": "python3"
  },
  "language_info": {
   "codemirror_mode": {
    "name": "ipython",
    "version": 3
   },
   "file_extension": ".py",
   "mimetype": "text/x-python",
   "name": "python",
   "nbconvert_exporter": "python",
   "pygments_lexer": "ipython3",
   "version": "3.11.2"
  }
 },
 "nbformat": 4,
 "nbformat_minor": 5
}
